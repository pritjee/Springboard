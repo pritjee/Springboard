{
 "cells": [
  {
   "cell_type": "markdown",
   "metadata": {},
   "source": [
    "# Fake Job Postings Detection"
   ]
  },
  {
   "cell_type": "markdown",
   "metadata": {},
   "source": [
    "#### Importing libraries"
   ]
  },
  {
   "cell_type": "code",
   "execution_count": 1,
   "metadata": {},
   "outputs": [],
   "source": [
    "import numpy as np \n",
    "import pandas as pd \n",
    "import seaborn as sns\n",
    "import matplotlib.pyplot as plt\n",
    "%matplotlib inline\n",
    "from io import StringIO  \n",
    "from IPython.display import Image  \n",
    "import pydotplus\n",
    "import graphviz\n",
    "from sklearn.tree import export_graphviz\n",
    "from sklearn import tree, metrics"
   ]
  },
  {
   "cell_type": "markdown",
   "metadata": {},
   "source": [
    "#### Data Wrangling "
   ]
  },
  {
   "cell_type": "code",
   "execution_count": 2,
   "metadata": {},
   "outputs": [
    {
     "data": {
      "text/html": [
       "<div>\n",
       "<style scoped>\n",
       "    .dataframe tbody tr th:only-of-type {\n",
       "        vertical-align: middle;\n",
       "    }\n",
       "\n",
       "    .dataframe tbody tr th {\n",
       "        vertical-align: top;\n",
       "    }\n",
       "\n",
       "    .dataframe thead th {\n",
       "        text-align: right;\n",
       "    }\n",
       "</style>\n",
       "<table border=\"1\" class=\"dataframe\">\n",
       "  <thead>\n",
       "    <tr style=\"text-align: right;\">\n",
       "      <th></th>\n",
       "      <th>job_id</th>\n",
       "      <th>title</th>\n",
       "      <th>location</th>\n",
       "      <th>department</th>\n",
       "      <th>salary_range</th>\n",
       "      <th>company_profile</th>\n",
       "      <th>description</th>\n",
       "      <th>requirements</th>\n",
       "      <th>benefits</th>\n",
       "      <th>telecommuting</th>\n",
       "      <th>has_company_logo</th>\n",
       "      <th>has_questions</th>\n",
       "      <th>employment_type</th>\n",
       "      <th>required_experience</th>\n",
       "      <th>required_education</th>\n",
       "      <th>industry</th>\n",
       "      <th>function</th>\n",
       "      <th>fraudulent</th>\n",
       "    </tr>\n",
       "  </thead>\n",
       "  <tbody>\n",
       "    <tr>\n",
       "      <th>0</th>\n",
       "      <td>1</td>\n",
       "      <td>Marketing Intern</td>\n",
       "      <td>US, NY, New York</td>\n",
       "      <td>Marketing</td>\n",
       "      <td>NaN</td>\n",
       "      <td>We're Food52, and we've created a groundbreaki...</td>\n",
       "      <td>Food52, a fast-growing, James Beard Award-winn...</td>\n",
       "      <td>Experience with content management systems a m...</td>\n",
       "      <td>NaN</td>\n",
       "      <td>0</td>\n",
       "      <td>1</td>\n",
       "      <td>0</td>\n",
       "      <td>Other</td>\n",
       "      <td>Internship</td>\n",
       "      <td>NaN</td>\n",
       "      <td>NaN</td>\n",
       "      <td>Marketing</td>\n",
       "      <td>0</td>\n",
       "    </tr>\n",
       "    <tr>\n",
       "      <th>1</th>\n",
       "      <td>2</td>\n",
       "      <td>Customer Service - Cloud Video Production</td>\n",
       "      <td>NZ, , Auckland</td>\n",
       "      <td>Success</td>\n",
       "      <td>NaN</td>\n",
       "      <td>90 Seconds, the worlds Cloud Video Production ...</td>\n",
       "      <td>Organised - Focused - Vibrant - Awesome!Do you...</td>\n",
       "      <td>What we expect from you:Your key responsibilit...</td>\n",
       "      <td>What you will get from usThrough being part of...</td>\n",
       "      <td>0</td>\n",
       "      <td>1</td>\n",
       "      <td>0</td>\n",
       "      <td>Full-time</td>\n",
       "      <td>Not Applicable</td>\n",
       "      <td>NaN</td>\n",
       "      <td>Marketing and Advertising</td>\n",
       "      <td>Customer Service</td>\n",
       "      <td>0</td>\n",
       "    </tr>\n",
       "    <tr>\n",
       "      <th>2</th>\n",
       "      <td>3</td>\n",
       "      <td>Commissioning Machinery Assistant (CMA)</td>\n",
       "      <td>US, IA, Wever</td>\n",
       "      <td>NaN</td>\n",
       "      <td>NaN</td>\n",
       "      <td>Valor Services provides Workforce Solutions th...</td>\n",
       "      <td>Our client, located in Houston, is actively se...</td>\n",
       "      <td>Implement pre-commissioning and commissioning ...</td>\n",
       "      <td>NaN</td>\n",
       "      <td>0</td>\n",
       "      <td>1</td>\n",
       "      <td>0</td>\n",
       "      <td>NaN</td>\n",
       "      <td>NaN</td>\n",
       "      <td>NaN</td>\n",
       "      <td>NaN</td>\n",
       "      <td>NaN</td>\n",
       "      <td>0</td>\n",
       "    </tr>\n",
       "    <tr>\n",
       "      <th>3</th>\n",
       "      <td>4</td>\n",
       "      <td>Account Executive - Washington DC</td>\n",
       "      <td>US, DC, Washington</td>\n",
       "      <td>Sales</td>\n",
       "      <td>NaN</td>\n",
       "      <td>Our passion for improving quality of life thro...</td>\n",
       "      <td>THE COMPANY: ESRI – Environmental Systems Rese...</td>\n",
       "      <td>EDUCATION: Bachelor’s or Master’s in GIS, busi...</td>\n",
       "      <td>Our culture is anything but corporate—we have ...</td>\n",
       "      <td>0</td>\n",
       "      <td>1</td>\n",
       "      <td>0</td>\n",
       "      <td>Full-time</td>\n",
       "      <td>Mid-Senior level</td>\n",
       "      <td>Bachelor's Degree</td>\n",
       "      <td>Computer Software</td>\n",
       "      <td>Sales</td>\n",
       "      <td>0</td>\n",
       "    </tr>\n",
       "    <tr>\n",
       "      <th>4</th>\n",
       "      <td>5</td>\n",
       "      <td>Bill Review Manager</td>\n",
       "      <td>US, FL, Fort Worth</td>\n",
       "      <td>NaN</td>\n",
       "      <td>NaN</td>\n",
       "      <td>SpotSource Solutions LLC is a Global Human Cap...</td>\n",
       "      <td>JOB TITLE: Itemization Review ManagerLOCATION:...</td>\n",
       "      <td>QUALIFICATIONS:RN license in the State of Texa...</td>\n",
       "      <td>Full Benefits Offered</td>\n",
       "      <td>0</td>\n",
       "      <td>1</td>\n",
       "      <td>1</td>\n",
       "      <td>Full-time</td>\n",
       "      <td>Mid-Senior level</td>\n",
       "      <td>Bachelor's Degree</td>\n",
       "      <td>Hospital &amp; Health Care</td>\n",
       "      <td>Health Care Provider</td>\n",
       "      <td>0</td>\n",
       "    </tr>\n",
       "  </tbody>\n",
       "</table>\n",
       "</div>"
      ],
      "text/plain": [
       "   job_id                                      title            location  \\\n",
       "0       1                           Marketing Intern    US, NY, New York   \n",
       "1       2  Customer Service - Cloud Video Production      NZ, , Auckland   \n",
       "2       3    Commissioning Machinery Assistant (CMA)       US, IA, Wever   \n",
       "3       4          Account Executive - Washington DC  US, DC, Washington   \n",
       "4       5                        Bill Review Manager  US, FL, Fort Worth   \n",
       "\n",
       "  department salary_range                                    company_profile  \\\n",
       "0  Marketing          NaN  We're Food52, and we've created a groundbreaki...   \n",
       "1    Success          NaN  90 Seconds, the worlds Cloud Video Production ...   \n",
       "2        NaN          NaN  Valor Services provides Workforce Solutions th...   \n",
       "3      Sales          NaN  Our passion for improving quality of life thro...   \n",
       "4        NaN          NaN  SpotSource Solutions LLC is a Global Human Cap...   \n",
       "\n",
       "                                         description  \\\n",
       "0  Food52, a fast-growing, James Beard Award-winn...   \n",
       "1  Organised - Focused - Vibrant - Awesome!Do you...   \n",
       "2  Our client, located in Houston, is actively se...   \n",
       "3  THE COMPANY: ESRI – Environmental Systems Rese...   \n",
       "4  JOB TITLE: Itemization Review ManagerLOCATION:...   \n",
       "\n",
       "                                        requirements  \\\n",
       "0  Experience with content management systems a m...   \n",
       "1  What we expect from you:Your key responsibilit...   \n",
       "2  Implement pre-commissioning and commissioning ...   \n",
       "3  EDUCATION: Bachelor’s or Master’s in GIS, busi...   \n",
       "4  QUALIFICATIONS:RN license in the State of Texa...   \n",
       "\n",
       "                                            benefits  telecommuting  \\\n",
       "0                                                NaN              0   \n",
       "1  What you will get from usThrough being part of...              0   \n",
       "2                                                NaN              0   \n",
       "3  Our culture is anything but corporate—we have ...              0   \n",
       "4                              Full Benefits Offered              0   \n",
       "\n",
       "   has_company_logo  has_questions employment_type required_experience  \\\n",
       "0                 1              0           Other          Internship   \n",
       "1                 1              0       Full-time      Not Applicable   \n",
       "2                 1              0             NaN                 NaN   \n",
       "3                 1              0       Full-time    Mid-Senior level   \n",
       "4                 1              1       Full-time    Mid-Senior level   \n",
       "\n",
       "  required_education                   industry              function  \\\n",
       "0                NaN                        NaN             Marketing   \n",
       "1                NaN  Marketing and Advertising      Customer Service   \n",
       "2                NaN                        NaN                   NaN   \n",
       "3  Bachelor's Degree          Computer Software                 Sales   \n",
       "4  Bachelor's Degree     Hospital & Health Care  Health Care Provider   \n",
       "\n",
       "   fraudulent  \n",
       "0           0  \n",
       "1           0  \n",
       "2           0  \n",
       "3           0  \n",
       "4           0  "
      ]
     },
     "execution_count": 2,
     "metadata": {},
     "output_type": "execute_result"
    }
   ],
   "source": [
    "df=pd.read_csv('fake_job_postings.csv')\n",
    "df.head()"
   ]
  },
  {
   "cell_type": "code",
   "execution_count": 3,
   "metadata": {},
   "outputs": [
    {
     "data": {
      "text/plain": [
       "(17880, 18)"
      ]
     },
     "execution_count": 3,
     "metadata": {},
     "output_type": "execute_result"
    }
   ],
   "source": [
    "df.shape"
   ]
  },
  {
   "cell_type": "code",
   "execution_count": 4,
   "metadata": {},
   "outputs": [
    {
     "name": "stdout",
     "output_type": "stream",
     "text": [
      "<class 'pandas.core.frame.DataFrame'>\n",
      "RangeIndex: 17880 entries, 0 to 17879\n",
      "Data columns (total 18 columns):\n",
      " #   Column               Non-Null Count  Dtype \n",
      "---  ------               --------------  ----- \n",
      " 0   job_id               17880 non-null  int64 \n",
      " 1   title                17880 non-null  object\n",
      " 2   location             17534 non-null  object\n",
      " 3   department           6333 non-null   object\n",
      " 4   salary_range         2868 non-null   object\n",
      " 5   company_profile      14572 non-null  object\n",
      " 6   description          17879 non-null  object\n",
      " 7   requirements         15185 non-null  object\n",
      " 8   benefits             10670 non-null  object\n",
      " 9   telecommuting        17880 non-null  int64 \n",
      " 10  has_company_logo     17880 non-null  int64 \n",
      " 11  has_questions        17880 non-null  int64 \n",
      " 12  employment_type      14409 non-null  object\n",
      " 13  required_experience  10830 non-null  object\n",
      " 14  required_education   9775 non-null   object\n",
      " 15  industry             12977 non-null  object\n",
      " 16  function             11425 non-null  object\n",
      " 17  fraudulent           17880 non-null  int64 \n",
      "dtypes: int64(5), object(13)\n",
      "memory usage: 2.5+ MB\n"
     ]
    }
   ],
   "source": [
    "df.info()"
   ]
  },
  {
   "cell_type": "code",
   "execution_count": 5,
   "metadata": {},
   "outputs": [
    {
     "data": {
      "text/html": [
       "<div>\n",
       "<style scoped>\n",
       "    .dataframe tbody tr th:only-of-type {\n",
       "        vertical-align: middle;\n",
       "    }\n",
       "\n",
       "    .dataframe tbody tr th {\n",
       "        vertical-align: top;\n",
       "    }\n",
       "\n",
       "    .dataframe thead th {\n",
       "        text-align: right;\n",
       "    }\n",
       "</style>\n",
       "<table border=\"1\" class=\"dataframe\">\n",
       "  <thead>\n",
       "    <tr style=\"text-align: right;\">\n",
       "      <th></th>\n",
       "      <th>job_id</th>\n",
       "      <th>telecommuting</th>\n",
       "      <th>has_company_logo</th>\n",
       "      <th>has_questions</th>\n",
       "      <th>fraudulent</th>\n",
       "    </tr>\n",
       "  </thead>\n",
       "  <tbody>\n",
       "    <tr>\n",
       "      <th>count</th>\n",
       "      <td>17880.000000</td>\n",
       "      <td>17880.000000</td>\n",
       "      <td>17880.000000</td>\n",
       "      <td>17880.000000</td>\n",
       "      <td>17880.000000</td>\n",
       "    </tr>\n",
       "    <tr>\n",
       "      <th>mean</th>\n",
       "      <td>8940.500000</td>\n",
       "      <td>0.042897</td>\n",
       "      <td>0.795302</td>\n",
       "      <td>0.491723</td>\n",
       "      <td>0.048434</td>\n",
       "    </tr>\n",
       "    <tr>\n",
       "      <th>std</th>\n",
       "      <td>5161.655742</td>\n",
       "      <td>0.202631</td>\n",
       "      <td>0.403492</td>\n",
       "      <td>0.499945</td>\n",
       "      <td>0.214688</td>\n",
       "    </tr>\n",
       "    <tr>\n",
       "      <th>min</th>\n",
       "      <td>1.000000</td>\n",
       "      <td>0.000000</td>\n",
       "      <td>0.000000</td>\n",
       "      <td>0.000000</td>\n",
       "      <td>0.000000</td>\n",
       "    </tr>\n",
       "    <tr>\n",
       "      <th>25%</th>\n",
       "      <td>4470.750000</td>\n",
       "      <td>0.000000</td>\n",
       "      <td>1.000000</td>\n",
       "      <td>0.000000</td>\n",
       "      <td>0.000000</td>\n",
       "    </tr>\n",
       "    <tr>\n",
       "      <th>50%</th>\n",
       "      <td>8940.500000</td>\n",
       "      <td>0.000000</td>\n",
       "      <td>1.000000</td>\n",
       "      <td>0.000000</td>\n",
       "      <td>0.000000</td>\n",
       "    </tr>\n",
       "    <tr>\n",
       "      <th>75%</th>\n",
       "      <td>13410.250000</td>\n",
       "      <td>0.000000</td>\n",
       "      <td>1.000000</td>\n",
       "      <td>1.000000</td>\n",
       "      <td>0.000000</td>\n",
       "    </tr>\n",
       "    <tr>\n",
       "      <th>max</th>\n",
       "      <td>17880.000000</td>\n",
       "      <td>1.000000</td>\n",
       "      <td>1.000000</td>\n",
       "      <td>1.000000</td>\n",
       "      <td>1.000000</td>\n",
       "    </tr>\n",
       "  </tbody>\n",
       "</table>\n",
       "</div>"
      ],
      "text/plain": [
       "             job_id  telecommuting  has_company_logo  has_questions  \\\n",
       "count  17880.000000   17880.000000      17880.000000   17880.000000   \n",
       "mean    8940.500000       0.042897          0.795302       0.491723   \n",
       "std     5161.655742       0.202631          0.403492       0.499945   \n",
       "min        1.000000       0.000000          0.000000       0.000000   \n",
       "25%     4470.750000       0.000000          1.000000       0.000000   \n",
       "50%     8940.500000       0.000000          1.000000       0.000000   \n",
       "75%    13410.250000       0.000000          1.000000       1.000000   \n",
       "max    17880.000000       1.000000          1.000000       1.000000   \n",
       "\n",
       "         fraudulent  \n",
       "count  17880.000000  \n",
       "mean       0.048434  \n",
       "std        0.214688  \n",
       "min        0.000000  \n",
       "25%        0.000000  \n",
       "50%        0.000000  \n",
       "75%        0.000000  \n",
       "max        1.000000  "
      ]
     },
     "execution_count": 5,
     "metadata": {},
     "output_type": "execute_result"
    }
   ],
   "source": [
    "df.describe()"
   ]
  },
  {
   "cell_type": "markdown",
   "metadata": {},
   "source": [
    "Let's do the qualitative and quantative analysis:"
   ]
  },
  {
   "cell_type": "code",
   "execution_count": 6,
   "metadata": {},
   "outputs": [
    {
     "data": {
      "text/plain": [
       "job_id                 17880\n",
       "title                  11231\n",
       "location                3105\n",
       "department              1337\n",
       "salary_range             874\n",
       "company_profile         1709\n",
       "description            14801\n",
       "requirements           11968\n",
       "benefits                6205\n",
       "telecommuting              2\n",
       "has_company_logo           2\n",
       "has_questions              2\n",
       "employment_type            5\n",
       "required_experience        7\n",
       "required_education        13\n",
       "industry                 131\n",
       "function                  37\n",
       "fraudulent                 2\n",
       "dtype: int64"
      ]
     },
     "execution_count": 6,
     "metadata": {},
     "output_type": "execute_result"
    }
   ],
   "source": [
    "df.nunique()"
   ]
  },
  {
   "cell_type": "code",
   "execution_count": 7,
   "metadata": {},
   "outputs": [
    {
     "data": {
      "text/plain": [
       "1709"
      ]
     },
     "execution_count": 7,
     "metadata": {},
     "output_type": "execute_result"
    }
   ],
   "source": [
    "df['company_profile'].nunique()"
   ]
  },
  {
   "cell_type": "code",
   "execution_count": 8,
   "metadata": {},
   "outputs": [
    {
     "data": {
      "text/plain": [
       "We help teachers get safe &amp; secure jobs abroad :)                                                                                                                                                                                                                                                                                                                                                                                                                                                                                                                                                                                                                                                                                                                                                                                                                                                                                                                                                                                                                                                                                                                                                                                                                                              726\n",
       "We Provide Full Time Permanent Positions for many medium to large US companies. We are interested in finding/recruiting high quality candidates in IT, Engineering, Manufacturing and other highly technical and non-technical jobs.                                                                                                                                                                                                                                                                                                                                                                                                                                                                                                                                                                                                                                                                                                                                                                                                                                                                                                                                                                                                                                                               674\n",
       "Novitex Enterprise Solutions, formerly Pitney Bowes Management Services, delivers innovative document and communications management solutions that help companies around the world drive business process efficiencies, increase productivity, reduce costs and improve customer satisfaction. For almost 30 years, clients have turned to us to integrate and optimize their enterprise-wide business processes to empower employees, increase productivity and maximize results. As a trusted partner, we continually focus on delivering secure, technology-enabled document and communications solutions that improve our clients' work processes, enhance their customer interactions and drive growth.                                                                                                                                                                                                                                                                                                                                                                                                                                                                                                                                                                                       574\n",
       "Established on the principles that full time education is not for everyone Spectrum Learning is made up of a team of passionate consultants with the drive for putting people who wish to grow themselves through education whilst working into long term and relevant job roles.We also are official re-sellers for The Institute of Recruiters/ Study Course professional courses in HR Practice, In-House Recruitment and Agency RecruitmentIt is our mission to help anyone wishing to pursue an apprenticeship onto the right qualification and into the right job.We work closely with both the candidate and the employer to ensure when the learner is enrolled they are at the start of a long and successful career.We have great relationships with a number of national training providers to ensure we can cover any apprenticeship available.                                                                                                                                                                                                                                                                                                                                                                                                                                        450\n",
       "Applied Memetics LLC is a professional services company dedicated to integrating and delivering best practice communication and information solutions in pre-conflict, conflict, or post-conflict areas.  The world has changed: ‘always on’ brands require a new way of thinking to engage and manage their consumers. Our purpose is to inspire original thinking through a deeper understanding of technology and human behaviour.  From strategy through to implementation, our teams of connected specialists – all experts in their respective fields – work together to help our clients maximise the opportunities created by the changing digital world and create a multi faceted digital strategy through to implementation.Our work explores a new model of journalism that is based around a global story – in this case, the struggle for human rights and democracy around the world. Our goal is to build a better user experience of these stories by adding context to content, using the latest digital tools of the day. Over time, we hope to add greater clarity, deeper understanding, and more sustained engagement to the conversations surrounding global events. As such, our content is transcribed and translated into English for broadcast to a global audience.    185\n",
       "                                                                                                                                                                                                                                                                                                                                                                                                                                                                                                                                                                                                                                                                                                                                                                                                                                                                                                                                                                                                                                                                                                                                                                                                                                                                                                  ... \n",
       "Flexibility is key at bwired! Each role in the bwired structure is able to, and will need to as required, perform other roles in the structure in order to deliver the best possible result in a timely manner for our clients.Our work attitude is steeped in the bwired tradition of a flat structure - as a team of teams, we are highly collaborative, we focus on tasks that need to be performed, rather than titles, and we are each a resource to each other working toward the best possible delivery experience for our clients and each other.                                                                                                                                                                                                                                                                                                                                                                                                                                                                                                                                                                                                                                                                                                                                            1\n",
       "Stories by RELFrom 5,000 feet, we look like a media company. If you look close, our greatest strength is producing video. If you find our sweet spot, we are really into agriculture. If you pin us down, we value quality and work hard to deliver as much as we can. If we had a wish, we would be doing this (with an unlimited budget and no deadlines). If you sum us up, we make stories.Produce the story.Every project starts as an idea and ends as a finished product. Producing starts someplace after “idea” and ends when the client is happy with the finished product. Everything in-between is a variable. Our focus is taking that idea and helping our clients get it to an end product they can be proud of.Let’s get our hands dirty.We believe in hard work, but we also believe in working smart. If we have learned anything in nearly 20 years…you need to have processes, technology and workflows…that can be managed and operated efficiently, that are client friendly and are able handle most anything thrown at them. You will understand it when you see it. The tour is free.                                                                                                                                                                                       1\n",
       "Niume - #URL_e06648815acd73292232d21a27c09a4ba49bd2cf5bc35ad55cbf175b5061596b#Niume is an interest-based social network that is born out of the need for a quality driven social network in which users are motivated to share high quality content and to pursue their passions. Niume allows users to access and manage all of their interests from a single platform, to connect with new people who share their passions and to discover new interests through them.Niume is innovating every day thanks to its enthousiastic, charismatic and united team.Wanna be part of it? A team that wants to change the way people pursue their interests? Do you have what it takes? Are you willing to go the extra mile?                                                                                                                                                                                                                                                                                                                                                                                                                                                                                                                                                                              1\n",
       "GRNET provides high-quality international and national networking and computational services to the Greek academic &amp; research institutions. It currently runs a 9000 km owned dark fiber network with several 10 Gbps connections to 50 Institutions. An active member of the consortium operating GÉANT, the pan-European communications infrastructure, GRNET is currently connected to it with 4x10Gbps connections.  GRNET operates large datacenters (400 servers, 30000 VMs, several Petabytes storage) providing a variety of novel e-services for the whole academic and research community (from infrastructure as a service and software as a service, to textbook management, Academic IDs, ePresence, eVoting etc.).                                                                                                                                                                                                                                                                                                                                                                                                                                                                                                                                                                 1\n",
       "AZCO INC. is an employee-owned, full service industrial constructor and pipe and metal fabricator, capable of self-performing a wide range of general construction and mechanical #URL_17774ea44a611357f656e750e79888644d566fc81dc57eb6cf4e50e8db3f87e6# in Menasha, WI, AZCO performs its work throughout the United States serving the power generation, refinery and petrochemical, food and beverage, general manufacturing and pulp and paper #URL_dc0d71b0e11b54d6a7a262fe762878af4bb5e235334b3cfb42ba93f9e0c3d3a2# INC. started business in 1949 with four individuals who identified a need for quality mechanical contractors in the Fox Valley initially serving the pulp and paper industry the region is known #URL_f0bd35cbc474c4fdbe7e7dc171685fd49cf603e6d3a04cd709a8f12c0ac214ac#, AZCO INC. employs over one hundred individuals in the Fox Valley, working with over 500 union craftsmen nationwide. AZCO INC. provides heavy industrial construction and fabrication services to the national marketplace with projects most recently completed in New York, New Hampshire, Wisconsin, Minnesota, the Dakotas, Missouri, Colorado and California.                                                                                                                                 1\n",
       "Name: company_profile, Length: 1709, dtype: int64"
      ]
     },
     "execution_count": 8,
     "metadata": {},
     "output_type": "execute_result"
    }
   ],
   "source": [
    "df['company_profile'].value_counts()"
   ]
  },
  {
   "cell_type": "code",
   "execution_count": 9,
   "metadata": {},
   "outputs": [],
   "source": [
    "df['company_profile'].fillna(df['company_profile'].ffill(),inplace=True)"
   ]
  },
  {
   "cell_type": "code",
   "execution_count": 10,
   "metadata": {},
   "outputs": [
    {
     "data": {
      "text/plain": [
       "1709"
      ]
     },
     "execution_count": 10,
     "metadata": {},
     "output_type": "execute_result"
    }
   ],
   "source": [
    "df['company_profile'].nunique()"
   ]
  },
  {
   "cell_type": "code",
   "execution_count": 11,
   "metadata": {},
   "outputs": [
    {
     "data": {
      "text/plain": [
       "0    17014\n",
       "1      866\n",
       "Name: fraudulent, dtype: int64"
      ]
     },
     "execution_count": 11,
     "metadata": {},
     "output_type": "execute_result"
    }
   ],
   "source": [
    "df['fraudulent'].value_counts()"
   ]
  },
  {
   "cell_type": "code",
   "execution_count": 12,
   "metadata": {},
   "outputs": [
    {
     "data": {
      "text/plain": [
       "0    17113\n",
       "1      767\n",
       "Name: telecommuting, dtype: int64"
      ]
     },
     "execution_count": 12,
     "metadata": {},
     "output_type": "execute_result"
    }
   ],
   "source": [
    "df['telecommuting'].value_counts()"
   ]
  },
  {
   "cell_type": "code",
   "execution_count": 13,
   "metadata": {},
   "outputs": [
    {
     "data": {
      "text/plain": [
       "English Teacher Abroad                                311\n",
       "Customer Service Associate                            146\n",
       "Graduates: English Teacher Abroad (Conversational)    144\n",
       "English Teacher Abroad                                 95\n",
       "Software Engineer                                      86\n",
       "                                                     ... \n",
       "Registered General Nurse (RN Adults)                    1\n",
       "Medical Receptionist - Casual                           1\n",
       "Senior Channel Account Manager                          1\n",
       "Software Engineer - Audio Recognition                   1\n",
       "Principal Creative Engineer                             1\n",
       "Name: title, Length: 11231, dtype: int64"
      ]
     },
     "execution_count": 13,
     "metadata": {},
     "output_type": "execute_result"
    }
   ],
   "source": [
    "df['title'].value_counts()"
   ]
  },
  {
   "cell_type": "code",
   "execution_count": 14,
   "metadata": {},
   "outputs": [
    {
     "data": {
      "text/plain": [
       "GB, LND, London            718\n",
       "US, NY, New York           658\n",
       "US, CA, San Francisco      472\n",
       "GR, I, Athens              464\n",
       "US, ,                      339\n",
       "                          ... \n",
       "MX, DIF, México              1\n",
       "US, NY, new                  1\n",
       "IN, AP, Vishakhapatanam      1\n",
       "IN, KL, Cochin               1\n",
       "US, FL, Port St. Lucie       1\n",
       "Name: location, Length: 3105, dtype: int64"
      ]
     },
     "execution_count": 14,
     "metadata": {},
     "output_type": "execute_result"
    }
   ],
   "source": [
    "df['location'].value_counts()"
   ]
  },
  {
   "cell_type": "code",
   "execution_count": 15,
   "metadata": {},
   "outputs": [
    {
     "data": {
      "text/plain": [
       "3105"
      ]
     },
     "execution_count": 15,
     "metadata": {},
     "output_type": "execute_result"
    }
   ],
   "source": [
    "df['location'].nunique()"
   ]
  },
  {
   "cell_type": "code",
   "execution_count": 16,
   "metadata": {},
   "outputs": [],
   "source": [
    "df['location'].fillna(df['location'].ffill(),inplace=True)"
   ]
  },
  {
   "cell_type": "code",
   "execution_count": 17,
   "metadata": {},
   "outputs": [
    {
     "data": {
      "text/plain": [
       "GB, LND, London            732\n",
       "US, NY, New York           679\n",
       "US, CA, San Francisco      483\n",
       "GR, I, Athens              472\n",
       "US, ,                      345\n",
       "                          ... \n",
       "US, AZ, Glendale             1\n",
       "MX, DIF, México              1\n",
       "US, NY, new                  1\n",
       "IN, AP, Vishakhapatanam      1\n",
       "US, FL, Port St. Lucie       1\n",
       "Name: location, Length: 3105, dtype: int64"
      ]
     },
     "execution_count": 17,
     "metadata": {},
     "output_type": "execute_result"
    }
   ],
   "source": [
    "df['location'].value_counts()"
   ]
  },
  {
   "cell_type": "code",
   "execution_count": 18,
   "metadata": {},
   "outputs": [
    {
     "data": {
      "text/plain": [
       "Play with kids, get paid for it Love travel? Jobs in Asia$1,500+ USD monthly ($200 Cost of living)Housing provided (Private/Furnished)Airfare ReimbursedExcellent for student loans/credit cardsGabriel Adkins : #URL_ed9094c60184b8a4975333957f05be37e69d3cdb68decc9dd9a4242733cfd7f7##URL_75db76d58f7994c7db24e8998c2fc953ab9a20ea9ac948b217693963f78d2e6b#12 month contract : Apply today                                                                                                                                                                                                                                                                                                                                                                                                                                                                                                                                                                                                                                                                                                                                                                                                                                                                                                                                                                                                                                                                                                                                                                                                                                                                                                                                                                                                                                                                                                                                                                                                                                                                                                                                                                                                                                                                                                                                                                                                                                                                                                                                                                                                                                                                                                                                                                                                                                                                                                                                                                                                                                                                                                                                                                                                                                                                                          379\n",
       "Play with kids, get paid for it :-)Love travel? Jobs in Asia$1500 USD + monthly ($200 Cost of living)Housing providedAirfare ReimbursedExcellent for student loans/credit cardsGabriel Adkins : #URL_ed9094c60184b8a4975333957f05be37e69d3cdb68decc9dd9a4242733cfd7f7##URL_75db76d58f7994c7db24e8998c2fc953ab9a20ea9ac948b217693963f78d2e6b#                                                                                                                                                                                                                                                                                                                                                                                                                                                                                                                                                                                                                                                                                                                                                                                                                                                                                                                                                                                                                                                                                                                                                                                                                                                                                                                                                                                                                                                                                                                                                                                                                                                                                                                                                                                                                                                                                                                                                                                                                                                                                                                                                                                                                                                                                                                                                                                                                                                                                                                                                                                                                                                                                                                                                                                                                                                                                                                                           66\n",
       "Play with kids, get paid for it Love travel? Jobs in Asia$1500 USD + monthly ($200 Cost of living)Excellent for student loans/credit cardsHousing provided (Furnished/Private)Airfare ReimbursedRemind us when you wanted to start when applying :-)                                                                                                                                                                                                                                                                                                                                                                                                                                                                                                                                                                                                                                                                                                                                                                                                                                                                                                                                                                                                                                                                                                                                                                                                                                                                                                                                                                                                                                                                                                                                                                                                                                                                                                                                                                                                                                                                                                                                                                                                                                                                                                                                                                                                                                                                                                                                                                                                                                                                                                                                                                                                                                                                                                                                                                                                                                                                                                                                                                                                                                   46\n",
       "The International Broadcaster shall properly complete all daily tasks. These daily tasks include but are not limited to: preparing for assignments (fails not more than once per week); revising video packages (fails not more than twice per week); correcting production errors in stories (fails not more than twice per week); properly creating line-ups and logs (fails not more than once per week).                                                                                                                                                                                                                                                                                                                                                                                                                                                                                                                                                                                                                                                                                                                                                                                                                                                                                                                                                                                                                                                                                                                                                                                                                                                                                                                                                                                                                                                                                                                                                                                                                                                                                                                                                                                                                                                                                                                                                                                                                                                                                                                                                                                                                                                                                                                                                                                                                                                                                                                                                                                                                                                                                                                                                                                                                                                                           33\n",
       "Play with kids, get paid for it :-)Love travel? Jobs in Asia$1500 USD + monthly ($200 Cost of living)Housing providedAirfare ReimbursedExcellent for student loans/credit cardsGabriel Adkins (#URL_ed9094c60184b8a4975333957f05be37e69d3cdb68decc9dd9a4242733cfd7f7#)#URL_75db76d58f7994c7db24e8998c2fc953ab9a20ea9ac948b217693963f78d2e6b#                                                                                                                                                                                                                                                                                                                                                                                                                                                                                                                                                                                                                                                                                                                                                                                                                                                                                                                                                                                                                                                                                                                                                                                                                                                                                                                                                                                                                                                                                                                                                                                                                                                                                                                                                                                                                                                                                                                                                                                                                                                                                                                                                                                                                                                                                                                                                                                                                                                                                                                                                                                                                                                                                                                                                                                                                                                                                                                                           32\n",
       "                                                                                                                                                                                                                                                                                                                                                                                                                                                                                                                                                                                                                                                                                                                                                                                                                                                                                                                                                                                                                                                                                                                                                                                                                                                                                                                                                                                                                                                                                                                                                                                                                                                                                                                                                                                                                                                                                                                                                                                                                                                                                                                                                                                                                                                                                                                                                                                                                                                                                                                                                                                                                                                                                                                                                                                                                                                                                                                                                                                                                                                                                                                                                                                                                                                                                     ... \n",
       "Dropoff is currently hiring drivers – or “Agents”, as we call them.  If you know your way around Houston, share our passion for service, seek a flexible work schedule and like using the latest mobile tech, we’ve got the job for you!Your mission, should you choose to accept it:  To deliver packages with exceptional attention to service, while earning great pay with a flexible schedule!EARN $20 AND UP PER HOUREarn $20 and up per hour every day consistently, not just during surges.DRIVE PACKAGES, NOT PEOPLEYou can feel safe delivering packages and never have to worry about who's getting into your car.DRIVE DURING THE DAYTIMEWork and earn $$ during the daytime, and leave your nights free for whatever you want.FLEXIBLE HOURSWork full time or part time, the choice is yours.GET PAID WEEKLYGet paid every weekWE WANT AGENT FEEDBACKWe know that you're on the front lines, so we listen to you and give you the tools you need to succeed.ARMED WITH THE LATEST MOBILE TECHSimplify your daily grind by using your smartphone to easily accept jobs and route deliveries.OUR AGENTSYou are a people person, someone who makes friends easily and enjoys interacting with a wide variety of personalities.You understand the urgency of business delivery are willing to go the extra mile to provide great service.You are comfortable with mobile apps and using your phone to navigate the streets and highways of Austin.You are over 21 with a clean driving record and prepared for us to confirm via a background check.As independent contractor partners, our Dropoff Agents can consistently earn over $20 per hour.We're also interviewing for Full Time Employee (FTE) driver Agents who would qualify for healthcare benefits with opportunities to advance with the company as we grow. Qualified FTE's will drive company vehicles.                                                                                                                                                                                                                                                                                                                                                                                                                                                                                                                                                                                                                                                                                                                                                                                                                                                                                                                                                                                                                                                                                                                                                                                                                                                                                                                                                                                                        1\n",
       "The Customer Service Associate will be based in Los Angeles, CA. The right candidate will be an integral part of our talented team, supporting our continued growth.Responsibilities include, but are not limited to:Gain understanding and specifications for litigation support projects and applying best practices for litigation support services.Troubleshoot litigation support applications.Scan and perform file conversion functions for paper and electronic documents.Apply bates and/or special message stampingPrint images directly to paper using separator sheets.Export productions to CD/DVD.Any other duties that may be assigned.Responds promptly to clients and/or staff needs and solicits feedback to improve service; meets commitments.Sort individual document types by size of the document and make copies as necessaryScan documentsEnsure each document is scannedInteract with scanning software to indicate when a batch is completePerform quality assurance and review imagesPerform quality assurance of documents that have been flagged by the systemComplete Productivity Sheet to track project progress and provide numbers for billing purposesHandle time-sensitive materialBe able to utilize velo/gbc and wire bind equipmentBe able to utilize heavy duty cutter and drillBe able to copy books and newspapers, utilize cut/paste processMaintain the highest levels of customer care while demonstrating a friendly and cooperative attitudeDemonstrate flexibility in satisfying customer demands in a high volume, production environmentTake direction from supervisor or site managerMaintain all logs and reporting documentationAdhere to all safety proceduresParticipate in cross-trainingPerform other tasks as assigned.Contributes to building a positive team spirit; treats others with respect and consideration; inspires the trust of others. Must be able to get along with all members of the department.Takes pride in work product and pays close attention to detail. Looks for ways to improve and promote quality. Monitors own and others work to ensure quality.Maintains confidentiality.Continuously strives to build knowledge and skills; shares expertise with others.Assesses own strengths and weaknesses; sets and achieves challenging goals.Displays willingness to make decisions; exhibits sound and accurate judgment; includes appropriate people in decision making process; makes timely decisions.Maintains an excellent attendance record and demonstrates dependability and professionalism.                                                                                                                                                                                                                                                                                                                                                                                                                                                                                                                                                                                                                                                                                                1\n",
       "Works on large, complex projects that require increased skill in multiple technical environments and possesses knowledge in a specific business area.Develops, maintains, and supports applications for the CARES Project.Gathers and analyzes requirements.Programs all or selected components of Web applications. Documents components and applications.Researches, evaluates, and recommends new Internet tools and applications for use in assigned responsibilities.This job is at the senior level and requires experience in a variety of the more difficult Web tools and languages.Works on one or more projects as a project team member or project leader.Requires full proficiency in C#, Java, JavaScript, HTML, CSS and other technologies as identified by the development manager.                                                                                                                                                                                                                                                                                                                                                                                                                                                                                                                                                                                                                                                                                                                                                                                                                                                                                                                                                                                                                                                                                                                                                                                                                                                                                                                                                                                                                                                                                                                                                                                                                                                                                                                                                                                                                                                                                                                                                                                                                                                                                                                                                                                                                                                                                                                                                                                                                                                                                     1\n",
       "Our client, an established IT Consulting firm which focuses on both Traditional Infrastructure as well Cloud Computing, is in need of a talented and motivated IT Consultant/Engineer to join their team ASAP! Our client prides itself in honesty, transparency and teamwork, internally as well as with their clients.  They have done events with Google, Rackspace and Dropbox, and focus on 5 areas of technology: Infrastructure: Cabling, Voice, Data, etc Cloud ComputingEveryday Service/Support: “Helpdesk” Maintenance and more Web Design and Development Custom Programming and App CreationPrimary responsibilities:As an IT Consultant/Engineer, you will be responsible for the following:Meet with business owners on a weekly basis, analyze their current setup, and provide recommendations on improvements to sales stuff within 3 days of initial assessment.Provide detailed recommendations, including line items for each task with timesProvide strong and detailed comments on all of your recommendations, including why you made the recommendation.Review quotes with sales staff to send out to business ownersProvide a high level of documentation of every client including network diagrams, passwords, and other client specific informationDocument all procedures that were performed at client including time spent, and report back to dispatcher with any follow up itemsBe able to provide group training on services such as Google Apps and Hosted Exchange, including groups that are 10 or moreOversee and plan multiple projects at once, and execute those projects, which may include weekend or overtime tasksSupport multiple clients on a daily basis remotely and onsiteHas experience with Cabling and/or Building out Server RoomsDesired Skills/TraitsHard Working, analytical, forward-thinking, team player, fast-paced, outstanding communication skills, ability to learn technologies quickly.Able to deal with tough clients/scenariosAble to troubleshoot without assistance from a Senior EngineerExcellent writing skillsAble to learn new technologiesAbility to work after hours and on weekends, as needed by clientsTechnology requirements:Server 2003/2008/2012Virtualization including VMware and Hyper-VCisco Firewalls and Switches, including CLI-based routersCloud technologies including Google Apps, Microsoft 365, Rackspace Cloud / Hosted Exchange and Amazon Web ServicesStrong understanding of DNS and types of recordsOffsite backupDisaster Recovery Planning and simulationEnd-user support, customer serviceIncentives to join their teamFull-time PositionTravel may be necessary (Chicago, Miami, LA and San Antonio)Matching Simple IRA (Type of 401K)Great team to work withVery mature business, ready to expand!Business Systems (Contact Management, Email, Calendaring, Project Management, Dispatching), are all utilizing Cloud technology and is proven to work efficientlyOffice near Grand CentralPossible Bonuses / Other IncentivesMiscellaneous Entertainment Perks (Tickets, Events)Salary: $40,000 to $50,000* Health Insurance currently not provided*If this sounds like something you would be interested in, please submit your resume for immediate consideration!      1\n",
       "Overall Purpose:Develop new businesses in the US selling multiple digital disciplines and further grow the agencies impressive customer listDeliver growth targets and new business revenueTake ownership for delivering new business in PPC, SEO, Display and Social MediaManage sales pipeline from initial meetings to pitchingAiding sales team on collaborative pitchesKey Duties:Communicating with clients and qualifying briefsProfessionally guiding prospects through the entire sales processAiding the sales team to respond to RFIs and RFPs, ensuring an exceptional standardWriting pitches and delivering them to clients at a senior levelEnsuring sales forecasts and sales targets are achievedAnalysing sales results and assisting in developing sales plans and strategiesUnderstanding and managing client forecasts to identify areas for maximising profit                                                                                                                                                                                                                                                                                                                                                                                                                                                                                                                                                                                                                                                                                                                                                                                                                                                                                                                                                                                                                                                                                                                                                                                                                                                                                                                                                                                                                                                                                                                                                                                                                                                                                                                                                                                                                                                                                                                                                                                                                                                                                                                                                                                                                                                                                                                                                                                                     1\n",
       "Name: description, Length: 14801, dtype: int64"
      ]
     },
     "execution_count": 18,
     "metadata": {},
     "output_type": "execute_result"
    }
   ],
   "source": [
    "df['description'].value_counts()"
   ]
  },
  {
   "cell_type": "code",
   "execution_count": 19,
   "metadata": {},
   "outputs": [],
   "source": [
    "df['description'].fillna(df['description'].bfill(),inplace=True)"
   ]
  },
  {
   "cell_type": "code",
   "execution_count": 20,
   "metadata": {},
   "outputs": [
    {
     "data": {
      "text/plain": [
       "University degree required. TEFL / TESOL / CELTA or teaching experience preferred but not necessaryCanada/US passport holders only                                                                                                                                                                                                                                                                                                                                                                                                                                                                                                                                                                                                                                                                                                                                                                                                                                                  410\n",
       "University degree required. TEFL / TESOL / CELTA or teaching experience preferred but not necessaryPositive attitude required. Canada/US passport holders only                                                                                                                                                                                                                                                                                                                                                                                                                                                                                                                                                                                                                                                                                                                                                                                                                      163\n",
       "16-18 year olds only due to government funding.Full time availability.                                                                                                                                                                                                                                                                                                                                                                                                                                                                                                                                                                                                                                                                                                                                                                                                                                                                                                              117\n",
       "Minimum Requirements:Minimum of 6 months customer service related experience requiredHigh school diploma or equivalent (GED) requiredPreferred Qualifications:Keyboarding and windows environment PC skills required (Word, Excel and PowerPoint preferred)Experience running mail posting equipment a plusExcellent communication skills both verbal and writtenLifting up to 55 lbs with or without accommodationsWillingness and availability to work additional hours if assignedWillingness to submit to a pre-employment drug screening and criminal background checkAbility to effectively work individually or in a team environmentCompetency in performing multiple functional tasksAbility to meet employer's attendance policy                                                                                                                                                                                                                                           80\n",
       "University degree required. TEFL / TESOL / CELTA, and/or teaching experience preferredCanada/US passport holders only                                                                                                                                                                                                                                                                                                                                                                                                                                                                                                                                                                                                                                                                                                                                                                                                                                                                42\n",
       "                                                                                                                                                                                                                                                                                                                                                                                                                                                                                                                                                                                                                                                                                                                                                                                                                                                                                                                                                                                   ... \n",
       "To be considered for the role of Sales Executive you must have experience of UPVC windows, doors and conservatories industry and also essential is a demonstrable track record in sales.                                                                                                                                                                                                                                                                                                                                                                                                                                                                                                                                                                                                                                                                                                                                                                                              1\n",
       "What you'll needA strong, successful pre-sales engineering track record in the SaaS industry with large enterprise customersExpert-level knowledge of JavaScript usage with modern frameworks and librariesStrong organizational skills are required for this fast paced positionExcellent written and verbal communication, including listening, and presentation skills.BS-level education in electrical engineering or computer science is a minimum requirement                                                                                                                                                                                                                                                                                                                                                                                                                                                                                                                   1\n",
       "To qualify… We are looking for senior developers / software engineers but with one common thread; you must be at the top of your game and must be able to show:Good working knowledge of Python.Experience of using Django or other Python web framework.Comfortable working with PostgreSQL, MongoDB or similar.An excellent working knowledge of HTML and CSS.Experience with mobile platforms an advantage.Good interpersonal skills with the ability to manage client expectationsAbility to prioritise tasks and manage multiple, simultaneous projects and deadlines.Creative approach to problem solving, along with strong analytical skills.Excellent written and oral communications skills with the ability to communicate with both end users and other technical staffA strong desire to work with the leading agencies in the industry.Any exposure to non Python based languages such as Java or PHP is a bonus.                                                       1\n",
       "Required Qualifications:Experience coordinating/deploying work to employees requiredMinimum of  3 years customer service related experience requiredAbility to resolve employee and customer concerns/issuesAbility to communicate both verbally and written with customers and company personnelHigh school diploma or equivalent (GED) requiredAbility to effectively work individually or in a team environmentAbility to handle multiple projects simultaneouslyStrong organizational and administrative skills requiredAbility to meet employer's attendance policyComputer proficiency in email environments, MS Word/ExcelHeavy LiftingAbility to adhere and administer companies policies and proceduresStanding for long periods of timeSignificant walkingWillingness to work overtime if neededWillingness to submit to a pre-employment drug screen and criminal background checkPreferred Qualification:Post office, Mail or previous Shipping/Receiving experience      1\n",
       "Degree in computer scienceProgramming skills (Python &amp; Java)At least 5 years experience with machine learning and research (Signal Processing, Time-series, Machine Learning, Predictive modeling and Pattern recognition)2 years experience as team lead and trainings in leadership (Mngmnt. 3.0)2 years experience with agile product developmentScrum and Kanban trainings and agile adoption                                                                                                                                                                                                                                                                                                                                                                                                                                                                                                                                                                                 1\n",
       "Name: requirements, Length: 11968, dtype: int64"
      ]
     },
     "execution_count": 20,
     "metadata": {},
     "output_type": "execute_result"
    }
   ],
   "source": [
    "df['requirements'].value_counts()"
   ]
  },
  {
   "cell_type": "code",
   "execution_count": 21,
   "metadata": {},
   "outputs": [],
   "source": [
    "df['requirements'].fillna(df['requirements'].bfill(),inplace=True)\n"
   ]
  },
  {
   "cell_type": "markdown",
   "metadata": {},
   "source": [
    "Filling the null values of object type with forward filling and backward filling and the Int/float types with mean or median depending upon skewness."
   ]
  },
  {
   "cell_type": "markdown",
   "metadata": {},
   "source": [
    "#### Exploratory Data Analysis"
   ]
  },
  {
   "cell_type": "code",
   "execution_count": 22,
   "metadata": {},
   "outputs": [
    {
     "data": {
      "text/plain": [
       "job_id                     0\n",
       "title                      0\n",
       "location                   0\n",
       "department             11547\n",
       "salary_range           15012\n",
       "company_profile            0\n",
       "description                0\n",
       "requirements               0\n",
       "benefits                7210\n",
       "telecommuting              0\n",
       "has_company_logo           0\n",
       "has_questions              0\n",
       "employment_type         3471\n",
       "required_experience     7050\n",
       "required_education      8105\n",
       "industry                4903\n",
       "function                6455\n",
       "fraudulent                 0\n",
       "dtype: int64"
      ]
     },
     "execution_count": 22,
     "metadata": {},
     "output_type": "execute_result"
    }
   ],
   "source": [
    "df.isnull().sum()"
   ]
  },
  {
   "cell_type": "code",
   "execution_count": 23,
   "metadata": {},
   "outputs": [
    {
     "name": "stdout",
     "output_type": "stream",
     "text": [
      "% of null records in feature job_id : 0.00%\n",
      "% of null records in feature title : 0.00%\n",
      "% of null records in feature location : 0.00%\n",
      "% of null records in feature department : 64.58%\n",
      "% of null records in feature salary_range : 83.96%\n",
      "% of null records in feature company_profile : 0.00%\n",
      "% of null records in feature description : 0.00%\n",
      "% of null records in feature requirements : 0.00%\n",
      "% of null records in feature benefits : 40.32%\n",
      "% of null records in feature telecommuting : 0.00%\n",
      "% of null records in feature has_company_logo : 0.00%\n",
      "% of null records in feature has_questions : 0.00%\n",
      "% of null records in feature employment_type : 19.41%\n",
      "% of null records in feature required_experience : 39.43%\n",
      "% of null records in feature required_education : 45.33%\n",
      "% of null records in feature industry : 27.42%\n",
      "% of null records in feature function : 36.10%\n",
      "% of null records in feature fraudulent : 0.00%\n"
     ]
    }
   ],
   "source": [
    "for i in df.columns:\n",
    "    print('% of null records in feature',i,': {:.2f}%'.format(df[i].isnull().sum()*100/len(df[i])))"
   ]
  },
  {
   "cell_type": "code",
   "execution_count": 24,
   "metadata": {},
   "outputs": [
    {
     "data": {
      "text/plain": [
       "<AxesSubplot:>"
      ]
     },
     "execution_count": 24,
     "metadata": {},
     "output_type": "execute_result"
    },
    {
     "data": {
      "image/png": "[encoded data removed]",
      "text/plain": [
       "<Figure size 432x288 with 2 Axes>"
      ]
     },
     "metadata": {
      "needs_background": "light"
     },
     "output_type": "display_data"
    }
   ],
   "source": [
    "sns.heatmap(df.corr(),annot=True)"
   ]
  },
  {
   "cell_type": "markdown",
   "metadata": {},
   "source": [
    "#### We can see from above that department and salary_range feature consists of more than 60% of missing data and also job_id column is also of not any use so it is better we drop them."
   ]
  },
  {
   "cell_type": "code",
   "execution_count": 25,
   "metadata": {},
   "outputs": [],
   "source": [
    "df.drop(['salary_range','department','job_id'],axis=1,inplace=True)"
   ]
  },
  {
   "cell_type": "code",
   "execution_count": 26,
   "metadata": {},
   "outputs": [
    {
     "data": {
      "text/plain": [
       "(17880, 15)"
      ]
     },
     "execution_count": 26,
     "metadata": {},
     "output_type": "execute_result"
    }
   ],
   "source": [
    "df.shape"
   ]
  },
  {
   "cell_type": "code",
   "execution_count": 27,
   "metadata": {},
   "outputs": [
    {
     "name": "stdout",
     "output_type": "stream",
     "text": [
      "<class 'pandas.core.frame.DataFrame'>\n",
      "RangeIndex: 17880 entries, 0 to 17879\n",
      "Data columns (total 15 columns):\n",
      " #   Column               Non-Null Count  Dtype \n",
      "---  ------               --------------  ----- \n",
      " 0   title                17880 non-null  object\n",
      " 1   location             17880 non-null  object\n",
      " 2   company_profile      17880 non-null  object\n",
      " 3   description          17880 non-null  object\n",
      " 4   requirements         17880 non-null  object\n",
      " 5   benefits             10670 non-null  object\n",
      " 6   telecommuting        17880 non-null  int64 \n",
      " 7   has_company_logo     17880 non-null  int64 \n",
      " 8   has_questions        17880 non-null  int64 \n",
      " 9   employment_type      14409 non-null  object\n",
      " 10  required_experience  10830 non-null  object\n",
      " 11  required_education   9775 non-null   object\n",
      " 12  industry             12977 non-null  object\n",
      " 13  function             11425 non-null  object\n",
      " 14  fraudulent           17880 non-null  int64 \n",
      "dtypes: int64(4), object(11)\n",
      "memory usage: 2.0+ MB\n"
     ]
    }
   ],
   "source": [
    "df.info()"
   ]
  },
  {
   "cell_type": "code",
   "execution_count": 28,
   "metadata": {},
   "outputs": [
    {
     "data": {
      "text/plain": [
       "13"
      ]
     },
     "execution_count": 28,
     "metadata": {},
     "output_type": "execute_result"
    }
   ],
   "source": [
    "df['required_education'].nunique()"
   ]
  },
  {
   "cell_type": "code",
   "execution_count": 29,
   "metadata": {},
   "outputs": [
    {
     "data": {
      "text/plain": [
       "Bachelor's Degree                    5145\n",
       "High School or equivalent            2080\n",
       "Unspecified                          1397\n",
       "Master's Degree                       416\n",
       "Associate Degree                      274\n",
       "Certification                         170\n",
       "Some College Coursework Completed     102\n",
       "Professional                           74\n",
       "Vocational                             49\n",
       "Some High School Coursework            27\n",
       "Doctorate                              26\n",
       "Vocational - HS Diploma                 9\n",
       "Vocational - Degree                     6\n",
       "Name: required_education, dtype: int64"
      ]
     },
     "execution_count": 29,
     "metadata": {},
     "output_type": "execute_result"
    }
   ],
   "source": [
    "df['required_education'].value_counts()"
   ]
  },
  {
   "cell_type": "code",
   "execution_count": 30,
   "metadata": {},
   "outputs": [],
   "source": [
    "df['required_education'].fillna(df['required_education'].bfill(),inplace=True)"
   ]
  },
  {
   "cell_type": "code",
   "execution_count": 31,
   "metadata": {},
   "outputs": [
    {
     "data": {
      "text/plain": [
       "Bachelor's Degree                    9381\n",
       "High School or equivalent            3701\n",
       "Unspecified                          2615\n",
       "Master's Degree                       812\n",
       "Associate Degree                      530\n",
       "Certification                         313\n",
       "Some College Coursework Completed     179\n",
       "Professional                          130\n",
       "Vocational                            102\n",
       "Doctorate                              49\n",
       "Some High School Coursework            36\n",
       "Vocational - HS Diploma                19\n",
       "Vocational - Degree                    12\n",
       "Name: required_education, dtype: int64"
      ]
     },
     "execution_count": 31,
     "metadata": {},
     "output_type": "execute_result"
    }
   ],
   "source": [
    "df['required_education'].value_counts()"
   ]
  },
  {
   "cell_type": "code",
   "execution_count": 32,
   "metadata": {},
   "outputs": [
    {
     "data": {
      "text/plain": [
       "5"
      ]
     },
     "execution_count": 32,
     "metadata": {},
     "output_type": "execute_result"
    }
   ],
   "source": [
    "df['employment_type'].nunique()"
   ]
  },
  {
   "cell_type": "code",
   "execution_count": 33,
   "metadata": {},
   "outputs": [
    {
     "data": {
      "text/plain": [
       "Full-time    11620\n",
       "Contract      1524\n",
       "Part-time      797\n",
       "Temporary      241\n",
       "Other          227\n",
       "Name: employment_type, dtype: int64"
      ]
     },
     "execution_count": 33,
     "metadata": {},
     "output_type": "execute_result"
    }
   ],
   "source": [
    "df['employment_type'].value_counts()"
   ]
  },
  {
   "cell_type": "code",
   "execution_count": 34,
   "metadata": {},
   "outputs": [],
   "source": [
    "df.dropna(subset=['employment_type'],axis=0,inplace=True)"
   ]
  },
  {
   "cell_type": "code",
   "execution_count": 35,
   "metadata": {},
   "outputs": [
    {
     "data": {
      "text/plain": [
       "(14409, 15)"
      ]
     },
     "execution_count": 35,
     "metadata": {},
     "output_type": "execute_result"
    }
   ],
   "source": [
    "df.shape"
   ]
  },
  {
   "cell_type": "markdown",
   "metadata": {},
   "source": [
    "#### Again checking for % of empty values in features"
   ]
  },
  {
   "cell_type": "code",
   "execution_count": 36,
   "metadata": {},
   "outputs": [
    {
     "name": "stdout",
     "output_type": "stream",
     "text": [
      "% of null records in feature title : 0.00%\n",
      "% of null records in feature location : 0.00%\n",
      "% of null records in feature company_profile : 0.00%\n",
      "% of null records in feature description : 0.00%\n",
      "% of null records in feature requirements : 0.00%\n",
      "% of null records in feature benefits : 36.93%\n",
      "% of null records in feature telecommuting : 0.00%\n",
      "% of null records in feature has_company_logo : 0.00%\n",
      "% of null records in feature has_questions : 0.00%\n",
      "% of null records in feature employment_type : 0.00%\n",
      "% of null records in feature required_experience : 26.46%\n",
      "% of null records in feature required_education : 0.01%\n",
      "% of null records in feature industry : 11.96%\n",
      "% of null records in feature function : 23.98%\n",
      "% of null records in feature fraudulent : 0.00%\n"
     ]
    }
   ],
   "source": [
    "for i in df.columns:\n",
    "    print('% of null records in feature',i,': {:.2f}%'.format(df[i].isnull().sum()*100/len(df[i])))"
   ]
  },
  {
   "cell_type": "code",
   "execution_count": 37,
   "metadata": {},
   "outputs": [
    {
     "data": {
      "text/plain": [
       "5297"
      ]
     },
     "execution_count": 37,
     "metadata": {},
     "output_type": "execute_result"
    }
   ],
   "source": [
    "df['benefits'].nunique()"
   ]
  },
  {
   "cell_type": "code",
   "execution_count": 38,
   "metadata": {},
   "outputs": [
    {
     "data": {
      "text/plain": [
       "See job description                                                                                                                                                                                                                                                                                                                                                                                                                                                                                                                                                                                                                                                                                                         726\n",
       "Career prospects.                                                                                                                                                                                                                                                                                                                                                                                                                                                                                                                                                                                                                                                                                                           125\n",
       "Our company offers a competitive salary plus BONUSES as well as a comprehensive benefits package to our full-time employees including:40 vacation hours after 6 months of employment, 80 vacation hours after 1 year of employment6 paid holidays as well as an anniversary holiday benefitPaid personal and sick leave after 90 days of employmentHealth, dental, life, and disability insurance as well as AFLAC supplemental insuranceA 401K plan with a company match after six months of employment, however, we have quarterly enrollment periods.                                                                                                                                                                     60\n",
       "Plenty of perksAs well as the opportunity to solve complex problems in this exciting new era of big data, here’s what we offer:Realistic performance related bonusesGenerous equity options mean you’ll own a piece of the pieExcellent health and dental insurance packagesA relaxed approach to time off and enough holidays to see several corners of the worldFridge fully stocked with healthy snacks and the ultimate espresso machine for your java fixA competitive office where we play foosball, football, scrabble, go-karting… you name it, we’ll play itThank Qubit it’s Friday – we have lots of creative ways to let off steam at the end of the weekPlenty of opportunities for training and development     58\n",
       "CSD offers a competitive benefits package for full-time employees. For a full list of benefits and perks, please visit the career page.Communication Service for the Deaf, Inc. is an Equal Opportunity Affirmative Action Employer and drug free and tobacco free workplace. All qualified applicants will receive consideration for employment without regard to race, color, religion, sex, or national origin, including individuals with a disability and protected veterans.                                                                                                                                                                                                                                           57\n",
       "                                                                                                                                                                                                                                                                                                                                                                                                                                                                                                                                                                                                                                                                                                                           ... \n",
       "20% Staff discount                                                                                                                                                                                                                                                                                                                                                                                                                                                                                                                                                                                                                                                                                                            1\n",
       "Full training and support / Fun, rewarding and engaging / potential to earn unlimited income                                                                                                                                                                                                                                                                                                                                                                                                                                                                                                                                                                                                                                  1\n",
       "Brainbow is a London-based startup founded by entrepreneurs from Google, Amazon, Playfish / EA and academia with a mission to reinvent Education through mobile, games and sciences.With funding from tier-1 European and US investors, we provide a unique environment to work with great engineers, designers and neuroscientists.                                                                                                                                                                                                                                                                                                                                                                                          1\n",
       "Benefits: Health, Dental, Life and AD&amp;D Insurance, Employee Wellness and 401k plans. Paid Time Off and Holidays with Generous Company Discounts .Emergency Reimbursement Benefits, Daily Hospital Benefit, Accidental Death Benefit, Travel Assistance                                                                                                                                                                                                                                                                                                                                                                                                                                                                    1\n",
       "Attractive base salary and incentive equity optionsQualify to join full range benefit plans including medical, dental and vision coverage, 401(k) and paid vacation/sick daysJoining to a successful technology start-up at a growing and exciting phase                                                                                                                                                                                                                                                                                                                                                                                                                                                                      1\n",
       "Name: benefits, Length: 5297, dtype: int64"
      ]
     },
     "execution_count": 38,
     "metadata": {},
     "output_type": "execute_result"
    }
   ],
   "source": [
    "df['benefits'].value_counts()"
   ]
  },
  {
   "cell_type": "code",
   "execution_count": 39,
   "metadata": {},
   "outputs": [],
   "source": [
    "df['benefits'].fillna(df['benefits'].bfill(),inplace=True)"
   ]
  },
  {
   "cell_type": "code",
   "execution_count": 40,
   "metadata": {},
   "outputs": [
    {
     "name": "stdout",
     "output_type": "stream",
     "text": [
      "<class 'pandas.core.frame.DataFrame'>\n",
      "Int64Index: 14409 entries, 0 to 17879\n",
      "Data columns (total 15 columns):\n",
      " #   Column               Non-Null Count  Dtype \n",
      "---  ------               --------------  ----- \n",
      " 0   title                14409 non-null  object\n",
      " 1   location             14409 non-null  object\n",
      " 2   company_profile      14409 non-null  object\n",
      " 3   description          14409 non-null  object\n",
      " 4   requirements         14409 non-null  object\n",
      " 5   benefits             14408 non-null  object\n",
      " 6   telecommuting        14409 non-null  int64 \n",
      " 7   has_company_logo     14409 non-null  int64 \n",
      " 8   has_questions        14409 non-null  int64 \n",
      " 9   employment_type      14409 non-null  object\n",
      " 10  required_experience  10597 non-null  object\n",
      " 11  required_education   14408 non-null  object\n",
      " 12  industry             12686 non-null  object\n",
      " 13  function             10954 non-null  object\n",
      " 14  fraudulent           14409 non-null  int64 \n",
      "dtypes: int64(4), object(11)\n",
      "memory usage: 1.8+ MB\n"
     ]
    }
   ],
   "source": [
    "df.info()"
   ]
  },
  {
   "cell_type": "code",
   "execution_count": 41,
   "metadata": {},
   "outputs": [
    {
     "data": {
      "text/plain": [
       "<AxesSubplot:>"
      ]
     },
     "execution_count": 41,
     "metadata": {},
     "output_type": "execute_result"
    },
    {
     "data": {
      "image/png": "[encoded data removed]",
      "text/plain": [
       "<Figure size 432x288 with 2 Axes>"
      ]
     },
     "metadata": {
      "needs_background": "light"
     },
     "output_type": "display_data"
    }
   ],
   "source": [
    "sns.heatmap(df.isnull(),yticklabels=False)"
   ]
  },
  {
   "cell_type": "code",
   "execution_count": 42,
   "metadata": {},
   "outputs": [
    {
     "data": {
      "text/plain": [
       "7"
      ]
     },
     "execution_count": 42,
     "metadata": {},
     "output_type": "execute_result"
    }
   ],
   "source": [
    "df['required_experience'].nunique()"
   ]
  },
  {
   "cell_type": "code",
   "execution_count": 43,
   "metadata": {},
   "outputs": [
    {
     "data": {
      "text/plain": [
       "Mid-Senior level    3791\n",
       "Entry level         2628\n",
       "Associate           2277\n",
       "Not Applicable      1013\n",
       "Director             387\n",
       "Internship           361\n",
       "Executive            140\n",
       "Name: required_experience, dtype: int64"
      ]
     },
     "execution_count": 43,
     "metadata": {},
     "output_type": "execute_result"
    }
   ],
   "source": [
    "df['required_experience'].value_counts()"
   ]
  },
  {
   "cell_type": "code",
   "execution_count": 44,
   "metadata": {},
   "outputs": [],
   "source": [
    "df['required_experience'].fillna(df['required_experience'].bfill(),inplace=True)"
   ]
  },
  {
   "cell_type": "code",
   "execution_count": 45,
   "metadata": {},
   "outputs": [
    {
     "data": {
      "text/plain": [
       "Mid-Senior level    5142\n",
       "Entry level         3551\n",
       "Associate           3120\n",
       "Not Applicable      1384\n",
       "Director             524\n",
       "Internship           488\n",
       "Executive            200\n",
       "Name: required_experience, dtype: int64"
      ]
     },
     "execution_count": 45,
     "metadata": {},
     "output_type": "execute_result"
    }
   ],
   "source": [
    "df['required_experience'].value_counts()"
   ]
  },
  {
   "cell_type": "code",
   "execution_count": 46,
   "metadata": {},
   "outputs": [
    {
     "data": {
      "text/plain": [
       "131"
      ]
     },
     "execution_count": 46,
     "metadata": {},
     "output_type": "execute_result"
    }
   ],
   "source": [
    "df['industry'].nunique()"
   ]
  },
  {
   "cell_type": "code",
   "execution_count": 47,
   "metadata": {},
   "outputs": [
    {
     "data": {
      "text/plain": [
       "Information Technology and Services    1725\n",
       "Computer Software                      1365\n",
       "Internet                               1051\n",
       "Marketing and Advertising               823\n",
       "Education Management                    822\n",
       "                                       ... \n",
       "Wine and Spirits                          1\n",
       "Ranching                                  1\n",
       "Shipbuilding                              1\n",
       "Alternative Dispute Resolution            1\n",
       "Museums and Institutions                  1\n",
       "Name: industry, Length: 131, dtype: int64"
      ]
     },
     "execution_count": 47,
     "metadata": {},
     "output_type": "execute_result"
    }
   ],
   "source": [
    "df['industry'].value_counts()"
   ]
  },
  {
   "cell_type": "code",
   "execution_count": 48,
   "metadata": {},
   "outputs": [],
   "source": [
    "df['industry'].fillna(df['industry'].bfill(),inplace=True)"
   ]
  },
  {
   "cell_type": "code",
   "execution_count": 49,
   "metadata": {},
   "outputs": [
    {
     "data": {
      "text/plain": [
       "Information Technology and Services    1950\n",
       "Computer Software                      1545\n",
       "Internet                               1197\n",
       "Marketing and Advertising               941\n",
       "Education Management                    908\n",
       "                                       ... \n",
       "Shipbuilding                              1\n",
       "Sporting Goods                            1\n",
       "Alternative Dispute Resolution            1\n",
       "Ranching                                  1\n",
       "Museums and Institutions                  1\n",
       "Name: industry, Length: 131, dtype: int64"
      ]
     },
     "execution_count": 49,
     "metadata": {},
     "output_type": "execute_result"
    }
   ],
   "source": [
    "df['industry'].value_counts()"
   ]
  },
  {
   "cell_type": "code",
   "execution_count": 50,
   "metadata": {},
   "outputs": [
    {
     "data": {
      "text/plain": [
       "37"
      ]
     },
     "execution_count": 50,
     "metadata": {},
     "output_type": "execute_result"
    }
   ],
   "source": [
    "df['function'].nunique()"
   ]
  },
  {
   "cell_type": "code",
   "execution_count": 51,
   "metadata": {},
   "outputs": [
    {
     "data": {
      "text/plain": [
       "Information Technology    1735\n",
       "Sales                     1389\n",
       "Engineering               1307\n",
       "Customer Service          1154\n",
       "Marketing                  772\n",
       "Administrative             583\n",
       "Design                     336\n",
       "Education                  321\n",
       "Management                 315\n",
       "Health Care Provider       313\n",
       "Other                      273\n",
       "Business Development       221\n",
       "Accounting/Auditing        207\n",
       "Human Resources            189\n",
       "Project Management         181\n",
       "Finance                    166\n",
       "Consulting                 144\n",
       "Art/Creative               131\n",
       "Writing/Editing            126\n",
       "Production                 116\n",
       "Product Management         110\n",
       "Quality Assurance          108\n",
       "Advertising                 89\n",
       "Data Analyst                80\n",
       "Business Analyst            77\n",
       "Public Relations            75\n",
       "Manufacturing               73\n",
       "General Business            66\n",
       "Research                    47\n",
       "Strategy/Planning           46\n",
       "Legal                       46\n",
       "Training                    38\n",
       "Supply Chain                36\n",
       "Financial Analyst           33\n",
       "Distribution                24\n",
       "Purchasing                  14\n",
       "Science                     13\n",
       "Name: function, dtype: int64"
      ]
     },
     "execution_count": 51,
     "metadata": {},
     "output_type": "execute_result"
    }
   ],
   "source": [
    "df['function'].value_counts()"
   ]
  },
  {
   "cell_type": "code",
   "execution_count": 52,
   "metadata": {},
   "outputs": [],
   "source": [
    "df['function'].fillna(df['function'].bfill(),inplace=True)"
   ]
  },
  {
   "cell_type": "code",
   "execution_count": 53,
   "metadata": {},
   "outputs": [
    {
     "data": {
      "text/plain": [
       "Information Technology    2283\n",
       "Sales                     1826\n",
       "Engineering               1748\n",
       "Customer Service          1504\n",
       "Marketing                  988\n",
       "Administrative             802\n",
       "Design                     435\n",
       "Health Care Provider       422\n",
       "Education                  411\n",
       "Management                 408\n",
       "Other                      344\n",
       "Business Development       287\n",
       "Accounting/Auditing        264\n",
       "Human Resources            251\n",
       "Project Management         245\n",
       "Finance                    222\n",
       "Consulting                 177\n",
       "Writing/Editing            173\n",
       "Art/Creative               165\n",
       "Production                 156\n",
       "Product Management         146\n",
       "Quality Assurance          143\n",
       "Advertising                116\n",
       "Manufacturing              107\n",
       "Public Relations           105\n",
       "Business Analyst           101\n",
       "Data Analyst               100\n",
       "General Business            95\n",
       "Strategy/Planning           71\n",
       "Research                    62\n",
       "Legal                       57\n",
       "Training                    51\n",
       "Supply Chain                41\n",
       "Financial Analyst           41\n",
       "Distribution                30\n",
       "Purchasing                  17\n",
       "Science                     15\n",
       "Name: function, dtype: int64"
      ]
     },
     "execution_count": 53,
     "metadata": {},
     "output_type": "execute_result"
    }
   ],
   "source": [
    "df['function'].value_counts()"
   ]
  },
  {
   "cell_type": "code",
   "execution_count": 54,
   "metadata": {},
   "outputs": [],
   "source": [
    "df.drop(df.index[14408:],inplace=True)"
   ]
  },
  {
   "cell_type": "code",
   "execution_count": 55,
   "metadata": {},
   "outputs": [
    {
     "name": "stdout",
     "output_type": "stream",
     "text": [
      "<class 'pandas.core.frame.DataFrame'>\n",
      "Int64Index: 14408 entries, 0 to 17878\n",
      "Data columns (total 15 columns):\n",
      " #   Column               Non-Null Count  Dtype \n",
      "---  ------               --------------  ----- \n",
      " 0   title                14408 non-null  object\n",
      " 1   location             14408 non-null  object\n",
      " 2   company_profile      14408 non-null  object\n",
      " 3   description          14408 non-null  object\n",
      " 4   requirements         14408 non-null  object\n",
      " 5   benefits             14408 non-null  object\n",
      " 6   telecommuting        14408 non-null  int64 \n",
      " 7   has_company_logo     14408 non-null  int64 \n",
      " 8   has_questions        14408 non-null  int64 \n",
      " 9   employment_type      14408 non-null  object\n",
      " 10  required_experience  14408 non-null  object\n",
      " 11  required_education   14408 non-null  object\n",
      " 12  industry             14408 non-null  object\n",
      " 13  function             14408 non-null  object\n",
      " 14  fraudulent           14408 non-null  int64 \n",
      "dtypes: int64(4), object(11)\n",
      "memory usage: 1.8+ MB\n"
     ]
    }
   ],
   "source": [
    "df.info()"
   ]
  },
  {
   "cell_type": "code",
   "execution_count": 56,
   "metadata": {},
   "outputs": [
    {
     "data": {
      "text/plain": [
       "title                  0\n",
       "location               0\n",
       "company_profile        0\n",
       "description            0\n",
       "requirements           0\n",
       "benefits               0\n",
       "telecommuting          0\n",
       "has_company_logo       0\n",
       "has_questions          0\n",
       "employment_type        0\n",
       "required_experience    0\n",
       "required_education     0\n",
       "industry               0\n",
       "function               0\n",
       "fraudulent             0\n",
       "dtype: int64"
      ]
     },
     "execution_count": 56,
     "metadata": {},
     "output_type": "execute_result"
    }
   ],
   "source": [
    "df.isnull().sum()"
   ]
  },
  {
   "cell_type": "code",
   "execution_count": 57,
   "metadata": {},
   "outputs": [
    {
     "data": {
      "text/plain": [
       "<AxesSubplot:>"
      ]
     },
     "execution_count": 57,
     "metadata": {},
     "output_type": "execute_result"
    },
    {
     "data": {
      "image/png": "[encoded data removed]",
      "text/plain": [
       "<Figure size 432x288 with 2 Axes>"
      ]
     },
     "metadata": {
      "needs_background": "light"
     },
     "output_type": "display_data"
    }
   ],
   "source": [
    "sns.heatmap(df.isnull(),yticklabels=False)"
   ]
  },
  {
   "cell_type": "markdown",
   "metadata": {},
   "source": [
    "#### All missing values have been dealt with!"
   ]
  },
  {
   "cell_type": "code",
   "execution_count": 58,
   "metadata": {},
   "outputs": [
    {
     "data": {
      "text/plain": [
       "<AxesSubplot:>"
      ]
     },
     "execution_count": 58,
     "metadata": {},
     "output_type": "execute_result"
    },
    {
     "data": {
      "image/png": "[encoded data removed]",
      "text/plain": [
       "<Figure size 432x288 with 2 Axes>"
      ]
     },
     "metadata": {
      "needs_background": "light"
     },
     "output_type": "display_data"
    }
   ],
   "source": [
    "sns.heatmap(df[['fraudulent' ,'has_company_logo','has_questions','telecommuting']].corr(),annot=True)"
   ]
  },
  {
   "cell_type": "code",
   "execution_count": 59,
   "metadata": {},
   "outputs": [
    {
     "data": {
      "text/plain": [
       "<AxesSubplot:xlabel='employment_type', ylabel='count'>"
      ]
     },
     "execution_count": 59,
     "metadata": {},
     "output_type": "execute_result"
    },
    {
     "data": {
      "image/png": "[encoded data removed]",
      "text/plain": [
       "<Figure size 1008x720 with 4 Axes>"
      ]
     },
     "metadata": {
      "needs_background": "light"
     },
     "output_type": "display_data"
    }
   ],
   "source": [
    "plt.figure(figsize=(14,10))\n",
    "plt.subplot(2,2,1)\n",
    "sns.countplot(x='telecommuting',hue='fraudulent',data=df)\n",
    "plt.subplot(2,2,2)\n",
    "sns.countplot(x='has_company_logo',hue='fraudulent',data=df)\n",
    "plt.subplot(2,2,3)\n",
    "sns.countplot(x='has_questions',hue='fraudulent',data=df)\n",
    "plt.subplot(2,2,4)\n",
    "sns.countplot(x='employment_type',hue='fraudulent',data=df)"
   ]
  },
  {
   "cell_type": "markdown",
   "metadata": {},
   "source": [
    "#### We can see from the above graphs about the trends of fraudulency based on various parametrs:\n",
    "     1. In the firt plot it is clear that the ratio of fraudulency to telecommuting cases are more when a job type demands\n",
    "       telecommuting.\n",
    "     2. In case of company logo not present fraudulency is more.\n",
    "     3. In case of no questions fraudulency is more in fact there is more of a negative correlation in case of this feature.\n",
    "     4. Full time employment type posseses more fraudulency as compared to other types."
   ]
  },
  {
   "cell_type": "markdown",
   "metadata": {},
   "source": [
    "#### Feature Engineering"
   ]
  },
  {
   "cell_type": "code",
   "execution_count": 60,
   "metadata": {},
   "outputs": [
    {
     "data": {
      "text/plain": [
       "0    13783\n",
       "1      625\n",
       "Name: fraudulent, dtype: int64"
      ]
     },
     "execution_count": 60,
     "metadata": {},
     "output_type": "execute_result"
    }
   ],
   "source": [
    "df['fraudulent'].value_counts()"
   ]
  },
  {
   "cell_type": "markdown",
   "metadata": {},
   "source": [
    "It is clearly an imbalanced data set we apply the Oversampling technique to balance the data so that we donot get biased output."
   ]
  },
  {
   "cell_type": "code",
   "execution_count": 61,
   "metadata": {},
   "outputs": [
    {
     "data": {
      "text/plain": [
       "title                   8929\n",
       "location                2583\n",
       "company_profile         1567\n",
       "description            11987\n",
       "requirements           10231\n",
       "benefits                5297\n",
       "telecommuting              2\n",
       "has_company_logo           2\n",
       "has_questions              2\n",
       "employment_type            5\n",
       "required_experience        7\n",
       "required_education        13\n",
       "industry                 131\n",
       "function                  37\n",
       "fraudulent                 2\n",
       "dtype: int64"
      ]
     },
     "execution_count": 61,
     "metadata": {},
     "output_type": "execute_result"
    }
   ],
   "source": [
    "df.nunique()"
   ]
  },
  {
   "cell_type": "markdown",
   "metadata": {},
   "source": [
    "We need to drop certain features in order to label certain categories"
   ]
  },
  {
   "cell_type": "code",
   "execution_count": 62,
   "metadata": {},
   "outputs": [],
   "source": [
    "features=['title','location','company_profile','description','requirements','benefits','industry','function']\n",
    "df.drop(features,axis=1,inplace=True)"
   ]
  },
  {
   "cell_type": "code",
   "execution_count": 63,
   "metadata": {},
   "outputs": [
    {
     "data": {
      "text/plain": [
       "telecommuting           int64\n",
       "has_company_logo        int64\n",
       "has_questions           int64\n",
       "employment_type        object\n",
       "required_experience    object\n",
       "required_education     object\n",
       "fraudulent              int64\n",
       "dtype: object"
      ]
     },
     "execution_count": 63,
     "metadata": {},
     "output_type": "execute_result"
    }
   ],
   "source": [
    "df.dtypes"
   ]
  },
  {
   "cell_type": "markdown",
   "metadata": {},
   "source": [
    "Dividing data into dependent and independent sets:"
   ]
  },
  {
   "cell_type": "code",
   "execution_count": 64,
   "metadata": {},
   "outputs": [],
   "source": [
    "X=df.drop('fraudulent',axis=1)\n",
    "y=df['fraudulent']"
   ]
  },
  {
   "cell_type": "code",
   "execution_count": 65,
   "metadata": {},
   "outputs": [
    {
     "data": {
      "text/plain": [
       "['telecommuting',\n",
       " 'has_company_logo',\n",
       " 'has_questions',\n",
       " 'employment_type',\n",
       " 'required_experience',\n",
       " 'required_education']"
      ]
     },
     "execution_count": 65,
     "metadata": {},
     "output_type": "execute_result"
    }
   ],
   "source": [
    "categorical=X.columns.tolist()\n",
    "categorical"
   ]
  },
  {
   "cell_type": "markdown",
   "metadata": {},
   "source": [
    "We do the labelling of data in order to feed it to the machine for model building."
   ]
  },
  {
   "cell_type": "code",
   "execution_count": 66,
   "metadata": {},
   "outputs": [],
   "source": [
    "from sklearn.preprocessing import LabelEncoder\n",
    "le=LabelEncoder()\n",
    "for i in categorical:\n",
    "      df[i]=le.fit_transform(df[i])"
   ]
  },
  {
   "cell_type": "code",
   "execution_count": 67,
   "metadata": {},
   "outputs": [
    {
     "data": {
      "text/html": [
       "<div>\n",
       "<style scoped>\n",
       "    .dataframe tbody tr th:only-of-type {\n",
       "        vertical-align: middle;\n",
       "    }\n",
       "\n",
       "    .dataframe tbody tr th {\n",
       "        vertical-align: top;\n",
       "    }\n",
       "\n",
       "    .dataframe thead th {\n",
       "        text-align: right;\n",
       "    }\n",
       "</style>\n",
       "<table border=\"1\" class=\"dataframe\">\n",
       "  <thead>\n",
       "    <tr style=\"text-align: right;\">\n",
       "      <th></th>\n",
       "      <th>telecommuting</th>\n",
       "      <th>has_company_logo</th>\n",
       "      <th>has_questions</th>\n",
       "      <th>employment_type</th>\n",
       "      <th>required_experience</th>\n",
       "      <th>required_education</th>\n",
       "      <th>fraudulent</th>\n",
       "    </tr>\n",
       "  </thead>\n",
       "  <tbody>\n",
       "    <tr>\n",
       "      <th>0</th>\n",
       "      <td>0</td>\n",
       "      <td>1</td>\n",
       "      <td>0</td>\n",
       "      <td>2</td>\n",
       "      <td>4</td>\n",
       "      <td>1</td>\n",
       "      <td>0</td>\n",
       "    </tr>\n",
       "    <tr>\n",
       "      <th>1</th>\n",
       "      <td>0</td>\n",
       "      <td>1</td>\n",
       "      <td>0</td>\n",
       "      <td>1</td>\n",
       "      <td>6</td>\n",
       "      <td>1</td>\n",
       "      <td>0</td>\n",
       "    </tr>\n",
       "    <tr>\n",
       "      <th>3</th>\n",
       "      <td>0</td>\n",
       "      <td>1</td>\n",
       "      <td>0</td>\n",
       "      <td>1</td>\n",
       "      <td>5</td>\n",
       "      <td>1</td>\n",
       "      <td>0</td>\n",
       "    </tr>\n",
       "    <tr>\n",
       "      <th>4</th>\n",
       "      <td>0</td>\n",
       "      <td>1</td>\n",
       "      <td>1</td>\n",
       "      <td>1</td>\n",
       "      <td>5</td>\n",
       "      <td>1</td>\n",
       "      <td>0</td>\n",
       "    </tr>\n",
       "    <tr>\n",
       "      <th>6</th>\n",
       "      <td>0</td>\n",
       "      <td>1</td>\n",
       "      <td>1</td>\n",
       "      <td>1</td>\n",
       "      <td>5</td>\n",
       "      <td>5</td>\n",
       "      <td>0</td>\n",
       "    </tr>\n",
       "  </tbody>\n",
       "</table>\n",
       "</div>"
      ],
      "text/plain": [
       "   telecommuting  has_company_logo  has_questions  employment_type  \\\n",
       "0              0                 1              0                2   \n",
       "1              0                 1              0                1   \n",
       "3              0                 1              0                1   \n",
       "4              0                 1              1                1   \n",
       "6              0                 1              1                1   \n",
       "\n",
       "   required_experience  required_education  fraudulent  \n",
       "0                    4                   1           0  \n",
       "1                    6                   1           0  \n",
       "3                    5                   1           0  \n",
       "4                    5                   1           0  \n",
       "6                    5                   5           0  "
      ]
     },
     "execution_count": 67,
     "metadata": {},
     "output_type": "execute_result"
    }
   ],
   "source": [
    "df.head()"
   ]
  },
  {
   "cell_type": "code",
   "execution_count": 68,
   "metadata": {},
   "outputs": [],
   "source": [
    "df.reset_index(drop=True,inplace=True)"
   ]
  },
  {
   "cell_type": "code",
   "execution_count": 69,
   "metadata": {},
   "outputs": [
    {
     "data": {
      "text/html": [
       "<div>\n",
       "<style scoped>\n",
       "    .dataframe tbody tr th:only-of-type {\n",
       "        vertical-align: middle;\n",
       "    }\n",
       "\n",
       "    .dataframe tbody tr th {\n",
       "        vertical-align: top;\n",
       "    }\n",
       "\n",
       "    .dataframe thead th {\n",
       "        text-align: right;\n",
       "    }\n",
       "</style>\n",
       "<table border=\"1\" class=\"dataframe\">\n",
       "  <thead>\n",
       "    <tr style=\"text-align: right;\">\n",
       "      <th></th>\n",
       "      <th>telecommuting</th>\n",
       "      <th>has_company_logo</th>\n",
       "      <th>has_questions</th>\n",
       "      <th>employment_type</th>\n",
       "      <th>required_experience</th>\n",
       "      <th>required_education</th>\n",
       "      <th>fraudulent</th>\n",
       "    </tr>\n",
       "  </thead>\n",
       "  <tbody>\n",
       "    <tr>\n",
       "      <th>0</th>\n",
       "      <td>0</td>\n",
       "      <td>1</td>\n",
       "      <td>0</td>\n",
       "      <td>2</td>\n",
       "      <td>4</td>\n",
       "      <td>1</td>\n",
       "      <td>0</td>\n",
       "    </tr>\n",
       "    <tr>\n",
       "      <th>1</th>\n",
       "      <td>0</td>\n",
       "      <td>1</td>\n",
       "      <td>0</td>\n",
       "      <td>1</td>\n",
       "      <td>6</td>\n",
       "      <td>1</td>\n",
       "      <td>0</td>\n",
       "    </tr>\n",
       "    <tr>\n",
       "      <th>2</th>\n",
       "      <td>0</td>\n",
       "      <td>1</td>\n",
       "      <td>0</td>\n",
       "      <td>1</td>\n",
       "      <td>5</td>\n",
       "      <td>1</td>\n",
       "      <td>0</td>\n",
       "    </tr>\n",
       "    <tr>\n",
       "      <th>3</th>\n",
       "      <td>0</td>\n",
       "      <td>1</td>\n",
       "      <td>1</td>\n",
       "      <td>1</td>\n",
       "      <td>5</td>\n",
       "      <td>1</td>\n",
       "      <td>0</td>\n",
       "    </tr>\n",
       "    <tr>\n",
       "      <th>4</th>\n",
       "      <td>0</td>\n",
       "      <td>1</td>\n",
       "      <td>1</td>\n",
       "      <td>1</td>\n",
       "      <td>5</td>\n",
       "      <td>5</td>\n",
       "      <td>0</td>\n",
       "    </tr>\n",
       "  </tbody>\n",
       "</table>\n",
       "</div>"
      ],
      "text/plain": [
       "   telecommuting  has_company_logo  has_questions  employment_type  \\\n",
       "0              0                 1              0                2   \n",
       "1              0                 1              0                1   \n",
       "2              0                 1              0                1   \n",
       "3              0                 1              1                1   \n",
       "4              0                 1              1                1   \n",
       "\n",
       "   required_experience  required_education  fraudulent  \n",
       "0                    4                   1           0  \n",
       "1                    6                   1           0  \n",
       "2                    5                   1           0  \n",
       "3                    5                   1           0  \n",
       "4                    5                   5           0  "
      ]
     },
     "execution_count": 69,
     "metadata": {},
     "output_type": "execute_result"
    }
   ],
   "source": [
    "df.head()"
   ]
  },
  {
   "cell_type": "code",
   "execution_count": 70,
   "metadata": {},
   "outputs": [
    {
     "data": {
      "text/plain": [
       "<AxesSubplot:>"
      ]
     },
     "execution_count": 70,
     "metadata": {},
     "output_type": "execute_result"
    },
    {
     "data": {
      "image/png": "[encoded data removed]",
      "text/plain": [
       "<Figure size 432x288 with 2 Axes>"
      ]
     },
     "metadata": {
      "needs_background": "light"
     },
     "output_type": "display_data"
    }
   ],
   "source": [
    "sns.heatmap(df.corr(),annot=True)"
   ]
  },
  {
   "cell_type": "markdown",
   "metadata": {},
   "source": [
    "It is visible from above that has_company_logo feature shows max correlation with fraudulency."
   ]
  },
  {
   "cell_type": "markdown",
   "metadata": {},
   "source": [
    "Now we normalize the dataset in order to bring all the features to a common ground to do a comparison."
   ]
  },
  {
   "cell_type": "markdown",
   "metadata": {},
   "source": [
    "normalizing the dataset:"
   ]
  },
  {
   "cell_type": "code",
   "execution_count": 71,
   "metadata": {},
   "outputs": [],
   "source": [
    "from sklearn.preprocessing import StandardScaler\n",
    "ss=StandardScaler()\n",
    "X_norm=ss.fit_transform(df[categorical])"
   ]
  },
  {
   "cell_type": "code",
   "execution_count": 72,
   "metadata": {},
   "outputs": [
    {
     "data": {
      "text/plain": [
       "Index(['telecommuting', 'has_company_logo', 'has_questions', 'employment_type',\n",
       "       'required_experience', 'required_education'],\n",
       "      dtype='object')"
      ]
     },
     "execution_count": 72,
     "metadata": {},
     "output_type": "execute_result"
    }
   ],
   "source": [
    "df[categorical].columns"
   ]
  },
  {
   "cell_type": "markdown",
   "metadata": {},
   "source": [
    "Random Oversampling:"
   ]
  },
  {
   "cell_type": "markdown",
   "metadata": {},
   "source": [
    "Technique used to balance the imbalance data set"
   ]
  },
  {
   "cell_type": "code",
   "execution_count": 73,
   "metadata": {},
   "outputs": [],
   "source": [
    "from imblearn.over_sampling import RandomOverSampler\n",
    "rs=RandomOverSampler(sampling_strategy='minority')\n",
    "X_over,y_over=rs.fit_resample(X_norm,y)"
   ]
  },
  {
   "cell_type": "code",
   "execution_count": 74,
   "metadata": {},
   "outputs": [
    {
     "data": {
      "text/plain": [
       "1    13783\n",
       "0    13783\n",
       "Name: fraudulent, dtype: int64"
      ]
     },
     "execution_count": 74,
     "metadata": {},
     "output_type": "execute_result"
    }
   ],
   "source": [
    "y_over.value_counts()"
   ]
  },
  {
   "cell_type": "markdown",
   "metadata": {},
   "source": [
    "Splitting into train and test set:"
   ]
  },
  {
   "cell_type": "code",
   "execution_count": 75,
   "metadata": {},
   "outputs": [],
   "source": [
    "from sklearn.model_selection import train_test_split\n",
    "X_train,X_test,y_train,y_test=train_test_split(X_over,y_over,test_size=0.15,random_state=42)"
   ]
  },
  {
   "cell_type": "code",
   "execution_count": 76,
   "metadata": {},
   "outputs": [
    {
     "data": {
      "text/plain": [
       "((23431, 6), (23431,), (4135, 6), (4135,))"
      ]
     },
     "execution_count": 76,
     "metadata": {},
     "output_type": "execute_result"
    }
   ],
   "source": [
    "X_train.shape,y_train.shape,X_test.shape,y_test.shape"
   ]
  },
  {
   "cell_type": "markdown",
   "metadata": {},
   "source": [
    "#### Model Building"
   ]
  },
  {
   "cell_type": "markdown",
   "metadata": {},
   "source": [
    "#### 1. Decision Tree"
   ]
  },
  {
   "cell_type": "code",
   "execution_count": 77,
   "metadata": {},
   "outputs": [],
   "source": [
    "from sklearn.tree import DecisionTreeClassifier\n",
    "DT=DecisionTreeClassifier(criterion='entropy')\n",
    "DT.fit(X_train,y_train)\n",
    "y_predict=DT.predict(X_test)"
   ]
  },
  {
   "cell_type": "code",
   "execution_count": 78,
   "metadata": {},
   "outputs": [
    {
     "data": {
      "text/plain": [
       "0.8026602176541717"
      ]
     },
     "execution_count": 78,
     "metadata": {},
     "output_type": "execute_result"
    }
   ],
   "source": [
    "from sklearn.metrics import accuracy_score\n",
    "accuracy_score(y_test,y_predict)"
   ]
  },
  {
   "cell_type": "markdown",
   "metadata": {},
   "source": [
    "We do various parameter iterations to check for model best score."
   ]
  },
  {
   "cell_type": "markdown",
   "metadata": {},
   "source": [
    "#### Changing the max_depth"
   ]
  },
  {
   "cell_type": "code",
   "execution_count": 79,
   "metadata": {},
   "outputs": [],
   "source": [
    "train_accuracy=[]\n",
    "validation=[]\n",
    "for i in range (1,30):\n",
    "    DT=DecisionTreeClassifier(criterion='entropy',max_depth=i,random_state=10)\n",
    "    DT.fit(X_train,y_train)\n",
    "    train_accuracy.append(DT.score(X_train,y_train))\n",
    "    validation.append(DT.score(X_test,y_test))"
   ]
  },
  {
   "cell_type": "code",
   "execution_count": 80,
   "metadata": {},
   "outputs": [
    {
     "data": {
      "text/html": [
       "<div>\n",
       "<style scoped>\n",
       "    .dataframe tbody tr th:only-of-type {\n",
       "        vertical-align: middle;\n",
       "    }\n",
       "\n",
       "    .dataframe tbody tr th {\n",
       "        vertical-align: top;\n",
       "    }\n",
       "\n",
       "    .dataframe thead th {\n",
       "        text-align: right;\n",
       "    }\n",
       "</style>\n",
       "<table border=\"1\" class=\"dataframe\">\n",
       "  <thead>\n",
       "    <tr style=\"text-align: right;\">\n",
       "      <th></th>\n",
       "      <th>max_depth</th>\n",
       "      <th>train_accuracy</th>\n",
       "      <th>validation</th>\n",
       "    </tr>\n",
       "  </thead>\n",
       "  <tbody>\n",
       "    <tr>\n",
       "      <th>0</th>\n",
       "      <td>1</td>\n",
       "      <td>0.710341</td>\n",
       "      <td>0.708585</td>\n",
       "    </tr>\n",
       "    <tr>\n",
       "      <th>1</th>\n",
       "      <td>2</td>\n",
       "      <td>0.710341</td>\n",
       "      <td>0.708585</td>\n",
       "    </tr>\n",
       "    <tr>\n",
       "      <th>2</th>\n",
       "      <td>3</td>\n",
       "      <td>0.719218</td>\n",
       "      <td>0.722128</td>\n",
       "    </tr>\n",
       "    <tr>\n",
       "      <th>3</th>\n",
       "      <td>4</td>\n",
       "      <td>0.731979</td>\n",
       "      <td>0.730109</td>\n",
       "    </tr>\n",
       "    <tr>\n",
       "      <th>4</th>\n",
       "      <td>5</td>\n",
       "      <td>0.743246</td>\n",
       "      <td>0.737848</td>\n",
       "    </tr>\n",
       "  </tbody>\n",
       "</table>\n",
       "</div>"
      ],
      "text/plain": [
       "   max_depth  train_accuracy  validation\n",
       "0          1        0.710341    0.708585\n",
       "1          2        0.710341    0.708585\n",
       "2          3        0.719218    0.722128\n",
       "3          4        0.731979    0.730109\n",
       "4          5        0.743246    0.737848"
      ]
     },
     "execution_count": 80,
     "metadata": {},
     "output_type": "execute_result"
    }
   ],
   "source": [
    "frame=pd.DataFrame({'max_depth':range(1,30),'train_accuracy':train_accuracy,'validation':validation})\n",
    "frame.head()"
   ]
  },
  {
   "cell_type": "code",
   "execution_count": 81,
   "metadata": {},
   "outputs": [
    {
     "data": {
      "image/png": "[encoded data removed]",
      "text/plain": [
       "<Figure size 720x576 with 1 Axes>"
      ]
     },
     "metadata": {
      "needs_background": "light"
     },
     "output_type": "display_data"
    }
   ],
   "source": [
    "plt.figure(figsize=(10,8))\n",
    "plt.plot(frame['max_depth'],frame['train_accuracy'],marker='o')\n",
    "plt.plot(frame['max_depth'],frame['validation'],marker='o')\n",
    "plt.xlabel('Depth of tree')\n",
    "plt.ylabel('Performance')\n",
    "plt.legend(frame[['train_accuracy','validation']])\n",
    "plt.show()"
   ]
  },
  {
   "cell_type": "markdown",
   "metadata": {},
   "source": [
    "Let's visualize the Decision tree at the optimal value"
   ]
  },
  {
   "cell_type": "markdown",
   "metadata": {},
   "source": [
    "We can see from above that the training and validation accuracy is similar and maximum at depth=10 "
   ]
  },
  {
   "cell_type": "code",
   "execution_count": 82,
   "metadata": {},
   "outputs": [],
   "source": [
    "DT=tree.DecisionTreeClassifier(criterion='entropy',max_depth=10,random_state=10)\n",
    "DT.fit(X_train,y_train)\n",
    "DT\n",
    "y_predict_DT=DT.predict(X_test)"
   ]
  },
  {
   "cell_type": "code",
   "execution_count": 83,
   "metadata": {},
   "outputs": [],
   "source": [
    "#X_train=pd.DataFrame(X_train,columns=['telecommuting', 'has_company_logo', 'has_questions', 'employment_type',\n",
    "       #'required_experience', 'required_education'])"
   ]
  },
  {
   "cell_type": "code",
   "execution_count": 84,
   "metadata": {},
   "outputs": [],
   "source": [
    "#dot_data = StringIO()\n",
    "#tree.export_graphviz(DT, out_file=dot_data,  \n",
    "                #filled=True, rounded=True,\n",
    "                #special_characters=True,feature_names=X_train.columns,class_names=DT.classes_)\n",
    "\n",
    "#graph = pydotplus.graph_from_dot_data(dot_data.getvalue())\n",
    "#Image(graph.create_png())"
   ]
  },
  {
   "cell_type": "markdown",
   "metadata": {},
   "source": [
    "#### Changing the criterion this time to gini"
   ]
  },
  {
   "cell_type": "code",
   "execution_count": 85,
   "metadata": {},
   "outputs": [],
   "source": [
    "train_accuracy=[]\n",
    "validation=[]\n",
    "for i in range (1,20):\n",
    "    DT=DecisionTreeClassifier(criterion='gini',max_depth=i,random_state=10)\n",
    "    DT.fit(X_train,y_train)\n",
    "    train_accuracy.append(DT.score(X_train,y_train))\n",
    "    validation.append(DT.score(X_test,y_test))"
   ]
  },
  {
   "cell_type": "code",
   "execution_count": 86,
   "metadata": {},
   "outputs": [
    {
     "data": {
      "text/html": [
       "<div>\n",
       "<style scoped>\n",
       "    .dataframe tbody tr th:only-of-type {\n",
       "        vertical-align: middle;\n",
       "    }\n",
       "\n",
       "    .dataframe tbody tr th {\n",
       "        vertical-align: top;\n",
       "    }\n",
       "\n",
       "    .dataframe thead th {\n",
       "        text-align: right;\n",
       "    }\n",
       "</style>\n",
       "<table border=\"1\" class=\"dataframe\">\n",
       "  <thead>\n",
       "    <tr style=\"text-align: right;\">\n",
       "      <th></th>\n",
       "      <th>max_depth</th>\n",
       "      <th>train_accuracy</th>\n",
       "      <th>validation</th>\n",
       "    </tr>\n",
       "  </thead>\n",
       "  <tbody>\n",
       "    <tr>\n",
       "      <th>0</th>\n",
       "      <td>1</td>\n",
       "      <td>0.710341</td>\n",
       "      <td>0.708585</td>\n",
       "    </tr>\n",
       "    <tr>\n",
       "      <th>1</th>\n",
       "      <td>2</td>\n",
       "      <td>0.710341</td>\n",
       "      <td>0.708585</td>\n",
       "    </tr>\n",
       "    <tr>\n",
       "      <th>2</th>\n",
       "      <td>3</td>\n",
       "      <td>0.719218</td>\n",
       "      <td>0.722128</td>\n",
       "    </tr>\n",
       "    <tr>\n",
       "      <th>3</th>\n",
       "      <td>4</td>\n",
       "      <td>0.731979</td>\n",
       "      <td>0.730109</td>\n",
       "    </tr>\n",
       "    <tr>\n",
       "      <th>4</th>\n",
       "      <td>5</td>\n",
       "      <td>0.743374</td>\n",
       "      <td>0.737848</td>\n",
       "    </tr>\n",
       "  </tbody>\n",
       "</table>\n",
       "</div>"
      ],
      "text/plain": [
       "   max_depth  train_accuracy  validation\n",
       "0          1        0.710341    0.708585\n",
       "1          2        0.710341    0.708585\n",
       "2          3        0.719218    0.722128\n",
       "3          4        0.731979    0.730109\n",
       "4          5        0.743374    0.737848"
      ]
     },
     "execution_count": 86,
     "metadata": {},
     "output_type": "execute_result"
    }
   ],
   "source": [
    "frame=pd.DataFrame({'max_depth':range(1,20),'train_accuracy':train_accuracy,'validation':validation})\n",
    "frame.head()"
   ]
  },
  {
   "cell_type": "code",
   "execution_count": 87,
   "metadata": {},
   "outputs": [
    {
     "data": {
      "image/png": "[encoded data removed]",
      "text/plain": [
       "<Figure size 720x576 with 1 Axes>"
      ]
     },
     "metadata": {
      "needs_background": "light"
     },
     "output_type": "display_data"
    }
   ],
   "source": [
    "plt.figure(figsize=(10,8))\n",
    "plt.plot(frame['max_depth'],frame['train_accuracy'],marker='o')\n",
    "plt.plot(frame['max_depth'],frame['validation'],marker='o')\n",
    "plt.xlabel('Depth of tree')\n",
    "plt.ylabel('Performance')\n",
    "plt.legend(frame[['train_accuracy','validation']])\n",
    "plt.show()"
   ]
  },
  {
   "cell_type": "markdown",
   "metadata": {},
   "source": [
    "We can see similar curve here and maximum training an testing accuracy to be similar at a depth of 10."
   ]
  },
  {
   "cell_type": "markdown",
   "metadata": {},
   "source": [
    "### 2. SVM Model"
   ]
  },
  {
   "cell_type": "code",
   "execution_count": 88,
   "metadata": {},
   "outputs": [],
   "source": [
    "from sklearn import svm\n",
    "classifier=svm.SVC(kernel='linear',gamma='auto',C=2)\n",
    "classifier.fit(X_train,y_train)\n",
    "y_predict=classifier.predict(X_test)"
   ]
  },
  {
   "cell_type": "markdown",
   "metadata": {},
   "source": [
    "Checking the classification report:"
   ]
  },
  {
   "cell_type": "code",
   "execution_count": 89,
   "metadata": {},
   "outputs": [
    {
     "name": "stdout",
     "output_type": "stream",
     "text": [
      "              precision    recall  f1-score   support\n",
      "\n",
      "           0       0.67      0.82      0.74      2094\n",
      "           1       0.76      0.59      0.67      2041\n",
      "\n",
      "    accuracy                           0.71      4135\n",
      "   macro avg       0.72      0.71      0.70      4135\n",
      "weighted avg       0.72      0.71      0.70      4135\n",
      "\n"
     ]
    }
   ],
   "source": [
    "from sklearn.metrics import classification_report\n",
    "print(classification_report(y_test,y_predict))"
   ]
  },
  {
   "cell_type": "markdown",
   "metadata": {},
   "source": [
    "Changing the Kernel functions and checking whether our model's accuracy increases:"
   ]
  },
  {
   "cell_type": "code",
   "execution_count": 90,
   "metadata": {},
   "outputs": [],
   "source": [
    "classifier=svm.SVC(kernel='poly',gamma='auto',C=2)\n",
    "classifier.fit(X_train,y_train)\n",
    "y_predict=classifier.predict(X_test)"
   ]
  },
  {
   "cell_type": "code",
   "execution_count": 91,
   "metadata": {},
   "outputs": [
    {
     "name": "stdout",
     "output_type": "stream",
     "text": [
      "              precision    recall  f1-score   support\n",
      "\n",
      "           0       0.69      0.82      0.75      2094\n",
      "           1       0.77      0.62      0.69      2041\n",
      "\n",
      "    accuracy                           0.72      4135\n",
      "   macro avg       0.73      0.72      0.72      4135\n",
      "weighted avg       0.73      0.72      0.72      4135\n",
      "\n"
     ]
    }
   ],
   "source": [
    "print(classification_report(y_test,y_predict))"
   ]
  },
  {
   "cell_type": "code",
   "execution_count": 92,
   "metadata": {},
   "outputs": [],
   "source": [
    "classifier=svm.SVC(kernel='rbf',gamma='auto',C=2)\n",
    "classifier.fit(X_train,y_train)\n",
    "y_predict_svm=classifier.predict(X_test)"
   ]
  },
  {
   "cell_type": "code",
   "execution_count": 93,
   "metadata": {},
   "outputs": [
    {
     "name": "stdout",
     "output_type": "stream",
     "text": [
      "              precision    recall  f1-score   support\n",
      "\n",
      "           0       0.76      0.78      0.77      2094\n",
      "           1       0.77      0.74      0.76      2041\n",
      "\n",
      "    accuracy                           0.76      4135\n",
      "   macro avg       0.76      0.76      0.76      4135\n",
      "weighted avg       0.76      0.76      0.76      4135\n",
      "\n"
     ]
    }
   ],
   "source": [
    "print(classification_report(y_test,y_predict_svm))"
   ]
  },
  {
   "cell_type": "code",
   "execution_count": 94,
   "metadata": {},
   "outputs": [],
   "source": [
    "classifier=svm.SVC(kernel='sigmoid',gamma='auto',C=2)\n",
    "classifier.fit(X_train,y_train)\n",
    "y_predict=classifier.predict(X_test)"
   ]
  },
  {
   "cell_type": "code",
   "execution_count": 95,
   "metadata": {},
   "outputs": [
    {
     "name": "stdout",
     "output_type": "stream",
     "text": [
      "              precision    recall  f1-score   support\n",
      "\n",
      "           0       0.54      0.54      0.54      2094\n",
      "           1       0.52      0.51      0.52      2041\n",
      "\n",
      "    accuracy                           0.53      4135\n",
      "   macro avg       0.53      0.53      0.53      4135\n",
      "weighted avg       0.53      0.53      0.53      4135\n",
      "\n"
     ]
    }
   ],
   "source": [
    "print(classification_report(y_test,y_predict))"
   ]
  },
  {
   "cell_type": "markdown",
   "metadata": {},
   "source": [
    "Hence we can see from the classification reports that 'RBF' kernel function shows the best scores."
   ]
  },
  {
   "cell_type": "markdown",
   "metadata": {},
   "source": [
    "#### 3.Logistic Regression"
   ]
  },
  {
   "cell_type": "code",
   "execution_count": 96,
   "metadata": {},
   "outputs": [],
   "source": [
    "from sklearn.linear_model import LogisticRegression"
   ]
  },
  {
   "cell_type": "markdown",
   "metadata": {},
   "source": [
    "Instantiating a regressor"
   ]
  },
  {
   "cell_type": "code",
   "execution_count": 97,
   "metadata": {},
   "outputs": [
    {
     "data": {
      "text/plain": [
       "LogisticRegression()"
      ]
     },
     "execution_count": 97,
     "metadata": {},
     "output_type": "execute_result"
    }
   ],
   "source": [
    "lr=LogisticRegression()\n",
    "lr.fit(X_train,y_train)"
   ]
  },
  {
   "cell_type": "markdown",
   "metadata": {},
   "source": [
    "Lets predict our data:"
   ]
  },
  {
   "cell_type": "code",
   "execution_count": 98,
   "metadata": {},
   "outputs": [
    {
     "data": {
      "text/plain": [
       "array([0, 0, 1, ..., 1, 1, 1], dtype=int64)"
      ]
     },
     "execution_count": 98,
     "metadata": {},
     "output_type": "execute_result"
    }
   ],
   "source": [
    "y_predict_lr=lr.predict(X_test)\n",
    "y_predict_lr"
   ]
  },
  {
   "cell_type": "markdown",
   "metadata": {},
   "source": [
    "Lets see how our model is performing:"
   ]
  },
  {
   "cell_type": "code",
   "execution_count": 99,
   "metadata": {},
   "outputs": [
    {
     "name": "stdout",
     "output_type": "stream",
     "text": [
      "              precision    recall  f1-score   support\n",
      "\n",
      "           0       0.54      0.54      0.54      2094\n",
      "           1       0.52      0.51      0.52      2041\n",
      "\n",
      "    accuracy                           0.53      4135\n",
      "   macro avg       0.53      0.53      0.53      4135\n",
      "weighted avg       0.53      0.53      0.53      4135\n",
      "\n"
     ]
    }
   ],
   "source": [
    "print(classification_report(y_test,y_predict))"
   ]
  },
  {
   "cell_type": "code",
   "execution_count": 100,
   "metadata": {},
   "outputs": [
    {
     "data": {
      "text/plain": [
       "0.5298669891172915"
      ]
     },
     "execution_count": 100,
     "metadata": {},
     "output_type": "execute_result"
    }
   ],
   "source": [
    "accuracy_score(y_test,y_predict)"
   ]
  },
  {
   "cell_type": "markdown",
   "metadata": {},
   "source": [
    "Lets test our model:"
   ]
  },
  {
   "cell_type": "code",
   "execution_count": 101,
   "metadata": {},
   "outputs": [],
   "source": [
    "from sklearn.metrics import confusion_matrix"
   ]
  },
  {
   "cell_type": "markdown",
   "metadata": {},
   "source": [
    "Lets build a confusion matrix to see :"
   ]
  },
  {
   "cell_type": "code",
   "execution_count": 102,
   "metadata": {},
   "outputs": [
    {
     "data": {
      "text/html": [
       "<div>\n",
       "<style scoped>\n",
       "    .dataframe tbody tr th:only-of-type {\n",
       "        vertical-align: middle;\n",
       "    }\n",
       "\n",
       "    .dataframe tbody tr th {\n",
       "        vertical-align: top;\n",
       "    }\n",
       "\n",
       "    .dataframe thead th {\n",
       "        text-align: right;\n",
       "    }\n",
       "</style>\n",
       "<table border=\"1\" class=\"dataframe\">\n",
       "  <thead>\n",
       "    <tr style=\"text-align: right;\">\n",
       "      <th></th>\n",
       "      <th>Predicted No</th>\n",
       "      <th>Predicted Yes</th>\n",
       "    </tr>\n",
       "  </thead>\n",
       "  <tbody>\n",
       "    <tr>\n",
       "      <th>Actual No</th>\n",
       "      <td>1140</td>\n",
       "      <td>954</td>\n",
       "    </tr>\n",
       "    <tr>\n",
       "      <th>Actual Yes</th>\n",
       "      <td>990</td>\n",
       "      <td>1051</td>\n",
       "    </tr>\n",
       "  </tbody>\n",
       "</table>\n",
       "</div>"
      ],
      "text/plain": [
       "            Predicted No  Predicted Yes\n",
       "Actual No           1140            954\n",
       "Actual Yes           990           1051"
      ]
     },
     "execution_count": 102,
     "metadata": {},
     "output_type": "execute_result"
    }
   ],
   "source": [
    "pd.DataFrame(confusion_matrix(y_test,y_predict),columns=['Predicted No','Predicted Yes'],index=['Actual No','Actual Yes'])"
   ]
  },
  {
   "cell_type": "markdown",
   "metadata": {},
   "source": [
    "#### 4.Random Forest"
   ]
  },
  {
   "cell_type": "code",
   "execution_count": 103,
   "metadata": {},
   "outputs": [],
   "source": [
    "from sklearn.ensemble import RandomForestClassifier\n",
    "from sklearn.metrics import f1_score"
   ]
  },
  {
   "cell_type": "code",
   "execution_count": 104,
   "metadata": {},
   "outputs": [
    {
     "name": "stdout",
     "output_type": "stream",
     "text": [
      "Random Forest: Accuracy=0.802\n",
      "Random Forest: f1-score=0.802\n"
     ]
    }
   ],
   "source": [
    "clf = RandomForestClassifier(n_estimators=300, random_state = 1,n_jobs=-1)\n",
    "model_res = clf.fit(X_train, y_train)\n",
    "y_pred_RF = model_res.predict(X_test)\n",
    "y_pred_prob = model_res.predict_proba(X_test)\n",
    "lr_probs = y_pred_prob[:,1]\n",
    "ac = accuracy_score(y_test, y_pred_RF)\n",
    "\n",
    "f1 = f1_score(y_test, y_pred_RF, average='weighted')\n",
    "cm = confusion_matrix(y_test, y_pred_RF)\n",
    "\n",
    "print('Random Forest: Accuracy=%.3f' % (ac))\n",
    "\n",
    "print('Random Forest: f1-score=%.3f' % (f1))"
   ]
  },
  {
   "cell_type": "markdown",
   "metadata": {},
   "source": [
    "Let's visualize the confusion matrix:"
   ]
  },
  {
   "cell_type": "code",
   "execution_count": 105,
   "metadata": {},
   "outputs": [
    {
     "data": {
      "text/html": [
       "<div>\n",
       "<style scoped>\n",
       "    .dataframe tbody tr th:only-of-type {\n",
       "        vertical-align: middle;\n",
       "    }\n",
       "\n",
       "    .dataframe tbody tr th {\n",
       "        vertical-align: top;\n",
       "    }\n",
       "\n",
       "    .dataframe thead th {\n",
       "        text-align: right;\n",
       "    }\n",
       "</style>\n",
       "<table border=\"1\" class=\"dataframe\">\n",
       "  <thead>\n",
       "    <tr style=\"text-align: right;\">\n",
       "      <th></th>\n",
       "      <th>Predicted No</th>\n",
       "      <th>Predicted Yes</th>\n",
       "    </tr>\n",
       "  </thead>\n",
       "  <tbody>\n",
       "    <tr>\n",
       "      <th>Actual No</th>\n",
       "      <td>1140</td>\n",
       "      <td>954</td>\n",
       "    </tr>\n",
       "    <tr>\n",
       "      <th>Actual Yes</th>\n",
       "      <td>990</td>\n",
       "      <td>1051</td>\n",
       "    </tr>\n",
       "  </tbody>\n",
       "</table>\n",
       "</div>"
      ],
      "text/plain": [
       "            Predicted No  Predicted Yes\n",
       "Actual No           1140            954\n",
       "Actual Yes           990           1051"
      ]
     },
     "execution_count": 105,
     "metadata": {},
     "output_type": "execute_result"
    }
   ],
   "source": [
    "pd.DataFrame(confusion_matrix(y_test,y_predict),columns=['Predicted No','Predicted Yes'],index=['Actual No','Actual Yes'])"
   ]
  },
  {
   "cell_type": "markdown",
   "metadata": {},
   "source": [
    "The random forest gives us the accuracy score of 80.6%"
   ]
  },
  {
   "cell_type": "markdown",
   "metadata": {},
   "source": [
    "Let's check the important features in the RandomForest model"
   ]
  },
  {
   "cell_type": "code",
   "execution_count": 106,
   "metadata": {},
   "outputs": [
    {
     "name": "stdout",
     "output_type": "stream",
     "text": [
      "6\n"
     ]
    },
    {
     "data": {
      "image/png": "[encoded data removed]",
      "text/plain": [
       "<Figure size 720x720 with 1 Axes>"
      ]
     },
     "metadata": {
      "needs_background": "light"
     },
     "output_type": "display_data"
    }
   ],
   "source": [
    "feature_importance = clf.feature_importances_\n",
    "\n",
    "feature_importance = 100.0 * (feature_importance / feature_importance.max())[:30]\n",
    "sorted_idx = np.argsort(feature_importance)[:30]\n",
    "\n",
    "pos = np.arange(sorted_idx.shape[0]) + .5\n",
    "print(pos.size)\n",
    "sorted_idx.size\n",
    "plt.figure(figsize=(10,10))\n",
    "plt.barh(pos, feature_importance[sorted_idx], align='center')\n",
    "plt.yticks(pos, X.columns[sorted_idx])\n",
    "plt.xlabel('Relative Importance')\n",
    "plt.title('Variable Importance')\n",
    "plt.show()"
   ]
  },
  {
   "cell_type": "markdown",
   "metadata": {},
   "source": [
    "We can see from above that the feature 'has_company_logo' is relatively the most important factor for deciding\n",
    "the fraudulency of job."
   ]
  },
  {
   "cell_type": "markdown",
   "metadata": {},
   "source": [
    "#### Lets plot the ROC and AUC of the optimum models to finalize the best model"
   ]
  },
  {
   "cell_type": "code",
   "execution_count": 107,
   "metadata": {},
   "outputs": [],
   "source": [
    "from sklearn.metrics import roc_curve,auc"
   ]
  },
  {
   "cell_type": "code",
   "execution_count": 108,
   "metadata": {},
   "outputs": [
    {
     "data": {
      "image/png": "[encoded data removed]",
      "text/plain": [
       "<Figure size 600x600 with 1 Axes>"
      ]
     },
     "metadata": {
      "needs_background": "light"
     },
     "output_type": "display_data"
    }
   ],
   "source": [
    "logistic_fpr,logistic_tpr,threshold=roc_curve(y_test,y_predict_lr)\n",
    "auc_logistic=auc(logistic_fpr,logistic_tpr)\n",
    "\n",
    "RF_fpr,RF_tpr,threshold=roc_curve(y_test,y_pred_RF)\n",
    "auc_RF=auc(RF_fpr,RF_tpr)\n",
    "\n",
    "svm_fpr,svm_tpr,threshold=roc_curve(y_test,y_predict_svm)\n",
    "auc_svm=auc(svm_fpr,svm_tpr)\n",
    "\n",
    "DT_fpr,DT_tpr,threshold=roc_curve(y_test,y_predict_DT)\n",
    "auc_DT=auc(DT_fpr,DT_tpr)\n",
    "\n",
    "plt.figure(figsize=(6,6),dpi=100)\n",
    "plt.plot(logistic_fpr,logistic_tpr,marker='.',label='Logistic(auc=%0.3f)'%auc_logistic)\n",
    "plt.plot(RF_fpr,RF_tpr,linestyle='-',label='RandomForest(auc=%0.3f)'%auc_RF)\n",
    "plt.plot(svm_fpr,svm_tpr,marker='.',label='SVM(auc=%0.3f)'%auc_svm)\n",
    "plt.plot(DT_fpr,DT_tpr,linestyle='--',label='DecisionTree(auc=%0.3f)'%auc_DT)\n",
    "\n",
    "plt.xlabel('False Positive Rate')\n",
    "plt.ylabel('True Positive Rate')\n",
    "\n",
    "plt.legend()\n",
    "\n",
    "plt.show()"
   ]
  },
  {
   "cell_type": "markdown",
   "metadata": {},
   "source": [
    "#### We know that the curve having the maximum area is the best for the model building and we can see Random forest is having the maximum area under curve hence we will go with the Random forest model as our best model to figure out fraudulent job."
   ]
  }
 ],
 "metadata": {
  "kernelspec": {
   "display_name": "Python 3",
   "language": "python",
   "name": "python3"
  },
  "language_info": {
   "codemirror_mode": {
    "name": "ipython",
    "version": 3
   },
   "file_extension": ".py",
   "mimetype": "text/x-python",
   "name": "python",
   "nbconvert_exporter": "python",
   "pygments_lexer": "ipython3",
   "version": "3.8.5"
  }
 },
 "nbformat": 4,
 "nbformat_minor": 4
}
