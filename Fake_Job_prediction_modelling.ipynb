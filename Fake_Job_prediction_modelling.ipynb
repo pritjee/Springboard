{
 "cells": [
  {
   "cell_type": "markdown",
   "metadata": {},
   "source": [
    "# Fake Job Postings Detection"
   ]
  },
  {
   "cell_type": "markdown",
   "metadata": {},
   "source": [
    "#### Importing libraries"
   ]
  },
  {
   "cell_type": "code",
   "execution_count": 1,
   "metadata": {},
   "outputs": [],
   "source": [
    "import numpy as np \n",
    "import pandas as pd \n",
    "import seaborn as sns\n",
    "import matplotlib.pyplot as plt\n",
    "%matplotlib inline"
   ]
  },
  {
   "cell_type": "markdown",
   "metadata": {},
   "source": [
    "#### Data Wrangling "
   ]
  },
  {
   "cell_type": "code",
   "execution_count": 2,
   "metadata": {},
   "outputs": [
    {
     "data": {
      "text/html": [
       "<div>\n",
       "<style scoped>\n",
       "    .dataframe tbody tr th:only-of-type {\n",
       "        vertical-align: middle;\n",
       "    }\n",
       "\n",
       "    .dataframe tbody tr th {\n",
       "        vertical-align: top;\n",
       "    }\n",
       "\n",
       "    .dataframe thead th {\n",
       "        text-align: right;\n",
       "    }\n",
       "</style>\n",
       "<table border=\"1\" class=\"dataframe\">\n",
       "  <thead>\n",
       "    <tr style=\"text-align: right;\">\n",
       "      <th></th>\n",
       "      <th>job_id</th>\n",
       "      <th>title</th>\n",
       "      <th>location</th>\n",
       "      <th>department</th>\n",
       "      <th>salary_range</th>\n",
       "      <th>company_profile</th>\n",
       "      <th>description</th>\n",
       "      <th>requirements</th>\n",
       "      <th>benefits</th>\n",
       "      <th>telecommuting</th>\n",
       "      <th>has_company_logo</th>\n",
       "      <th>has_questions</th>\n",
       "      <th>employment_type</th>\n",
       "      <th>required_experience</th>\n",
       "      <th>required_education</th>\n",
       "      <th>industry</th>\n",
       "      <th>function</th>\n",
       "      <th>fraudulent</th>\n",
       "    </tr>\n",
       "  </thead>\n",
       "  <tbody>\n",
       "    <tr>\n",
       "      <th>0</th>\n",
       "      <td>1</td>\n",
       "      <td>Marketing Intern</td>\n",
       "      <td>US, NY, New York</td>\n",
       "      <td>Marketing</td>\n",
       "      <td>NaN</td>\n",
       "      <td>We're Food52, and we've created a groundbreaki...</td>\n",
       "      <td>Food52, a fast-growing, James Beard Award-winn...</td>\n",
       "      <td>Experience with content management systems a m...</td>\n",
       "      <td>NaN</td>\n",
       "      <td>0</td>\n",
       "      <td>1</td>\n",
       "      <td>0</td>\n",
       "      <td>Other</td>\n",
       "      <td>Internship</td>\n",
       "      <td>NaN</td>\n",
       "      <td>NaN</td>\n",
       "      <td>Marketing</td>\n",
       "      <td>0</td>\n",
       "    </tr>\n",
       "    <tr>\n",
       "      <th>1</th>\n",
       "      <td>2</td>\n",
       "      <td>Customer Service - Cloud Video Production</td>\n",
       "      <td>NZ, , Auckland</td>\n",
       "      <td>Success</td>\n",
       "      <td>NaN</td>\n",
       "      <td>90 Seconds, the worlds Cloud Video Production ...</td>\n",
       "      <td>Organised - Focused - Vibrant - Awesome!Do you...</td>\n",
       "      <td>What we expect from you:Your key responsibilit...</td>\n",
       "      <td>What you will get from usThrough being part of...</td>\n",
       "      <td>0</td>\n",
       "      <td>1</td>\n",
       "      <td>0</td>\n",
       "      <td>Full-time</td>\n",
       "      <td>Not Applicable</td>\n",
       "      <td>NaN</td>\n",
       "      <td>Marketing and Advertising</td>\n",
       "      <td>Customer Service</td>\n",
       "      <td>0</td>\n",
       "    </tr>\n",
       "    <tr>\n",
       "      <th>2</th>\n",
       "      <td>3</td>\n",
       "      <td>Commissioning Machinery Assistant (CMA)</td>\n",
       "      <td>US, IA, Wever</td>\n",
       "      <td>NaN</td>\n",
       "      <td>NaN</td>\n",
       "      <td>Valor Services provides Workforce Solutions th...</td>\n",
       "      <td>Our client, located in Houston, is actively se...</td>\n",
       "      <td>Implement pre-commissioning and commissioning ...</td>\n",
       "      <td>NaN</td>\n",
       "      <td>0</td>\n",
       "      <td>1</td>\n",
       "      <td>0</td>\n",
       "      <td>NaN</td>\n",
       "      <td>NaN</td>\n",
       "      <td>NaN</td>\n",
       "      <td>NaN</td>\n",
       "      <td>NaN</td>\n",
       "      <td>0</td>\n",
       "    </tr>\n",
       "    <tr>\n",
       "      <th>3</th>\n",
       "      <td>4</td>\n",
       "      <td>Account Executive - Washington DC</td>\n",
       "      <td>US, DC, Washington</td>\n",
       "      <td>Sales</td>\n",
       "      <td>NaN</td>\n",
       "      <td>Our passion for improving quality of life thro...</td>\n",
       "      <td>THE COMPANY: ESRI – Environmental Systems Rese...</td>\n",
       "      <td>EDUCATION: Bachelor’s or Master’s in GIS, busi...</td>\n",
       "      <td>Our culture is anything but corporate—we have ...</td>\n",
       "      <td>0</td>\n",
       "      <td>1</td>\n",
       "      <td>0</td>\n",
       "      <td>Full-time</td>\n",
       "      <td>Mid-Senior level</td>\n",
       "      <td>Bachelor's Degree</td>\n",
       "      <td>Computer Software</td>\n",
       "      <td>Sales</td>\n",
       "      <td>0</td>\n",
       "    </tr>\n",
       "    <tr>\n",
       "      <th>4</th>\n",
       "      <td>5</td>\n",
       "      <td>Bill Review Manager</td>\n",
       "      <td>US, FL, Fort Worth</td>\n",
       "      <td>NaN</td>\n",
       "      <td>NaN</td>\n",
       "      <td>SpotSource Solutions LLC is a Global Human Cap...</td>\n",
       "      <td>JOB TITLE: Itemization Review ManagerLOCATION:...</td>\n",
       "      <td>QUALIFICATIONS:RN license in the State of Texa...</td>\n",
       "      <td>Full Benefits Offered</td>\n",
       "      <td>0</td>\n",
       "      <td>1</td>\n",
       "      <td>1</td>\n",
       "      <td>Full-time</td>\n",
       "      <td>Mid-Senior level</td>\n",
       "      <td>Bachelor's Degree</td>\n",
       "      <td>Hospital &amp; Health Care</td>\n",
       "      <td>Health Care Provider</td>\n",
       "      <td>0</td>\n",
       "    </tr>\n",
       "  </tbody>\n",
       "</table>\n",
       "</div>"
      ],
      "text/plain": [
       "   job_id                                      title            location  \\\n",
       "0       1                           Marketing Intern    US, NY, New York   \n",
       "1       2  Customer Service - Cloud Video Production      NZ, , Auckland   \n",
       "2       3    Commissioning Machinery Assistant (CMA)       US, IA, Wever   \n",
       "3       4          Account Executive - Washington DC  US, DC, Washington   \n",
       "4       5                        Bill Review Manager  US, FL, Fort Worth   \n",
       "\n",
       "  department salary_range                                    company_profile  \\\n",
       "0  Marketing          NaN  We're Food52, and we've created a groundbreaki...   \n",
       "1    Success          NaN  90 Seconds, the worlds Cloud Video Production ...   \n",
       "2        NaN          NaN  Valor Services provides Workforce Solutions th...   \n",
       "3      Sales          NaN  Our passion for improving quality of life thro...   \n",
       "4        NaN          NaN  SpotSource Solutions LLC is a Global Human Cap...   \n",
       "\n",
       "                                         description  \\\n",
       "0  Food52, a fast-growing, James Beard Award-winn...   \n",
       "1  Organised - Focused - Vibrant - Awesome!Do you...   \n",
       "2  Our client, located in Houston, is actively se...   \n",
       "3  THE COMPANY: ESRI – Environmental Systems Rese...   \n",
       "4  JOB TITLE: Itemization Review ManagerLOCATION:...   \n",
       "\n",
       "                                        requirements  \\\n",
       "0  Experience with content management systems a m...   \n",
       "1  What we expect from you:Your key responsibilit...   \n",
       "2  Implement pre-commissioning and commissioning ...   \n",
       "3  EDUCATION: Bachelor’s or Master’s in GIS, busi...   \n",
       "4  QUALIFICATIONS:RN license in the State of Texa...   \n",
       "\n",
       "                                            benefits  telecommuting  \\\n",
       "0                                                NaN              0   \n",
       "1  What you will get from usThrough being part of...              0   \n",
       "2                                                NaN              0   \n",
       "3  Our culture is anything but corporate—we have ...              0   \n",
       "4                              Full Benefits Offered              0   \n",
       "\n",
       "   has_company_logo  has_questions employment_type required_experience  \\\n",
       "0                 1              0           Other          Internship   \n",
       "1                 1              0       Full-time      Not Applicable   \n",
       "2                 1              0             NaN                 NaN   \n",
       "3                 1              0       Full-time    Mid-Senior level   \n",
       "4                 1              1       Full-time    Mid-Senior level   \n",
       "\n",
       "  required_education                   industry              function  \\\n",
       "0                NaN                        NaN             Marketing   \n",
       "1                NaN  Marketing and Advertising      Customer Service   \n",
       "2                NaN                        NaN                   NaN   \n",
       "3  Bachelor's Degree          Computer Software                 Sales   \n",
       "4  Bachelor's Degree     Hospital & Health Care  Health Care Provider   \n",
       "\n",
       "   fraudulent  \n",
       "0           0  \n",
       "1           0  \n",
       "2           0  \n",
       "3           0  \n",
       "4           0  "
      ]
     },
     "execution_count": 2,
     "metadata": {},
     "output_type": "execute_result"
    }
   ],
   "source": [
    "df=pd.read_csv('fake_job_postings.csv')\n",
    "df.head()"
   ]
  },
  {
   "cell_type": "code",
   "execution_count": 3,
   "metadata": {},
   "outputs": [
    {
     "data": {
      "text/plain": [
       "(17880, 18)"
      ]
     },
     "execution_count": 3,
     "metadata": {},
     "output_type": "execute_result"
    }
   ],
   "source": [
    "df.shape"
   ]
  },
  {
   "cell_type": "code",
   "execution_count": 4,
   "metadata": {},
   "outputs": [
    {
     "name": "stdout",
     "output_type": "stream",
     "text": [
      "<class 'pandas.core.frame.DataFrame'>\n",
      "RangeIndex: 17880 entries, 0 to 17879\n",
      "Data columns (total 18 columns):\n",
      " #   Column               Non-Null Count  Dtype \n",
      "---  ------               --------------  ----- \n",
      " 0   job_id               17880 non-null  int64 \n",
      " 1   title                17880 non-null  object\n",
      " 2   location             17534 non-null  object\n",
      " 3   department           6333 non-null   object\n",
      " 4   salary_range         2868 non-null   object\n",
      " 5   company_profile      14572 non-null  object\n",
      " 6   description          17879 non-null  object\n",
      " 7   requirements         15185 non-null  object\n",
      " 8   benefits             10670 non-null  object\n",
      " 9   telecommuting        17880 non-null  int64 \n",
      " 10  has_company_logo     17880 non-null  int64 \n",
      " 11  has_questions        17880 non-null  int64 \n",
      " 12  employment_type      14409 non-null  object\n",
      " 13  required_experience  10830 non-null  object\n",
      " 14  required_education   9775 non-null   object\n",
      " 15  industry             12977 non-null  object\n",
      " 16  function             11425 non-null  object\n",
      " 17  fraudulent           17880 non-null  int64 \n",
      "dtypes: int64(5), object(13)\n",
      "memory usage: 2.5+ MB\n"
     ]
    }
   ],
   "source": [
    "df.info()"
   ]
  },
  {
   "cell_type": "code",
   "execution_count": 5,
   "metadata": {},
   "outputs": [
    {
     "data": {
      "text/html": [
       "<div>\n",
       "<style scoped>\n",
       "    .dataframe tbody tr th:only-of-type {\n",
       "        vertical-align: middle;\n",
       "    }\n",
       "\n",
       "    .dataframe tbody tr th {\n",
       "        vertical-align: top;\n",
       "    }\n",
       "\n",
       "    .dataframe thead th {\n",
       "        text-align: right;\n",
       "    }\n",
       "</style>\n",
       "<table border=\"1\" class=\"dataframe\">\n",
       "  <thead>\n",
       "    <tr style=\"text-align: right;\">\n",
       "      <th></th>\n",
       "      <th>job_id</th>\n",
       "      <th>telecommuting</th>\n",
       "      <th>has_company_logo</th>\n",
       "      <th>has_questions</th>\n",
       "      <th>fraudulent</th>\n",
       "    </tr>\n",
       "  </thead>\n",
       "  <tbody>\n",
       "    <tr>\n",
       "      <th>count</th>\n",
       "      <td>17880.000000</td>\n",
       "      <td>17880.000000</td>\n",
       "      <td>17880.000000</td>\n",
       "      <td>17880.000000</td>\n",
       "      <td>17880.000000</td>\n",
       "    </tr>\n",
       "    <tr>\n",
       "      <th>mean</th>\n",
       "      <td>8940.500000</td>\n",
       "      <td>0.042897</td>\n",
       "      <td>0.795302</td>\n",
       "      <td>0.491723</td>\n",
       "      <td>0.048434</td>\n",
       "    </tr>\n",
       "    <tr>\n",
       "      <th>std</th>\n",
       "      <td>5161.655742</td>\n",
       "      <td>0.202631</td>\n",
       "      <td>0.403492</td>\n",
       "      <td>0.499945</td>\n",
       "      <td>0.214688</td>\n",
       "    </tr>\n",
       "    <tr>\n",
       "      <th>min</th>\n",
       "      <td>1.000000</td>\n",
       "      <td>0.000000</td>\n",
       "      <td>0.000000</td>\n",
       "      <td>0.000000</td>\n",
       "      <td>0.000000</td>\n",
       "    </tr>\n",
       "    <tr>\n",
       "      <th>25%</th>\n",
       "      <td>4470.750000</td>\n",
       "      <td>0.000000</td>\n",
       "      <td>1.000000</td>\n",
       "      <td>0.000000</td>\n",
       "      <td>0.000000</td>\n",
       "    </tr>\n",
       "    <tr>\n",
       "      <th>50%</th>\n",
       "      <td>8940.500000</td>\n",
       "      <td>0.000000</td>\n",
       "      <td>1.000000</td>\n",
       "      <td>0.000000</td>\n",
       "      <td>0.000000</td>\n",
       "    </tr>\n",
       "    <tr>\n",
       "      <th>75%</th>\n",
       "      <td>13410.250000</td>\n",
       "      <td>0.000000</td>\n",
       "      <td>1.000000</td>\n",
       "      <td>1.000000</td>\n",
       "      <td>0.000000</td>\n",
       "    </tr>\n",
       "    <tr>\n",
       "      <th>max</th>\n",
       "      <td>17880.000000</td>\n",
       "      <td>1.000000</td>\n",
       "      <td>1.000000</td>\n",
       "      <td>1.000000</td>\n",
       "      <td>1.000000</td>\n",
       "    </tr>\n",
       "  </tbody>\n",
       "</table>\n",
       "</div>"
      ],
      "text/plain": [
       "             job_id  telecommuting  has_company_logo  has_questions  \\\n",
       "count  17880.000000   17880.000000      17880.000000   17880.000000   \n",
       "mean    8940.500000       0.042897          0.795302       0.491723   \n",
       "std     5161.655742       0.202631          0.403492       0.499945   \n",
       "min        1.000000       0.000000          0.000000       0.000000   \n",
       "25%     4470.750000       0.000000          1.000000       0.000000   \n",
       "50%     8940.500000       0.000000          1.000000       0.000000   \n",
       "75%    13410.250000       0.000000          1.000000       1.000000   \n",
       "max    17880.000000       1.000000          1.000000       1.000000   \n",
       "\n",
       "         fraudulent  \n",
       "count  17880.000000  \n",
       "mean       0.048434  \n",
       "std        0.214688  \n",
       "min        0.000000  \n",
       "25%        0.000000  \n",
       "50%        0.000000  \n",
       "75%        0.000000  \n",
       "max        1.000000  "
      ]
     },
     "execution_count": 5,
     "metadata": {},
     "output_type": "execute_result"
    }
   ],
   "source": [
    "df.describe()"
   ]
  },
  {
   "cell_type": "code",
   "execution_count": 6,
   "metadata": {},
   "outputs": [
    {
     "data": {
      "text/plain": [
       "job_id                 17880\n",
       "title                  11231\n",
       "location                3105\n",
       "department              1337\n",
       "salary_range             874\n",
       "company_profile         1709\n",
       "description            14801\n",
       "requirements           11968\n",
       "benefits                6205\n",
       "telecommuting              2\n",
       "has_company_logo           2\n",
       "has_questions              2\n",
       "employment_type            5\n",
       "required_experience        7\n",
       "required_education        13\n",
       "industry                 131\n",
       "function                  37\n",
       "fraudulent                 2\n",
       "dtype: int64"
      ]
     },
     "execution_count": 6,
     "metadata": {},
     "output_type": "execute_result"
    }
   ],
   "source": [
    "df.nunique()"
   ]
  },
  {
   "cell_type": "code",
   "execution_count": 7,
   "metadata": {},
   "outputs": [
    {
     "data": {
      "text/plain": [
       "1709"
      ]
     },
     "execution_count": 7,
     "metadata": {},
     "output_type": "execute_result"
    }
   ],
   "source": [
    "df['company_profile'].nunique()"
   ]
  },
  {
   "cell_type": "code",
   "execution_count": 8,
   "metadata": {},
   "outputs": [
    {
     "data": {
      "text/plain": [
       "We help teachers get safe &amp; secure jobs abroad :)                                                                                                                                                                                                                                                                                                                                                                                                                                                                                                                                                                                                                                                                                                                                                                                                                                                                                                                                                                                                                                                                                                                                                                                                                                                                                                                                                                                                                                                                                                               726\n",
       "We Provide Full Time Permanent Positions for many medium to large US companies. We are interested in finding/recruiting high quality candidates in IT, Engineering, Manufacturing and other highly technical and non-technical jobs.                                                                                                                                                                                                                                                                                                                                                                                                                                                                                                                                                                                                                                                                                                                                                                                                                                                                                                                                                                                                                                                                                                                                                                                                                                                                                                                                674\n",
       "Novitex Enterprise Solutions, formerly Pitney Bowes Management Services, delivers innovative document and communications management solutions that help companies around the world drive business process efficiencies, increase productivity, reduce costs and improve customer satisfaction. For almost 30 years, clients have turned to us to integrate and optimize their enterprise-wide business processes to empower employees, increase productivity and maximize results. As a trusted partner, we continually focus on delivering secure, technology-enabled document and communications solutions that improve our clients' work processes, enhance their customer interactions and drive growth.                                                                                                                                                                                                                                                                                                                                                                                                                                                                                                                                                                                                                                                                                                                                                                                                                                                        574\n",
       "Established on the principles that full time education is not for everyone Spectrum Learning is made up of a team of passionate consultants with the drive for putting people who wish to grow themselves through education whilst working into long term and relevant job roles.We also are official re-sellers for The Institute of Recruiters/ Study Course professional courses in HR Practice, In-House Recruitment and Agency RecruitmentIt is our mission to help anyone wishing to pursue an apprenticeship onto the right qualification and into the right job.We work closely with both the candidate and the employer to ensure when the learner is enrolled they are at the start of a long and successful career.We have great relationships with a number of national training providers to ensure we can cover any apprenticeship available.                                                                                                                                                                                                                                                                                                                                                                                                                                                                                                                                                                                                                                                                                                         450\n",
       "Applied Memetics LLC is a professional services company dedicated to integrating and delivering best practice communication and information solutions in pre-conflict, conflict, or post-conflict areas.  The world has changed: ‘always on’ brands require a new way of thinking to engage and manage their consumers. Our purpose is to inspire original thinking through a deeper understanding of technology and human behaviour.  From strategy through to implementation, our teams of connected specialists – all experts in their respective fields – work together to help our clients maximise the opportunities created by the changing digital world and create a multi faceted digital strategy through to implementation.Our work explores a new model of journalism that is based around a global story – in this case, the struggle for human rights and democracy around the world. Our goal is to build a better user experience of these stories by adding context to content, using the latest digital tools of the day. Over time, we hope to add greater clarity, deeper understanding, and more sustained engagement to the conversations surrounding global events. As such, our content is transcribed and translated into English for broadcast to a global audience.                                                                                                                                                                                                                                                                     185\n",
       "                                                                                                                                                                                                                                                                                                                                                                                                                                                                                                                                                                                                                                                                                                                                                                                                                                                                                                                                                                                                                                                                                                                                                                                                                                                                                                                                                                                                                                                                                                                                                                   ... \n",
       "Imperatus Ltd, is a new and innovative company, focused on web and mobile apps design and development.It is based in the beautiful winter resort od Bansko, Bulgaria and develops high-demand, high-risk applications that can, one day, cahnge the world.                                                                                                                                                                                                                                                                                                                                                                                                                                                                                                                                                                                                                                                                                                                                                                                                                                                                                                                                                                                                                                                                                                                                                                                                                                                                                                            1\n",
       "Joint venture real estate investments with individual partners through a variety of different structures including: equity, RRSPs, private mortgages and short-term loans for corporate executive furnished rentals, single and multi-family rentals, rent-to-own properties, renovations, development and redevelopment projects throughout Calgary and neighboring areas. Having an interest in all of the projects that we undertake, leads to an owner driven investment strategy. Combined with focusing on long-term, sustainable returns, gives Equium an advantage in finding value in the Calgary real estate market.Turning active investing passive - creating hands off investments is our specialty; while still providing a healthy return on investment and strong growth options for the future.Contact one of our staff today to discuss your real estate investing future!                                                                                                                                                                                                                                                                                                                                                                                                                                                                                                                                                                                                                                                                          1\n",
       "ALBA Graduate Business School at The American College of Greece (founded in 1992) is a non-governmental, non-for-profit educational organization based in Athens, Greece, providing post-graduate level education in the fields of management and business administration.ALBA currently offers 13 taught academic programs (4 MBAs and 9 MScs) and one PhD program. More than 250 students participate annually in ALBA academic programs, while the school has an established network of more than 3.000 alumni members. Two of the MScs and the PhD program are offered in collaboration with Henley Business School, University of Reading, UK. All the MBA programs are accredited from the Association of MBAs (AMBA), while two of the MScs (in Finance and Strategic HRM) are EPAS (EFMD Programme Accreditation System) accredited. ALBA Graduate Business School at The American College of Greece is listed 56th in the Europe-TopMBA Global 200 Business Schools Report for 2013/2014.Research is in the core of the founding vision, the mission and the operations of ALBA Graduate Business School. School’s guiding principle is that excellence in teaching derives directly from excellence in research. ALBA Faculty consists of a core team of resident scholars (currently 23 individual, all PhD holders) with extensive teaching, research and consulting experience at an international level. It is ALBA strategic choice to engage leading scholars from top business schools worldwide as visiting professors in all of its programs.      1\n",
       "Round Rock is a creative agency specializing in creative, entertainment, event and production services on behalf of all types of clients. Founded in 1993, Round Rock has grown to become a producer of creative projects throughout the United States and abroad.Round Rock Productions is very proud to be a recognized vendor for the International Olympic Committee, The Mercedes Benz Fashion Week, and the 2014 World Cup.                                                                                                                                                                                                                                                                                                                                                                                                                                                                                                                                                                                                                                                                                                                                                                                                                                                                                                                                                                                                                                                                                                                                     1\n",
       "MSQD is a recruitment services agency that is focused on developing effective strategy that delivers cost effective recruitment solutions. Our services isn't just limited to recruitment. MSQD has a strong leaning towards utilising proven technology and media channels to enhance employer branding and employee retention. Our multi talented team brings a wealth of different experience from far reaching industries. Our multimedia approach to recruitment issues is increasingly seen as the most cost effective means of ensuring that clients obtain the maximum value out of their recruitment budgets.                                                                                                                                                                                                                                                                                                                                                                                                                                                                                                                                                                                                                                                                                                                                                                                                                                                                                                                                                1\n",
       "Name: company_profile, Length: 1709, dtype: int64"
      ]
     },
     "execution_count": 8,
     "metadata": {},
     "output_type": "execute_result"
    }
   ],
   "source": [
    "df['company_profile'].value_counts()"
   ]
  },
  {
   "cell_type": "code",
   "execution_count": 9,
   "metadata": {},
   "outputs": [],
   "source": [
    "df['company_profile'].fillna(df['company_profile'].ffill(),inplace=True)"
   ]
  },
  {
   "cell_type": "code",
   "execution_count": 10,
   "metadata": {},
   "outputs": [
    {
     "data": {
      "text/plain": [
       "1709"
      ]
     },
     "execution_count": 10,
     "metadata": {},
     "output_type": "execute_result"
    }
   ],
   "source": [
    "df['company_profile'].nunique()"
   ]
  },
  {
   "cell_type": "code",
   "execution_count": 11,
   "metadata": {},
   "outputs": [
    {
     "data": {
      "text/plain": [
       "0    17014\n",
       "1      866\n",
       "Name: fraudulent, dtype: int64"
      ]
     },
     "execution_count": 11,
     "metadata": {},
     "output_type": "execute_result"
    }
   ],
   "source": [
    "df['fraudulent'].value_counts()"
   ]
  },
  {
   "cell_type": "code",
   "execution_count": 12,
   "metadata": {},
   "outputs": [
    {
     "data": {
      "text/plain": [
       "0    17113\n",
       "1      767\n",
       "Name: telecommuting, dtype: int64"
      ]
     },
     "execution_count": 12,
     "metadata": {},
     "output_type": "execute_result"
    }
   ],
   "source": [
    "df['telecommuting'].value_counts()"
   ]
  },
  {
   "cell_type": "code",
   "execution_count": 13,
   "metadata": {},
   "outputs": [
    {
     "data": {
      "text/plain": [
       "English Teacher Abroad                                311\n",
       "Customer Service Associate                            146\n",
       "Graduates: English Teacher Abroad (Conversational)    144\n",
       "English Teacher Abroad                                 95\n",
       "Software Engineer                                      86\n",
       "                                                     ... \n",
       "General Manager (Alexandria - Egypt)                    1\n",
       "Internal Candidates- Lift Coach Part- Time Floater      1\n",
       "Junior Online Security Analyst                          1\n",
       "Email Marketing Executive                               1\n",
       "Designer, Graduate                                      1\n",
       "Name: title, Length: 11231, dtype: int64"
      ]
     },
     "execution_count": 13,
     "metadata": {},
     "output_type": "execute_result"
    }
   ],
   "source": [
    "df['title'].value_counts()"
   ]
  },
  {
   "cell_type": "code",
   "execution_count": 14,
   "metadata": {},
   "outputs": [
    {
     "data": {
      "text/plain": [
       "GB, LND, London          718\n",
       "US, NY, New York         658\n",
       "US, CA, San Francisco    472\n",
       "GR, I, Athens            464\n",
       "US, ,                    339\n",
       "                        ... \n",
       "CA, ON, Kitchener          1\n",
       "US, SC,                    1\n",
       "GR, , Αthens               1\n",
       "US, IL, LaSalle            1\n",
       "US, CA, Desert Resort      1\n",
       "Name: location, Length: 3105, dtype: int64"
      ]
     },
     "execution_count": 14,
     "metadata": {},
     "output_type": "execute_result"
    }
   ],
   "source": [
    "df['location'].value_counts()"
   ]
  },
  {
   "cell_type": "code",
   "execution_count": 15,
   "metadata": {},
   "outputs": [
    {
     "data": {
      "text/plain": [
       "3105"
      ]
     },
     "execution_count": 15,
     "metadata": {},
     "output_type": "execute_result"
    }
   ],
   "source": [
    "df['location'].nunique()"
   ]
  },
  {
   "cell_type": "code",
   "execution_count": 16,
   "metadata": {},
   "outputs": [],
   "source": [
    "df['location'].fillna(df['location'].ffill(),inplace=True)"
   ]
  },
  {
   "cell_type": "code",
   "execution_count": 17,
   "metadata": {},
   "outputs": [
    {
     "data": {
      "text/plain": [
       "GB, LND, London           732\n",
       "US, NY, New York          679\n",
       "US, CA, San Francisco     483\n",
       "GR, I, Athens             472\n",
       "US, ,                     345\n",
       "                         ... \n",
       "GB, ESS, Ingatestone        1\n",
       "US, FL, Port Charlotte      1\n",
       "US, ID, Pocatello           1\n",
       "GB, , Croydon               1\n",
       "US, CA, Desert Resort       1\n",
       "Name: location, Length: 3105, dtype: int64"
      ]
     },
     "execution_count": 17,
     "metadata": {},
     "output_type": "execute_result"
    }
   ],
   "source": [
    "df['location'].value_counts()"
   ]
  },
  {
   "cell_type": "code",
   "execution_count": 18,
   "metadata": {},
   "outputs": [
    {
     "data": {
      "text/plain": [
       "Play with kids, get paid for it Love travel? Jobs in Asia$1,500+ USD monthly ($200 Cost of living)Housing provided (Private/Furnished)Airfare ReimbursedExcellent for student loans/credit cardsGabriel Adkins : #URL_ed9094c60184b8a4975333957f05be37e69d3cdb68decc9dd9a4242733cfd7f7##URL_75db76d58f7994c7db24e8998c2fc953ab9a20ea9ac948b217693963f78d2e6b#12 month contract : Apply today                                                                                                                                                                                                                                                                                                                                                                                                                                                                                                                                                                                                                                                                                                                                                                                                                                                                                                                                                                                                                                                                                                                                                                                                                               379\n",
       "Play with kids, get paid for it :-)Love travel? Jobs in Asia$1500 USD + monthly ($200 Cost of living)Housing providedAirfare ReimbursedExcellent for student loans/credit cardsGabriel Adkins : #URL_ed9094c60184b8a4975333957f05be37e69d3cdb68decc9dd9a4242733cfd7f7##URL_75db76d58f7994c7db24e8998c2fc953ab9a20ea9ac948b217693963f78d2e6b#                                                                                                                                                                                                                                                                                                                                                                                                                                                                                                                                                                                                                                                                                                                                                                                                                                                                                                                                                                                                                                                                                                                                                                                                                                                                                66\n",
       "Play with kids, get paid for it Love travel? Jobs in Asia$1500 USD + monthly ($200 Cost of living)Excellent for student loans/credit cardsHousing provided (Furnished/Private)Airfare ReimbursedRemind us when you wanted to start when applying :-)                                                                                                                                                                                                                                                                                                                                                                                                                                                                                                                                                                                                                                                                                                                                                                                                                                                                                                                                                                                                                                                                                                                                                                                                                                                                                                                                                                        46\n",
       "The International Broadcaster shall properly complete all daily tasks. These daily tasks include but are not limited to: preparing for assignments (fails not more than once per week); revising video packages (fails not more than twice per week); correcting production errors in stories (fails not more than twice per week); properly creating line-ups and logs (fails not more than once per week).                                                                                                                                                                                                                                                                                                                                                                                                                                                                                                                                                                                                                                                                                                                                                                                                                                                                                                                                                                                                                                                                                                                                                                                                                33\n",
       "Play with kids, get paid for it :-)Love travel? Jobs in Asia$1500 USD + monthly ($200 Cost of living)Housing providedAirfare ReimbursedExcellent for student loans/credit cardsGabriel Adkins (#URL_ed9094c60184b8a4975333957f05be37e69d3cdb68decc9dd9a4242733cfd7f7#)#URL_75db76d58f7994c7db24e8998c2fc953ab9a20ea9ac948b217693963f78d2e6b#                                                                                                                                                                                                                                                                                                                                                                                                                                                                                                                                                                                                                                                                                                                                                                                                                                                                                                                                                                                                                                                                                                                                                                                                                                                                                32\n",
       "                                                                                                                                                                                                                                                                                                                                                                                                                                                                                                                                                                                                                                                                                                                                                                                                                                                                                                                                                                                                                                                                                                                                                                                                                                                                                                                                                                                                                                                                                                                                                                                                                          ... \n",
       "inFullMobile Sp. z o.o. is a mobile software development house, specializing in the client side of mobile software for clients all around the globe. We are a young company, where you can make the difference, the company structure is horizontal so everyone has a say. We are looking for the best of the best JAVA developers, some out of the box thinking, the courage to get involved with the bleeding edge technologies and projects.                                                                                                                                                                                                                                                                                                                                                                                                                                                                                                                                                                                                                                                                                                                                                                                                                                                                                                                                                                                                                                                                                                                                                                              1\n",
       "Centra Construction Group, a well established, employee owned construction company is seeking a team player interested in moving into a challenging and rewarding career in Accounting &amp; Finance. This intermediate position will include:- Perform all cost accounting activities including margin and cost ratio analysis, inventory control, variance analysis, breakeven analysis.- With the use of ERP system NAV, ability to extract, organize, analyze and report data in a manner that identifies cost saving initiatives- Thorough documentation of inventory internal controls processes and ability to identify and mitigate control weaknesses- Lead monthly cycle counts and quarterly physical inventory counts and manage all count procedures- Review and audit Bills of Materials (BOM) to ensure items are complete and costs and quantities are accurate- Analyze actual labour, material and waste against BOM’s.  Research and explain variances- Work closely with manufacturing to understand issues and how they impact financial results as well as educate purchaser and plant manager on cost drivers and variances- Review job costing to ensure accurate and complete as well as identify and report on issues and trends- Processing Accounts Payable with high volume and tight deadlines- Performing bi-monthly cheque runs- Completing month end sales journals and reports as well as account reconciliations- Managing monthly Visa statements- Maintaining relationships with vendors- Accounts receivable - dealing with customers both in person and on the phone for payment      1\n",
       "Our West Auckland based client are looking for passionate, skilled appointment setters with demonstrated sales records to join their top performing direct marketing team.Our clients are a world leader in their respective field; they are always busy and have a fantastic, supportive team environment. You will be joining a highly successful team who continuously exceed sales targets                                                                                                                                                                                                                                                                                                                                                                                                                                                                                                                                                                                                                                                                                                                                                                                                                                                                                                                                                                                                                                                                                                                                                                                                                               1\n",
       "Apply For This Job HereThe Director, Supply Chain - Strategic Initiatives will be responsible for working with the business units to define, plan, and successfully execute initiatives in support of the corporate strategy.  The Director, Supply Chain – Strategic Initiatives will be a high energy candidate who demonstrates an ability to quickly analyze and define solutions both inside and outside of their core functional discipline and then work across the organization at all levels. This position will partner with the M&amp;A team to work with business and functional (HR, Supply Chain, BT, etc) leadership to develop comprehensive acquisition integration plans. Provide leadership and oversight to ensure that integration efforts are coordinated and executed.Provide Subject Matter Expertise in support of own and other team member’s initiatives.Analyze existing business processes (both in and outside area of functional expertise), recommend improvements, and implement improvements in order that the changes are adopted and sustained.Provide expertise and capacity to rapidly assess and address emerging business issues as they arise.Work with Executive Leadership and the business units to identify and define corporate initiatives.Lead the efforts to plan, manage and successfully execute initiatives including providing day-to-day leadership and direction to resources working on the initiative.Apply For This Job Here                                                                                                                                       1\n",
       "Senior Digital ProducerLooking to work with one of the sharpest full service digital teams in LA when it comes to digital product creation, as well as first to market marketing and advertising campaigns?We have a 6 month contract open with just such a firm working on an enterprise level consumer product facing site (auto is the category) as well as on a music streaming service site build.Both project require having worked on large sites from strategy through to launch as you will be working closely with developers, UX, creative and strategy on these projects.This is a client facing role and any experience with Workamajig.The position could extend to full time!                                                                                                                                                                                                                                                                                                                                                                                                                                                                                                                                                                                                                                                                                                                                                                                                                                                                                                                                 1\n",
       "Name: description, Length: 14801, dtype: int64"
      ]
     },
     "execution_count": 18,
     "metadata": {},
     "output_type": "execute_result"
    }
   ],
   "source": [
    "df['description'].value_counts()"
   ]
  },
  {
   "cell_type": "code",
   "execution_count": 19,
   "metadata": {},
   "outputs": [],
   "source": [
    "df['description'].fillna(df['description'].bfill(),inplace=True)"
   ]
  },
  {
   "cell_type": "code",
   "execution_count": 20,
   "metadata": {},
   "outputs": [
    {
     "data": {
      "text/plain": [
       "University degree required. TEFL / TESOL / CELTA or teaching experience preferred but not necessaryCanada/US passport holders only                                                                                                                                                                                                                                                                                                                                                                                                                                                                                                                                                                                                                                                                                                                                                                                                                                                                                                                                                                                                                                                                                                                                                                 410\n",
       "University degree required. TEFL / TESOL / CELTA or teaching experience preferred but not necessaryPositive attitude required. Canada/US passport holders only                                                                                                                                                                                                                                                                                                                                                                                                                                                                                                                                                                                                                                                                                                                                                                                                                                                                                                                                                                                                                                                                                                                                     163\n",
       "16-18 year olds only due to government funding.Full time availability.                                                                                                                                                                                                                                                                                                                                                                                                                                                                                                                                                                                                                                                                                                                                                                                                                                                                                                                                                                                                                                                                                                                                                                                                                             117\n",
       "Minimum Requirements:Minimum of 6 months customer service related experience requiredHigh school diploma or equivalent (GED) requiredPreferred Qualifications:Keyboarding and windows environment PC skills required (Word, Excel and PowerPoint preferred)Experience running mail posting equipment a plusExcellent communication skills both verbal and writtenLifting up to 55 lbs with or without accommodationsWillingness and availability to work additional hours if assignedWillingness to submit to a pre-employment drug screening and criminal background checkAbility to effectively work individually or in a team environmentCompetency in performing multiple functional tasksAbility to meet employer's attendance policy                                                                                                                                                                                                                                                                                                                                                                                                                                                                                                                                                          80\n",
       "University degree required. TEFL / TESOL / CELTA, and/or teaching experience preferredCanada/US passport holders only                                                                                                                                                                                                                                                                                                                                                                                                                                                                                                                                                                                                                                                                                                                                                                                                                                                                                                                                                                                                                                                                                                                                                                               42\n",
       "                                                                                                                                                                                                                                                                                                                                                                                                                                                                                                                                                                                                                                                                                                                                                                                                                                                                                                                                                                                                                                                                                                                                                                                                                                                                                                  ... \n",
       "1-3 years of experience in integrated digital marketing, including SEO, social media, content marketing, and paid search and social advertising1-3 years of project management, including campaign planning, strategy execution, setting and achieving KPIs, and performance reporting1-3 years inbound marketing experience using marketing automation softwareStrong with data and analytics to spot trends and execute campaigns accordinglyUnderstands all aspects of digital marketing to create and execute cross-platform strategiesHealthy blend of technical aptitude, creative ability and process-oriented thinkingPersonal branding: We’re looking for someone deeply invested in the industry with published blog posts, speaking engagements, active tweets, etc.Pluses: Website architecture, usability and conversion rate optimization experience                                                                                                                                                                                                                                                                                                                                                                                                                                   1\n",
       "Your skills:Minimum 9 years of combined University Studies and experience in IT;Minimum 4 years of professional experience in Information System Security (ISS) policy development and with the ISO 27K standard family in particular with ISO 27002;Experience in the Organisation of Information System Security will be considered as an asset;Excellent command of English, both written and oral.                                                                                                                                                                                                                                                                                                                                                                                                                                                                                                                                                                                                                                                                                                                                                                                                                                                                                               1\n",
       "We want to hear from you if you have:An in-depth understanding of SOLID and OO Programming. You should have read that as the acronym, not the word 'solid’.MVC Framework ExperienceIntermediate to Senior experience in PHP, Apache and MySQLOAuth experienceExperience with API IntegrationExperience with Unit Testing (PHPUnit/PHPSpec, Behat/Codeception)Not afraid of Terminal and LinuxKeen attention to detailHuge bonus points if you have experience in:LaravelAmazon Web ServicesJIRA GitContinuous IntegrationVagrant (ideally with Puppet)#URL_b7bad8ac916069eadd573f035544c52dc3519a0ba054fb7ab1ff9ba3e1525399#Gulp / GruntJavascript unit testingEquipment:You will need to be a Mac lover________________________________________________________________________________________________________Does this sound like you?We're looking for someone to start as soon as possible, so get in touch! You don't need all the skills outlined above if your a driven, experienced and keen web developer willing to learn these things. Apply now and we'll be in touch as soon as possible.                                                                                                                                                                                              1\n",
       "Basic Qualifications: ​Up to two years of formal post high school specialized trade, technical school or college and 1-4 years of related experience is required. Formal training with AutoCAD is also required. Desired Qualifications: An Associate’s degree and 1-4 years of experience directly related to Protection &amp; Controls Engineering is preferred. A collaborative attitude and willingness to learn is essential. The candidate should be able to deal with changing priorities and possess the ability to exercise independent judgment. General knowledge of working with protection and controls schemes.                                                                                                                                                                                                                                                                                                                                                                                                                                                                                                                                                                                                                                                                        1\n",
       "Job RequirementsAs a Sales Associate, you must combine a strong desire to make a positive difference with your passion for technology and a desire for a career in sales. You must also be willing to embrace and take full advantage of your ability to be a key player in developing our Civilian vertical. Specific qualifications for the Sales Associate position include:Bachelor’s degree (preferred) or equivalent related experienceIdeally minimum of 1 year experience in sales. Will consider hungry, driven and energetic professional with burning desire to work in fast paced sales organizationSelf-driven with desire to win and be successful and able to overcome obstacles.Excellent verbal and written communication and interpersonal skillsWillingness to expand your technological knowledge by taking advantage of our extensive training opportunitiesForce 3 is committed to hiring and retaining a diverse workforce. We are an Equal Opportunity Employer, making decisions without regard to race, color, religion, sex, national origin, age, veteran status, disability, or any other protected class. U.S. citizenship is required for most positions and selected applicants will be subject to a background check and/or government security investigation.      1\n",
       "Name: requirements, Length: 11968, dtype: int64"
      ]
     },
     "execution_count": 20,
     "metadata": {},
     "output_type": "execute_result"
    }
   ],
   "source": [
    "df['requirements'].value_counts()"
   ]
  },
  {
   "cell_type": "code",
   "execution_count": 21,
   "metadata": {},
   "outputs": [],
   "source": [
    "df['requirements'].fillna(df['requirements'].bfill(),inplace=True)\n"
   ]
  },
  {
   "cell_type": "markdown",
   "metadata": {},
   "source": [
    "#### Exploratory Data Analysis"
   ]
  },
  {
   "cell_type": "code",
   "execution_count": 22,
   "metadata": {},
   "outputs": [
    {
     "data": {
      "text/plain": [
       "job_id                     0\n",
       "title                      0\n",
       "location                   0\n",
       "department             11547\n",
       "salary_range           15012\n",
       "company_profile            0\n",
       "description                0\n",
       "requirements               0\n",
       "benefits                7210\n",
       "telecommuting              0\n",
       "has_company_logo           0\n",
       "has_questions              0\n",
       "employment_type         3471\n",
       "required_experience     7050\n",
       "required_education      8105\n",
       "industry                4903\n",
       "function                6455\n",
       "fraudulent                 0\n",
       "dtype: int64"
      ]
     },
     "execution_count": 22,
     "metadata": {},
     "output_type": "execute_result"
    }
   ],
   "source": [
    "df.isnull().sum()"
   ]
  },
  {
   "cell_type": "code",
   "execution_count": 23,
   "metadata": {},
   "outputs": [
    {
     "name": "stdout",
     "output_type": "stream",
     "text": [
      "% of null records in feature job_id : 0.00%\n",
      "% of null records in feature title : 0.00%\n",
      "% of null records in feature location : 0.00%\n",
      "% of null records in feature department : 64.58%\n",
      "% of null records in feature salary_range : 83.96%\n",
      "% of null records in feature company_profile : 0.00%\n",
      "% of null records in feature description : 0.00%\n",
      "% of null records in feature requirements : 0.00%\n",
      "% of null records in feature benefits : 40.32%\n",
      "% of null records in feature telecommuting : 0.00%\n",
      "% of null records in feature has_company_logo : 0.00%\n",
      "% of null records in feature has_questions : 0.00%\n",
      "% of null records in feature employment_type : 19.41%\n",
      "% of null records in feature required_experience : 39.43%\n",
      "% of null records in feature required_education : 45.33%\n",
      "% of null records in feature industry : 27.42%\n",
      "% of null records in feature function : 36.10%\n",
      "% of null records in feature fraudulent : 0.00%\n"
     ]
    }
   ],
   "source": [
    "for i in df.columns:\n",
    "    print('% of null records in feature',i,': {:.2f}%'.format(df[i].isnull().sum()*100/len(df[i])))"
   ]
  },
  {
   "cell_type": "code",
   "execution_count": 24,
   "metadata": {},
   "outputs": [
    {
     "data": {
      "text/plain": [
       "<AxesSubplot:>"
      ]
     },
     "execution_count": 24,
     "metadata": {},
     "output_type": "execute_result"
    },
    {
     "data": {
      "image/png": "[encoded data removed]",
      "text/plain": [
       "<Figure size 432x288 with 2 Axes>"
      ]
     },
     "metadata": {
      "needs_background": "light"
     },
     "output_type": "display_data"
    }
   ],
   "source": [
    "sns.heatmap(df.corr(),annot=True)"
   ]
  },
  {
   "cell_type": "markdown",
   "metadata": {},
   "source": [
    "#### We can see from above that department and salary_range feature consists of more than 60% of missing data and also job_id column is also of not any use so it is better we drop them."
   ]
  },
  {
   "cell_type": "code",
   "execution_count": 25,
   "metadata": {},
   "outputs": [],
   "source": [
    "df.drop(['salary_range','department','job_id'],axis=1,inplace=True)"
   ]
  },
  {
   "cell_type": "code",
   "execution_count": 26,
   "metadata": {},
   "outputs": [
    {
     "data": {
      "text/plain": [
       "(17880, 15)"
      ]
     },
     "execution_count": 26,
     "metadata": {},
     "output_type": "execute_result"
    }
   ],
   "source": [
    "df.shape"
   ]
  },
  {
   "cell_type": "code",
   "execution_count": 27,
   "metadata": {},
   "outputs": [
    {
     "name": "stdout",
     "output_type": "stream",
     "text": [
      "<class 'pandas.core.frame.DataFrame'>\n",
      "RangeIndex: 17880 entries, 0 to 17879\n",
      "Data columns (total 15 columns):\n",
      " #   Column               Non-Null Count  Dtype \n",
      "---  ------               --------------  ----- \n",
      " 0   title                17880 non-null  object\n",
      " 1   location             17880 non-null  object\n",
      " 2   company_profile      17880 non-null  object\n",
      " 3   description          17880 non-null  object\n",
      " 4   requirements         17880 non-null  object\n",
      " 5   benefits             10670 non-null  object\n",
      " 6   telecommuting        17880 non-null  int64 \n",
      " 7   has_company_logo     17880 non-null  int64 \n",
      " 8   has_questions        17880 non-null  int64 \n",
      " 9   employment_type      14409 non-null  object\n",
      " 10  required_experience  10830 non-null  object\n",
      " 11  required_education   9775 non-null   object\n",
      " 12  industry             12977 non-null  object\n",
      " 13  function             11425 non-null  object\n",
      " 14  fraudulent           17880 non-null  int64 \n",
      "dtypes: int64(4), object(11)\n",
      "memory usage: 2.0+ MB\n"
     ]
    }
   ],
   "source": [
    "df.info()"
   ]
  },
  {
   "cell_type": "code",
   "execution_count": 28,
   "metadata": {},
   "outputs": [
    {
     "data": {
      "text/plain": [
       "13"
      ]
     },
     "execution_count": 28,
     "metadata": {},
     "output_type": "execute_result"
    }
   ],
   "source": [
    "df['required_education'].nunique()"
   ]
  },
  {
   "cell_type": "code",
   "execution_count": 29,
   "metadata": {},
   "outputs": [
    {
     "data": {
      "text/plain": [
       "Bachelor's Degree                    5145\n",
       "High School or equivalent            2080\n",
       "Unspecified                          1397\n",
       "Master's Degree                       416\n",
       "Associate Degree                      274\n",
       "Certification                         170\n",
       "Some College Coursework Completed     102\n",
       "Professional                           74\n",
       "Vocational                             49\n",
       "Some High School Coursework            27\n",
       "Doctorate                              26\n",
       "Vocational - HS Diploma                 9\n",
       "Vocational - Degree                     6\n",
       "Name: required_education, dtype: int64"
      ]
     },
     "execution_count": 29,
     "metadata": {},
     "output_type": "execute_result"
    }
   ],
   "source": [
    "df['required_education'].value_counts()"
   ]
  },
  {
   "cell_type": "code",
   "execution_count": 30,
   "metadata": {},
   "outputs": [],
   "source": [
    "df['required_education'].fillna(df['required_education'].bfill(),inplace=True)"
   ]
  },
  {
   "cell_type": "code",
   "execution_count": 31,
   "metadata": {},
   "outputs": [
    {
     "data": {
      "text/plain": [
       "Bachelor's Degree                    9381\n",
       "High School or equivalent            3701\n",
       "Unspecified                          2615\n",
       "Master's Degree                       812\n",
       "Associate Degree                      530\n",
       "Certification                         313\n",
       "Some College Coursework Completed     179\n",
       "Professional                          130\n",
       "Vocational                            102\n",
       "Doctorate                              49\n",
       "Some High School Coursework            36\n",
       "Vocational - HS Diploma                19\n",
       "Vocational - Degree                    12\n",
       "Name: required_education, dtype: int64"
      ]
     },
     "execution_count": 31,
     "metadata": {},
     "output_type": "execute_result"
    }
   ],
   "source": [
    "df['required_education'].value_counts()"
   ]
  },
  {
   "cell_type": "code",
   "execution_count": 32,
   "metadata": {},
   "outputs": [
    {
     "data": {
      "text/plain": [
       "5"
      ]
     },
     "execution_count": 32,
     "metadata": {},
     "output_type": "execute_result"
    }
   ],
   "source": [
    "df['employment_type'].nunique()"
   ]
  },
  {
   "cell_type": "code",
   "execution_count": 33,
   "metadata": {},
   "outputs": [
    {
     "data": {
      "text/plain": [
       "Full-time    11620\n",
       "Contract      1524\n",
       "Part-time      797\n",
       "Temporary      241\n",
       "Other          227\n",
       "Name: employment_type, dtype: int64"
      ]
     },
     "execution_count": 33,
     "metadata": {},
     "output_type": "execute_result"
    }
   ],
   "source": [
    "df['employment_type'].value_counts()"
   ]
  },
  {
   "cell_type": "code",
   "execution_count": 34,
   "metadata": {},
   "outputs": [],
   "source": [
    "df.dropna(subset=['employment_type'],axis=0,inplace=True)"
   ]
  },
  {
   "cell_type": "code",
   "execution_count": 35,
   "metadata": {},
   "outputs": [
    {
     "data": {
      "text/plain": [
       "(14409, 15)"
      ]
     },
     "execution_count": 35,
     "metadata": {},
     "output_type": "execute_result"
    }
   ],
   "source": [
    "df.shape"
   ]
  },
  {
   "cell_type": "markdown",
   "metadata": {},
   "source": [
    "#### Again checking for % of empty values in features"
   ]
  },
  {
   "cell_type": "code",
   "execution_count": 36,
   "metadata": {},
   "outputs": [
    {
     "name": "stdout",
     "output_type": "stream",
     "text": [
      "% of null records in feature title : 0.00%\n",
      "% of null records in feature location : 0.00%\n",
      "% of null records in feature company_profile : 0.00%\n",
      "% of null records in feature description : 0.00%\n",
      "% of null records in feature requirements : 0.00%\n",
      "% of null records in feature benefits : 36.93%\n",
      "% of null records in feature telecommuting : 0.00%\n",
      "% of null records in feature has_company_logo : 0.00%\n",
      "% of null records in feature has_questions : 0.00%\n",
      "% of null records in feature employment_type : 0.00%\n",
      "% of null records in feature required_experience : 26.46%\n",
      "% of null records in feature required_education : 0.01%\n",
      "% of null records in feature industry : 11.96%\n",
      "% of null records in feature function : 23.98%\n",
      "% of null records in feature fraudulent : 0.00%\n"
     ]
    }
   ],
   "source": [
    "for i in df.columns:\n",
    "    print('% of null records in feature',i,': {:.2f}%'.format(df[i].isnull().sum()*100/len(df[i])))"
   ]
  },
  {
   "cell_type": "code",
   "execution_count": 37,
   "metadata": {},
   "outputs": [
    {
     "data": {
      "text/plain": [
       "5297"
      ]
     },
     "execution_count": 37,
     "metadata": {},
     "output_type": "execute_result"
    }
   ],
   "source": [
    "df['benefits'].nunique()"
   ]
  },
  {
   "cell_type": "code",
   "execution_count": 38,
   "metadata": {},
   "outputs": [
    {
     "data": {
      "text/plain": [
       "See job description                                                                                                                                                                                                                                                                                                                                                                                                                                                                                                                                                                                                                                                                                                         726\n",
       "Career prospects.                                                                                                                                                                                                                                                                                                                                                                                                                                                                                                                                                                                                                                                                                                           125\n",
       "Our company offers a competitive salary plus BONUSES as well as a comprehensive benefits package to our full-time employees including:40 vacation hours after 6 months of employment, 80 vacation hours after 1 year of employment6 paid holidays as well as an anniversary holiday benefitPaid personal and sick leave after 90 days of employmentHealth, dental, life, and disability insurance as well as AFLAC supplemental insuranceA 401K plan with a company match after six months of employment, however, we have quarterly enrollment periods.                                                                                                                                                                     60\n",
       "Plenty of perksAs well as the opportunity to solve complex problems in this exciting new era of big data, here’s what we offer:Realistic performance related bonusesGenerous equity options mean you’ll own a piece of the pieExcellent health and dental insurance packagesA relaxed approach to time off and enough holidays to see several corners of the worldFridge fully stocked with healthy snacks and the ultimate espresso machine for your java fixA competitive office where we play foosball, football, scrabble, go-karting… you name it, we’ll play itThank Qubit it’s Friday – we have lots of creative ways to let off steam at the end of the weekPlenty of opportunities for training and development     58\n",
       "CSD offers a competitive benefits package for full-time employees. For a full list of benefits and perks, please visit the career page.Communication Service for the Deaf, Inc. is an Equal Opportunity Affirmative Action Employer and drug free and tobacco free workplace. All qualified applicants will receive consideration for employment without regard to race, color, religion, sex, or national origin, including individuals with a disability and protected veterans.                                                                                                                                                                                                                                           57\n",
       "                                                                                                                                                                                                                                                                                                                                                                                                                                                                                                                                                                                                                                                                                                                           ... \n",
       "Attractive salary, depending on experience (5000-12000 netto/month)Full-time job in the city centerWell equipped workplace where you will feel like at homePlayroom with arcade gamesKitchen full of free snacks and drinksUnique start-up atmosphere                                                                                                                                                                                                                                                                                                                                                                                                                                                                         1\n",
       "Competitive package:                                                                                                                                                                                                                                                                                                                                                                                                                                                                                                                                                                                                                                                                                                          1\n",
       "The company provides the following:Opportunities for progression and an excellent working environmentCompetitive incentivesResidence Visa / Medical Insurance / Life InsuranceFull training and development to achieve your full potentialMarketing campaigns to generate warm leads                                                                                                                                                                                                                                                                                                                                                                                                                                          1\n",
       "Benefits·£7 per hour·Full time and part time hours·Chef development programme·Discount Card &amp; Discount at Work·Stakeholder Pension·Childcare Vouchers (after qualifying period)·Save As You Earn scheme (after qualifying period)                                                                                                                                                                                                                                                                                                                                                                                                                                                                                         1\n",
       ".1% stock optionExcellent health benefit plan3 weeks paid time off per year, plus unlimited unpaid time off1 day paid employee volunteerism per monthFlexible hoursTravel opportunitiesRoom for growth, including leading your own teamFun and easy-going environment                                                                                                                                                                                                                                                                                                                                                                                                                                                         1\n",
       "Name: benefits, Length: 5297, dtype: int64"
      ]
     },
     "execution_count": 38,
     "metadata": {},
     "output_type": "execute_result"
    }
   ],
   "source": [
    "df['benefits'].value_counts()"
   ]
  },
  {
   "cell_type": "code",
   "execution_count": 39,
   "metadata": {},
   "outputs": [],
   "source": [
    "df['benefits'].fillna(df['benefits'].bfill(),inplace=True)"
   ]
  },
  {
   "cell_type": "code",
   "execution_count": 40,
   "metadata": {},
   "outputs": [
    {
     "name": "stdout",
     "output_type": "stream",
     "text": [
      "<class 'pandas.core.frame.DataFrame'>\n",
      "Int64Index: 14409 entries, 0 to 17879\n",
      "Data columns (total 15 columns):\n",
      " #   Column               Non-Null Count  Dtype \n",
      "---  ------               --------------  ----- \n",
      " 0   title                14409 non-null  object\n",
      " 1   location             14409 non-null  object\n",
      " 2   company_profile      14409 non-null  object\n",
      " 3   description          14409 non-null  object\n",
      " 4   requirements         14409 non-null  object\n",
      " 5   benefits             14408 non-null  object\n",
      " 6   telecommuting        14409 non-null  int64 \n",
      " 7   has_company_logo     14409 non-null  int64 \n",
      " 8   has_questions        14409 non-null  int64 \n",
      " 9   employment_type      14409 non-null  object\n",
      " 10  required_experience  10597 non-null  object\n",
      " 11  required_education   14408 non-null  object\n",
      " 12  industry             12686 non-null  object\n",
      " 13  function             10954 non-null  object\n",
      " 14  fraudulent           14409 non-null  int64 \n",
      "dtypes: int64(4), object(11)\n",
      "memory usage: 1.8+ MB\n"
     ]
    }
   ],
   "source": [
    "df.info()"
   ]
  },
  {
   "cell_type": "code",
   "execution_count": 41,
   "metadata": {},
   "outputs": [
    {
     "data": {
      "text/plain": [
       "<AxesSubplot:>"
      ]
     },
     "execution_count": 41,
     "metadata": {},
     "output_type": "execute_result"
    },
    {
     "data": {
      "image/png": "[encoded data removed]",
      "text/plain": [
       "<Figure size 432x288 with 2 Axes>"
      ]
     },
     "metadata": {
      "needs_background": "light"
     },
     "output_type": "display_data"
    }
   ],
   "source": [
    "sns.heatmap(df.isnull(),yticklabels=False)"
   ]
  },
  {
   "cell_type": "code",
   "execution_count": 42,
   "metadata": {},
   "outputs": [
    {
     "data": {
      "text/plain": [
       "7"
      ]
     },
     "execution_count": 42,
     "metadata": {},
     "output_type": "execute_result"
    }
   ],
   "source": [
    "df['required_experience'].nunique()"
   ]
  },
  {
   "cell_type": "code",
   "execution_count": 43,
   "metadata": {},
   "outputs": [
    {
     "data": {
      "text/plain": [
       "Mid-Senior level    3791\n",
       "Entry level         2628\n",
       "Associate           2277\n",
       "Not Applicable      1013\n",
       "Director             387\n",
       "Internship           361\n",
       "Executive            140\n",
       "Name: required_experience, dtype: int64"
      ]
     },
     "execution_count": 43,
     "metadata": {},
     "output_type": "execute_result"
    }
   ],
   "source": [
    "df['required_experience'].value_counts()"
   ]
  },
  {
   "cell_type": "code",
   "execution_count": 44,
   "metadata": {},
   "outputs": [],
   "source": [
    "df['required_experience'].fillna(df['required_experience'].bfill(),inplace=True)"
   ]
  },
  {
   "cell_type": "code",
   "execution_count": 45,
   "metadata": {},
   "outputs": [
    {
     "data": {
      "text/plain": [
       "Mid-Senior level    5142\n",
       "Entry level         3551\n",
       "Associate           3120\n",
       "Not Applicable      1384\n",
       "Director             524\n",
       "Internship           488\n",
       "Executive            200\n",
       "Name: required_experience, dtype: int64"
      ]
     },
     "execution_count": 45,
     "metadata": {},
     "output_type": "execute_result"
    }
   ],
   "source": [
    "df['required_experience'].value_counts()"
   ]
  },
  {
   "cell_type": "code",
   "execution_count": 46,
   "metadata": {},
   "outputs": [
    {
     "data": {
      "text/plain": [
       "131"
      ]
     },
     "execution_count": 46,
     "metadata": {},
     "output_type": "execute_result"
    }
   ],
   "source": [
    "df['industry'].nunique()"
   ]
  },
  {
   "cell_type": "code",
   "execution_count": 47,
   "metadata": {},
   "outputs": [
    {
     "data": {
      "text/plain": [
       "Information Technology and Services    1725\n",
       "Computer Software                      1365\n",
       "Internet                               1051\n",
       "Marketing and Advertising               823\n",
       "Education Management                    822\n",
       "                                       ... \n",
       "Ranching                                  1\n",
       "Shipbuilding                              1\n",
       "Museums and Institutions                  1\n",
       "Sporting Goods                            1\n",
       "Wine and Spirits                          1\n",
       "Name: industry, Length: 131, dtype: int64"
      ]
     },
     "execution_count": 47,
     "metadata": {},
     "output_type": "execute_result"
    }
   ],
   "source": [
    "df['industry'].value_counts()"
   ]
  },
  {
   "cell_type": "code",
   "execution_count": 48,
   "metadata": {},
   "outputs": [],
   "source": [
    "df['industry'].fillna(df['industry'].bfill(),inplace=True)"
   ]
  },
  {
   "cell_type": "code",
   "execution_count": 49,
   "metadata": {},
   "outputs": [
    {
     "data": {
      "text/plain": [
       "Information Technology and Services    1950\n",
       "Computer Software                      1545\n",
       "Internet                               1197\n",
       "Marketing and Advertising               941\n",
       "Education Management                    908\n",
       "                                       ... \n",
       "Museums and Institutions                  1\n",
       "Sporting Goods                            1\n",
       "Alternative Dispute Resolution            1\n",
       "Ranching                                  1\n",
       "Shipbuilding                              1\n",
       "Name: industry, Length: 131, dtype: int64"
      ]
     },
     "execution_count": 49,
     "metadata": {},
     "output_type": "execute_result"
    }
   ],
   "source": [
    "df['industry'].value_counts()"
   ]
  },
  {
   "cell_type": "code",
   "execution_count": 50,
   "metadata": {},
   "outputs": [
    {
     "data": {
      "text/plain": [
       "37"
      ]
     },
     "execution_count": 50,
     "metadata": {},
     "output_type": "execute_result"
    }
   ],
   "source": [
    "df['function'].nunique()"
   ]
  },
  {
   "cell_type": "code",
   "execution_count": 51,
   "metadata": {},
   "outputs": [
    {
     "data": {
      "text/plain": [
       "Information Technology    1735\n",
       "Sales                     1389\n",
       "Engineering               1307\n",
       "Customer Service          1154\n",
       "Marketing                  772\n",
       "Administrative             583\n",
       "Design                     336\n",
       "Education                  321\n",
       "Management                 315\n",
       "Health Care Provider       313\n",
       "Other                      273\n",
       "Business Development       221\n",
       "Accounting/Auditing        207\n",
       "Human Resources            189\n",
       "Project Management         181\n",
       "Finance                    166\n",
       "Consulting                 144\n",
       "Art/Creative               131\n",
       "Writing/Editing            126\n",
       "Production                 116\n",
       "Product Management         110\n",
       "Quality Assurance          108\n",
       "Advertising                 89\n",
       "Data Analyst                80\n",
       "Business Analyst            77\n",
       "Public Relations            75\n",
       "Manufacturing               73\n",
       "General Business            66\n",
       "Research                    47\n",
       "Strategy/Planning           46\n",
       "Legal                       46\n",
       "Training                    38\n",
       "Supply Chain                36\n",
       "Financial Analyst           33\n",
       "Distribution                24\n",
       "Purchasing                  14\n",
       "Science                     13\n",
       "Name: function, dtype: int64"
      ]
     },
     "execution_count": 51,
     "metadata": {},
     "output_type": "execute_result"
    }
   ],
   "source": [
    "df['function'].value_counts()"
   ]
  },
  {
   "cell_type": "code",
   "execution_count": 52,
   "metadata": {},
   "outputs": [],
   "source": [
    "df['function'].fillna(df['function'].bfill(),inplace=True)"
   ]
  },
  {
   "cell_type": "code",
   "execution_count": 53,
   "metadata": {},
   "outputs": [
    {
     "data": {
      "text/plain": [
       "Information Technology    2283\n",
       "Sales                     1826\n",
       "Engineering               1748\n",
       "Customer Service          1504\n",
       "Marketing                  988\n",
       "Administrative             802\n",
       "Design                     435\n",
       "Health Care Provider       422\n",
       "Education                  411\n",
       "Management                 408\n",
       "Other                      344\n",
       "Business Development       287\n",
       "Accounting/Auditing        264\n",
       "Human Resources            251\n",
       "Project Management         245\n",
       "Finance                    222\n",
       "Consulting                 177\n",
       "Writing/Editing            173\n",
       "Art/Creative               165\n",
       "Production                 156\n",
       "Product Management         146\n",
       "Quality Assurance          143\n",
       "Advertising                116\n",
       "Manufacturing              107\n",
       "Public Relations           105\n",
       "Business Analyst           101\n",
       "Data Analyst               100\n",
       "General Business            95\n",
       "Strategy/Planning           71\n",
       "Research                    62\n",
       "Legal                       57\n",
       "Training                    51\n",
       "Financial Analyst           41\n",
       "Supply Chain                41\n",
       "Distribution                30\n",
       "Purchasing                  17\n",
       "Science                     15\n",
       "Name: function, dtype: int64"
      ]
     },
     "execution_count": 53,
     "metadata": {},
     "output_type": "execute_result"
    }
   ],
   "source": [
    "df['function'].value_counts()"
   ]
  },
  {
   "cell_type": "code",
   "execution_count": 54,
   "metadata": {},
   "outputs": [],
   "source": [
    "df.drop(df.index[14408:],inplace=True)"
   ]
  },
  {
   "cell_type": "code",
   "execution_count": 55,
   "metadata": {},
   "outputs": [
    {
     "name": "stdout",
     "output_type": "stream",
     "text": [
      "<class 'pandas.core.frame.DataFrame'>\n",
      "Int64Index: 14408 entries, 0 to 17878\n",
      "Data columns (total 15 columns):\n",
      " #   Column               Non-Null Count  Dtype \n",
      "---  ------               --------------  ----- \n",
      " 0   title                14408 non-null  object\n",
      " 1   location             14408 non-null  object\n",
      " 2   company_profile      14408 non-null  object\n",
      " 3   description          14408 non-null  object\n",
      " 4   requirements         14408 non-null  object\n",
      " 5   benefits             14408 non-null  object\n",
      " 6   telecommuting        14408 non-null  int64 \n",
      " 7   has_company_logo     14408 non-null  int64 \n",
      " 8   has_questions        14408 non-null  int64 \n",
      " 9   employment_type      14408 non-null  object\n",
      " 10  required_experience  14408 non-null  object\n",
      " 11  required_education   14408 non-null  object\n",
      " 12  industry             14408 non-null  object\n",
      " 13  function             14408 non-null  object\n",
      " 14  fraudulent           14408 non-null  int64 \n",
      "dtypes: int64(4), object(11)\n",
      "memory usage: 1.8+ MB\n"
     ]
    }
   ],
   "source": [
    "df.info()"
   ]
  },
  {
   "cell_type": "code",
   "execution_count": 56,
   "metadata": {},
   "outputs": [
    {
     "data": {
      "text/plain": [
       "title                  0\n",
       "location               0\n",
       "company_profile        0\n",
       "description            0\n",
       "requirements           0\n",
       "benefits               0\n",
       "telecommuting          0\n",
       "has_company_logo       0\n",
       "has_questions          0\n",
       "employment_type        0\n",
       "required_experience    0\n",
       "required_education     0\n",
       "industry               0\n",
       "function               0\n",
       "fraudulent             0\n",
       "dtype: int64"
      ]
     },
     "execution_count": 56,
     "metadata": {},
     "output_type": "execute_result"
    }
   ],
   "source": [
    "df.isnull().sum()"
   ]
  },
  {
   "cell_type": "code",
   "execution_count": 57,
   "metadata": {},
   "outputs": [
    {
     "data": {
      "text/plain": [
       "<AxesSubplot:>"
      ]
     },
     "execution_count": 57,
     "metadata": {},
     "output_type": "execute_result"
    },
    {
     "data": {
      "image/png": "[encoded data removed]",
      "text/plain": [
       "<Figure size 432x288 with 2 Axes>"
      ]
     },
     "metadata": {
      "needs_background": "light"
     },
     "output_type": "display_data"
    }
   ],
   "source": [
    "sns.heatmap(df.isnull(),yticklabels=False)"
   ]
  },
  {
   "cell_type": "markdown",
   "metadata": {},
   "source": [
    "#### All missing values have been dealt with!"
   ]
  },
  {
   "cell_type": "code",
   "execution_count": 58,
   "metadata": {},
   "outputs": [
    {
     "data": {
      "text/plain": [
       "<AxesSubplot:>"
      ]
     },
     "execution_count": 58,
     "metadata": {},
     "output_type": "execute_result"
    },
    {
     "data": {
      "image/png": "[encoded data removed]",
      "text/plain": [
       "<Figure size 432x288 with 2 Axes>"
      ]
     },
     "metadata": {
      "needs_background": "light"
     },
     "output_type": "display_data"
    }
   ],
   "source": [
    "sns.heatmap(df[['fraudulent' ,'has_company_logo','has_questions','telecommuting']].corr(),annot=True)"
   ]
  },
  {
   "cell_type": "code",
   "execution_count": 59,
   "metadata": {},
   "outputs": [
    {
     "data": {
      "text/plain": [
       "<AxesSubplot:xlabel='employment_type', ylabel='count'>"
      ]
     },
     "execution_count": 59,
     "metadata": {},
     "output_type": "execute_result"
    },
    {
     "data": {
      "image/png": "[encoded data removed]",
      "text/plain": [
       "<Figure size 1008x720 with 4 Axes>"
      ]
     },
     "metadata": {
      "needs_background": "light"
     },
     "output_type": "display_data"
    }
   ],
   "source": [
    "plt.figure(figsize=(14,10))\n",
    "plt.subplot(2,2,1)\n",
    "sns.countplot(x='telecommuting',hue='fraudulent',data=df)\n",
    "plt.subplot(2,2,2)\n",
    "sns.countplot(x='has_company_logo',hue='fraudulent',data=df)\n",
    "plt.subplot(2,2,3)\n",
    "sns.countplot(x='has_questions',hue='fraudulent',data=df)\n",
    "plt.subplot(2,2,4)\n",
    "sns.countplot(x='employment_type',hue='fraudulent',data=df)"
   ]
  },
  {
   "cell_type": "markdown",
   "metadata": {},
   "source": [
    "#### We can see from the above graphs about the trends of fraudulency based on various parametrs:\n",
    "     1. In the firt plot it is clear that the ratio of fraudulency to telecommuting cases are more when a job type demands\n",
    "       telecommuting.\n",
    "     2. In case of company logo not present fraudulency is more.\n",
    "     3. In case of no questions fraudulency is more in fact there is more of a negative correlation in case of this feature.\n",
    "     4. Full time employment type posseses more fraudulency as compared to other types."
   ]
  },
  {
   "cell_type": "markdown",
   "metadata": {},
   "source": [
    "#### Feature Engineering"
   ]
  },
  {
   "cell_type": "code",
   "execution_count": 60,
   "metadata": {},
   "outputs": [
    {
     "data": {
      "text/plain": [
       "0    13783\n",
       "1      625\n",
       "Name: fraudulent, dtype: int64"
      ]
     },
     "execution_count": 60,
     "metadata": {},
     "output_type": "execute_result"
    }
   ],
   "source": [
    "df['fraudulent'].value_counts()"
   ]
  },
  {
   "cell_type": "markdown",
   "metadata": {},
   "source": [
    "It is clearly an imbalanced data set we apply the Oversampling technique to balance the data"
   ]
  },
  {
   "cell_type": "code",
   "execution_count": 61,
   "metadata": {},
   "outputs": [
    {
     "data": {
      "text/plain": [
       "title                   8929\n",
       "location                2583\n",
       "company_profile         1567\n",
       "description            11987\n",
       "requirements           10231\n",
       "benefits                5297\n",
       "telecommuting              2\n",
       "has_company_logo           2\n",
       "has_questions              2\n",
       "employment_type            5\n",
       "required_experience        7\n",
       "required_education        13\n",
       "industry                 131\n",
       "function                  37\n",
       "fraudulent                 2\n",
       "dtype: int64"
      ]
     },
     "execution_count": 61,
     "metadata": {},
     "output_type": "execute_result"
    }
   ],
   "source": [
    "df.nunique()"
   ]
  },
  {
   "cell_type": "markdown",
   "metadata": {},
   "source": [
    "We need to drop certain features in order to label certain categories"
   ]
  },
  {
   "cell_type": "code",
   "execution_count": 62,
   "metadata": {},
   "outputs": [],
   "source": [
    "features=['title','location','company_profile','description','requirements','benefits','industry','function']\n",
    "df.drop(features,axis=1,inplace=True)"
   ]
  },
  {
   "cell_type": "code",
   "execution_count": 63,
   "metadata": {},
   "outputs": [
    {
     "data": {
      "text/plain": [
       "telecommuting           int64\n",
       "has_company_logo        int64\n",
       "has_questions           int64\n",
       "employment_type        object\n",
       "required_experience    object\n",
       "required_education     object\n",
       "fraudulent              int64\n",
       "dtype: object"
      ]
     },
     "execution_count": 63,
     "metadata": {},
     "output_type": "execute_result"
    }
   ],
   "source": [
    "df.dtypes"
   ]
  },
  {
   "cell_type": "markdown",
   "metadata": {},
   "source": [
    "Dividing data into dependent and independent sets:"
   ]
  },
  {
   "cell_type": "code",
   "execution_count": 64,
   "metadata": {},
   "outputs": [],
   "source": [
    "X=df.drop('fraudulent',axis=1)\n",
    "y=df['fraudulent']"
   ]
  },
  {
   "cell_type": "code",
   "execution_count": 65,
   "metadata": {},
   "outputs": [
    {
     "data": {
      "text/plain": [
       "['telecommuting',\n",
       " 'has_company_logo',\n",
       " 'has_questions',\n",
       " 'employment_type',\n",
       " 'required_experience',\n",
       " 'required_education']"
      ]
     },
     "execution_count": 65,
     "metadata": {},
     "output_type": "execute_result"
    }
   ],
   "source": [
    "#categorical=X.select_dtypes('Object').columns.tolist()\n",
    "categorical=X.columns.tolist()\n",
    "categorical"
   ]
  },
  {
   "cell_type": "code",
   "execution_count": 66,
   "metadata": {},
   "outputs": [],
   "source": [
    "from sklearn.preprocessing import LabelEncoder\n",
    "le=LabelEncoder()\n",
    "for i in categorical:\n",
    "      df[i]=le.fit_transform(df[i])"
   ]
  },
  {
   "cell_type": "code",
   "execution_count": 67,
   "metadata": {},
   "outputs": [
    {
     "data": {
      "text/html": [
       "<div>\n",
       "<style scoped>\n",
       "    .dataframe tbody tr th:only-of-type {\n",
       "        vertical-align: middle;\n",
       "    }\n",
       "\n",
       "    .dataframe tbody tr th {\n",
       "        vertical-align: top;\n",
       "    }\n",
       "\n",
       "    .dataframe thead th {\n",
       "        text-align: right;\n",
       "    }\n",
       "</style>\n",
       "<table border=\"1\" class=\"dataframe\">\n",
       "  <thead>\n",
       "    <tr style=\"text-align: right;\">\n",
       "      <th></th>\n",
       "      <th>telecommuting</th>\n",
       "      <th>has_company_logo</th>\n",
       "      <th>has_questions</th>\n",
       "      <th>employment_type</th>\n",
       "      <th>required_experience</th>\n",
       "      <th>required_education</th>\n",
       "      <th>fraudulent</th>\n",
       "    </tr>\n",
       "  </thead>\n",
       "  <tbody>\n",
       "    <tr>\n",
       "      <th>0</th>\n",
       "      <td>0</td>\n",
       "      <td>1</td>\n",
       "      <td>0</td>\n",
       "      <td>2</td>\n",
       "      <td>4</td>\n",
       "      <td>1</td>\n",
       "      <td>0</td>\n",
       "    </tr>\n",
       "    <tr>\n",
       "      <th>1</th>\n",
       "      <td>0</td>\n",
       "      <td>1</td>\n",
       "      <td>0</td>\n",
       "      <td>1</td>\n",
       "      <td>6</td>\n",
       "      <td>1</td>\n",
       "      <td>0</td>\n",
       "    </tr>\n",
       "    <tr>\n",
       "      <th>3</th>\n",
       "      <td>0</td>\n",
       "      <td>1</td>\n",
       "      <td>0</td>\n",
       "      <td>1</td>\n",
       "      <td>5</td>\n",
       "      <td>1</td>\n",
       "      <td>0</td>\n",
       "    </tr>\n",
       "    <tr>\n",
       "      <th>4</th>\n",
       "      <td>0</td>\n",
       "      <td>1</td>\n",
       "      <td>1</td>\n",
       "      <td>1</td>\n",
       "      <td>5</td>\n",
       "      <td>1</td>\n",
       "      <td>0</td>\n",
       "    </tr>\n",
       "    <tr>\n",
       "      <th>6</th>\n",
       "      <td>0</td>\n",
       "      <td>1</td>\n",
       "      <td>1</td>\n",
       "      <td>1</td>\n",
       "      <td>5</td>\n",
       "      <td>5</td>\n",
       "      <td>0</td>\n",
       "    </tr>\n",
       "  </tbody>\n",
       "</table>\n",
       "</div>"
      ],
      "text/plain": [
       "   telecommuting  has_company_logo  has_questions  employment_type  \\\n",
       "0              0                 1              0                2   \n",
       "1              0                 1              0                1   \n",
       "3              0                 1              0                1   \n",
       "4              0                 1              1                1   \n",
       "6              0                 1              1                1   \n",
       "\n",
       "   required_experience  required_education  fraudulent  \n",
       "0                    4                   1           0  \n",
       "1                    6                   1           0  \n",
       "3                    5                   1           0  \n",
       "4                    5                   1           0  \n",
       "6                    5                   5           0  "
      ]
     },
     "execution_count": 67,
     "metadata": {},
     "output_type": "execute_result"
    }
   ],
   "source": [
    "df.head()"
   ]
  },
  {
   "cell_type": "code",
   "execution_count": 68,
   "metadata": {},
   "outputs": [],
   "source": [
    "df.reset_index(drop=True,inplace=True)"
   ]
  },
  {
   "cell_type": "code",
   "execution_count": 69,
   "metadata": {},
   "outputs": [
    {
     "data": {
      "text/html": [
       "<div>\n",
       "<style scoped>\n",
       "    .dataframe tbody tr th:only-of-type {\n",
       "        vertical-align: middle;\n",
       "    }\n",
       "\n",
       "    .dataframe tbody tr th {\n",
       "        vertical-align: top;\n",
       "    }\n",
       "\n",
       "    .dataframe thead th {\n",
       "        text-align: right;\n",
       "    }\n",
       "</style>\n",
       "<table border=\"1\" class=\"dataframe\">\n",
       "  <thead>\n",
       "    <tr style=\"text-align: right;\">\n",
       "      <th></th>\n",
       "      <th>telecommuting</th>\n",
       "      <th>has_company_logo</th>\n",
       "      <th>has_questions</th>\n",
       "      <th>employment_type</th>\n",
       "      <th>required_experience</th>\n",
       "      <th>required_education</th>\n",
       "      <th>fraudulent</th>\n",
       "    </tr>\n",
       "  </thead>\n",
       "  <tbody>\n",
       "    <tr>\n",
       "      <th>0</th>\n",
       "      <td>0</td>\n",
       "      <td>1</td>\n",
       "      <td>0</td>\n",
       "      <td>2</td>\n",
       "      <td>4</td>\n",
       "      <td>1</td>\n",
       "      <td>0</td>\n",
       "    </tr>\n",
       "    <tr>\n",
       "      <th>1</th>\n",
       "      <td>0</td>\n",
       "      <td>1</td>\n",
       "      <td>0</td>\n",
       "      <td>1</td>\n",
       "      <td>6</td>\n",
       "      <td>1</td>\n",
       "      <td>0</td>\n",
       "    </tr>\n",
       "    <tr>\n",
       "      <th>2</th>\n",
       "      <td>0</td>\n",
       "      <td>1</td>\n",
       "      <td>0</td>\n",
       "      <td>1</td>\n",
       "      <td>5</td>\n",
       "      <td>1</td>\n",
       "      <td>0</td>\n",
       "    </tr>\n",
       "    <tr>\n",
       "      <th>3</th>\n",
       "      <td>0</td>\n",
       "      <td>1</td>\n",
       "      <td>1</td>\n",
       "      <td>1</td>\n",
       "      <td>5</td>\n",
       "      <td>1</td>\n",
       "      <td>0</td>\n",
       "    </tr>\n",
       "    <tr>\n",
       "      <th>4</th>\n",
       "      <td>0</td>\n",
       "      <td>1</td>\n",
       "      <td>1</td>\n",
       "      <td>1</td>\n",
       "      <td>5</td>\n",
       "      <td>5</td>\n",
       "      <td>0</td>\n",
       "    </tr>\n",
       "  </tbody>\n",
       "</table>\n",
       "</div>"
      ],
      "text/plain": [
       "   telecommuting  has_company_logo  has_questions  employment_type  \\\n",
       "0              0                 1              0                2   \n",
       "1              0                 1              0                1   \n",
       "2              0                 1              0                1   \n",
       "3              0                 1              1                1   \n",
       "4              0                 1              1                1   \n",
       "\n",
       "   required_experience  required_education  fraudulent  \n",
       "0                    4                   1           0  \n",
       "1                    6                   1           0  \n",
       "2                    5                   1           0  \n",
       "3                    5                   1           0  \n",
       "4                    5                   5           0  "
      ]
     },
     "execution_count": 69,
     "metadata": {},
     "output_type": "execute_result"
    }
   ],
   "source": [
    "df.head()"
   ]
  },
  {
   "cell_type": "code",
   "execution_count": 70,
   "metadata": {},
   "outputs": [
    {
     "data": {
      "text/plain": [
       "<AxesSubplot:>"
      ]
     },
     "execution_count": 70,
     "metadata": {},
     "output_type": "execute_result"
    },
    {
     "data": {
      "image/png": "[encoded data removed]",
      "text/plain": [
       "<Figure size 432x288 with 2 Axes>"
      ]
     },
     "metadata": {
      "needs_background": "light"
     },
     "output_type": "display_data"
    }
   ],
   "source": [
    "sns.heatmap(df.corr(),annot=True)"
   ]
  },
  {
   "cell_type": "markdown",
   "metadata": {},
   "source": [
    "It is visible from above that has_company_logo feature shows max correlation with fraudulency."
   ]
  },
  {
   "cell_type": "markdown",
   "metadata": {},
   "source": [
    "normalizing the dataset:"
   ]
  },
  {
   "cell_type": "code",
   "execution_count": 71,
   "metadata": {},
   "outputs": [],
   "source": [
    "from sklearn.preprocessing import StandardScaler\n",
    "ss=StandardScaler()\n",
    "X_norm=ss.fit_transform(df[categorical])"
   ]
  },
  {
   "cell_type": "markdown",
   "metadata": {},
   "source": [
    "Random Oversampling:"
   ]
  },
  {
   "cell_type": "code",
   "execution_count": 72,
   "metadata": {},
   "outputs": [],
   "source": [
    "from imblearn.over_sampling import RandomOverSampler\n",
    "rs=RandomOverSampler(sampling_strategy='minority')\n",
    "X_over,y_over=rs.fit_resample(X_norm,y)"
   ]
  },
  {
   "cell_type": "code",
   "execution_count": 73,
   "metadata": {},
   "outputs": [
    {
     "data": {
      "text/plain": [
       "1    13783\n",
       "0    13783\n",
       "Name: fraudulent, dtype: int64"
      ]
     },
     "execution_count": 73,
     "metadata": {},
     "output_type": "execute_result"
    }
   ],
   "source": [
    "y_over.value_counts()"
   ]
  },
  {
   "cell_type": "markdown",
   "metadata": {},
   "source": [
    "Splitting into train and test set:"
   ]
  },
  {
   "cell_type": "code",
   "execution_count": 74,
   "metadata": {},
   "outputs": [],
   "source": [
    "from sklearn.model_selection import train_test_split\n",
    "X_train,X_test,y_train,y_test=train_test_split(X_over,y_over,test_size=0.15,random_state=42)"
   ]
  },
  {
   "cell_type": "code",
   "execution_count": 75,
   "metadata": {},
   "outputs": [
    {
     "data": {
      "text/plain": [
       "((23431, 6), (23431,), (4135, 6), (4135,))"
      ]
     },
     "execution_count": 75,
     "metadata": {},
     "output_type": "execute_result"
    }
   ],
   "source": [
    "X_train.shape,y_train.shape,X_test.shape,y_test.shape"
   ]
  },
  {
   "cell_type": "markdown",
   "metadata": {},
   "source": [
    "#### Model Building"
   ]
  },
  {
   "cell_type": "markdown",
   "metadata": {},
   "source": [
    "#### 1. Decision Tree"
   ]
  },
  {
   "cell_type": "code",
   "execution_count": 76,
   "metadata": {},
   "outputs": [],
   "source": [
    "from sklearn.tree import DecisionTreeClassifier\n",
    "DT=DecisionTreeClassifier(criterion='entropy')\n",
    "DT.fit(X_train,y_train)\n",
    "y_predict=DT.predict(X_test)"
   ]
  },
  {
   "cell_type": "code",
   "execution_count": 77,
   "metadata": {},
   "outputs": [
    {
     "data": {
      "text/plain": [
       "0.8026602176541717"
      ]
     },
     "execution_count": 77,
     "metadata": {},
     "output_type": "execute_result"
    }
   ],
   "source": [
    "from sklearn.metrics import accuracy_score\n",
    "accuracy_score(y_test,y_predict)"
   ]
  },
  {
   "cell_type": "markdown",
   "metadata": {},
   "source": [
    "#### Changing the max_depth"
   ]
  },
  {
   "cell_type": "code",
   "execution_count": 78,
   "metadata": {},
   "outputs": [],
   "source": [
    "train_accuracy=[]\n",
    "validation=[]\n",
    "for i in range (1,30):\n",
    "    DT=DecisionTreeClassifier(criterion='entropy',max_depth=i,random_state=10)\n",
    "    DT.fit(X_train,y_train)\n",
    "    train_accuracy.append(DT.score(X_train,y_train))\n",
    "    validation.append(DT.score(X_test,y_test))"
   ]
  },
  {
   "cell_type": "code",
   "execution_count": 79,
   "metadata": {},
   "outputs": [
    {
     "data": {
      "text/html": [
       "<div>\n",
       "<style scoped>\n",
       "    .dataframe tbody tr th:only-of-type {\n",
       "        vertical-align: middle;\n",
       "    }\n",
       "\n",
       "    .dataframe tbody tr th {\n",
       "        vertical-align: top;\n",
       "    }\n",
       "\n",
       "    .dataframe thead th {\n",
       "        text-align: right;\n",
       "    }\n",
       "</style>\n",
       "<table border=\"1\" class=\"dataframe\">\n",
       "  <thead>\n",
       "    <tr style=\"text-align: right;\">\n",
       "      <th></th>\n",
       "      <th>max_depth</th>\n",
       "      <th>train_accuracy</th>\n",
       "      <th>validation</th>\n",
       "    </tr>\n",
       "  </thead>\n",
       "  <tbody>\n",
       "    <tr>\n",
       "      <th>0</th>\n",
       "      <td>1</td>\n",
       "      <td>0.713158</td>\n",
       "      <td>0.717291</td>\n",
       "    </tr>\n",
       "    <tr>\n",
       "      <th>1</th>\n",
       "      <td>2</td>\n",
       "      <td>0.713158</td>\n",
       "      <td>0.717291</td>\n",
       "    </tr>\n",
       "    <tr>\n",
       "      <th>2</th>\n",
       "      <td>3</td>\n",
       "      <td>0.721224</td>\n",
       "      <td>0.723579</td>\n",
       "    </tr>\n",
       "    <tr>\n",
       "      <th>3</th>\n",
       "      <td>4</td>\n",
       "      <td>0.735479</td>\n",
       "      <td>0.733495</td>\n",
       "    </tr>\n",
       "    <tr>\n",
       "      <th>4</th>\n",
       "      <td>5</td>\n",
       "      <td>0.746191</td>\n",
       "      <td>0.744135</td>\n",
       "    </tr>\n",
       "  </tbody>\n",
       "</table>\n",
       "</div>"
      ],
      "text/plain": [
       "   max_depth  train_accuracy  validation\n",
       "0          1        0.713158    0.717291\n",
       "1          2        0.713158    0.717291\n",
       "2          3        0.721224    0.723579\n",
       "3          4        0.735479    0.733495\n",
       "4          5        0.746191    0.744135"
      ]
     },
     "execution_count": 79,
     "metadata": {},
     "output_type": "execute_result"
    }
   ],
   "source": [
    "frame=pd.DataFrame({'max_depth':range(1,30),'train_accuracy':train_accuracy,'validation':validation})\n",
    "frame.head()"
   ]
  },
  {
   "cell_type": "code",
   "execution_count": 80,
   "metadata": {},
   "outputs": [
    {
     "data": {
      "image/png": "[encoded data removed]",
      "text/plain": [
       "<Figure size 720x576 with 1 Axes>"
      ]
     },
     "metadata": {
      "needs_background": "light"
     },
     "output_type": "display_data"
    }
   ],
   "source": [
    "plt.figure(figsize=(10,8))\n",
    "plt.plot(frame['max_depth'],frame['train_accuracy'],marker='o')\n",
    "plt.plot(frame['max_depth'],frame['validation'],marker='o')\n",
    "plt.xlabel('Depth of tree')\n",
    "plt.ylabel('Performance')\n",
    "plt.legend(frame[['train_accuracy','validation']])\n",
    "plt.show()"
   ]
  },
  {
   "cell_type": "markdown",
   "metadata": {},
   "source": [
    "We can see from above that the training and validation accuracy is similar and maximum at depth=10 "
   ]
  },
  {
   "cell_type": "markdown",
   "metadata": {},
   "source": [
    "#### Changing the criterion this time to gini"
   ]
  },
  {
   "cell_type": "code",
   "execution_count": 81,
   "metadata": {},
   "outputs": [],
   "source": [
    "train_accuracy=[]\n",
    "validation=[]\n",
    "for i in range (1,20):\n",
    "    DT=DecisionTreeClassifier(criterion='gini',max_depth=i,random_state=10)\n",
    "    DT.fit(X_train,y_train)\n",
    "    train_accuracy.append(DT.score(X_train,y_train))\n",
    "    validation.append(DT.score(X_test,y_test))"
   ]
  },
  {
   "cell_type": "code",
   "execution_count": 82,
   "metadata": {},
   "outputs": [
    {
     "data": {
      "text/html": [
       "<div>\n",
       "<style scoped>\n",
       "    .dataframe tbody tr th:only-of-type {\n",
       "        vertical-align: middle;\n",
       "    }\n",
       "\n",
       "    .dataframe tbody tr th {\n",
       "        vertical-align: top;\n",
       "    }\n",
       "\n",
       "    .dataframe thead th {\n",
       "        text-align: right;\n",
       "    }\n",
       "</style>\n",
       "<table border=\"1\" class=\"dataframe\">\n",
       "  <thead>\n",
       "    <tr style=\"text-align: right;\">\n",
       "      <th></th>\n",
       "      <th>max_depth</th>\n",
       "      <th>train_accuracy</th>\n",
       "      <th>validation</th>\n",
       "    </tr>\n",
       "  </thead>\n",
       "  <tbody>\n",
       "    <tr>\n",
       "      <th>0</th>\n",
       "      <td>1</td>\n",
       "      <td>0.713158</td>\n",
       "      <td>0.717291</td>\n",
       "    </tr>\n",
       "    <tr>\n",
       "      <th>1</th>\n",
       "      <td>2</td>\n",
       "      <td>0.713158</td>\n",
       "      <td>0.717291</td>\n",
       "    </tr>\n",
       "    <tr>\n",
       "      <th>2</th>\n",
       "      <td>3</td>\n",
       "      <td>0.721224</td>\n",
       "      <td>0.723579</td>\n",
       "    </tr>\n",
       "    <tr>\n",
       "      <th>3</th>\n",
       "      <td>4</td>\n",
       "      <td>0.735479</td>\n",
       "      <td>0.733495</td>\n",
       "    </tr>\n",
       "    <tr>\n",
       "      <th>4</th>\n",
       "      <td>5</td>\n",
       "      <td>0.748496</td>\n",
       "      <td>0.747037</td>\n",
       "    </tr>\n",
       "  </tbody>\n",
       "</table>\n",
       "</div>"
      ],
      "text/plain": [
       "   max_depth  train_accuracy  validation\n",
       "0          1        0.713158    0.717291\n",
       "1          2        0.713158    0.717291\n",
       "2          3        0.721224    0.723579\n",
       "3          4        0.735479    0.733495\n",
       "4          5        0.748496    0.747037"
      ]
     },
     "execution_count": 82,
     "metadata": {},
     "output_type": "execute_result"
    }
   ],
   "source": [
    "frame=pd.DataFrame({'max_depth':range(1,20),'train_accuracy':train_accuracy,'validation':validation})\n",
    "frame.head()"
   ]
  },
  {
   "cell_type": "code",
   "execution_count": 83,
   "metadata": {},
   "outputs": [
    {
     "data": {
      "image/png": "[encoded data removed]",
      "text/plain": [
       "<Figure size 720x576 with 1 Axes>"
      ]
     },
     "metadata": {
      "needs_background": "light"
     },
     "output_type": "display_data"
    }
   ],
   "source": [
    "plt.figure(figsize=(10,8))\n",
    "plt.plot(frame['max_depth'],frame['train_accuracy'],marker='o')\n",
    "plt.plot(frame['max_depth'],frame['validation'],marker='o')\n",
    "plt.xlabel('Depth of tree')\n",
    "plt.ylabel('Performance')\n",
    "plt.legend(frame[['train_accuracy','validation']])\n",
    "plt.show()"
   ]
  },
  {
   "cell_type": "markdown",
   "metadata": {},
   "source": [
    "We can see similar curve here and maximum training an testing accuracy to be similar at a depth of 10."
   ]
  },
  {
   "cell_type": "markdown",
   "metadata": {},
   "source": [
    "### 2. SVM Model"
   ]
  },
  {
   "cell_type": "code",
   "execution_count": 84,
   "metadata": {},
   "outputs": [],
   "source": [
    "from sklearn import svm\n",
    "classifier=svm.SVC(kernel='linear',gamma='auto',C=2)\n",
    "classifier.fit(X_train,y_train)\n",
    "y_predict=classifier.predict(X_test)"
   ]
  },
  {
   "cell_type": "code",
   "execution_count": 85,
   "metadata": {},
   "outputs": [
    {
     "name": "stdout",
     "output_type": "stream",
     "text": [
      "              precision    recall  f1-score   support\n",
      "\n",
      "           0       0.68      0.82      0.75      2094\n",
      "           1       0.77      0.61      0.68      2041\n",
      "\n",
      "    accuracy                           0.72      4135\n",
      "   macro avg       0.73      0.72      0.71      4135\n",
      "weighted avg       0.73      0.72      0.71      4135\n",
      "\n"
     ]
    }
   ],
   "source": [
    "from sklearn.metrics import classification_report\n",
    "print(classification_report(y_test,y_predict))"
   ]
  },
  {
   "cell_type": "code",
   "execution_count": 86,
   "metadata": {},
   "outputs": [],
   "source": [
    "classifier=svm.SVC(kernel='poly',gamma='auto',C=2)\n",
    "classifier.fit(X_train,y_train)\n",
    "y_predict=classifier.predict(X_test)"
   ]
  },
  {
   "cell_type": "code",
   "execution_count": 87,
   "metadata": {},
   "outputs": [
    {
     "name": "stdout",
     "output_type": "stream",
     "text": [
      "              precision    recall  f1-score   support\n",
      "\n",
      "           0       0.70      0.82      0.76      2094\n",
      "           1       0.78      0.63      0.70      2041\n",
      "\n",
      "    accuracy                           0.73      4135\n",
      "   macro avg       0.74      0.73      0.73      4135\n",
      "weighted avg       0.74      0.73      0.73      4135\n",
      "\n"
     ]
    }
   ],
   "source": [
    "print(classification_report(y_test,y_predict))"
   ]
  },
  {
   "cell_type": "code",
   "execution_count": 88,
   "metadata": {},
   "outputs": [],
   "source": [
    "classifier=svm.SVC(kernel='rbf',gamma='auto',C=2)\n",
    "classifier.fit(X_train,y_train)\n",
    "y_predict=classifier.predict(X_test)"
   ]
  },
  {
   "cell_type": "code",
   "execution_count": 89,
   "metadata": {},
   "outputs": [
    {
     "name": "stdout",
     "output_type": "stream",
     "text": [
      "              precision    recall  f1-score   support\n",
      "\n",
      "           0       0.75      0.78      0.76      2094\n",
      "           1       0.76      0.73      0.75      2041\n",
      "\n",
      "    accuracy                           0.76      4135\n",
      "   macro avg       0.76      0.76      0.76      4135\n",
      "weighted avg       0.76      0.76      0.76      4135\n",
      "\n"
     ]
    }
   ],
   "source": [
    "print(classification_report(y_test,y_predict))"
   ]
  },
  {
   "cell_type": "code",
   "execution_count": 90,
   "metadata": {},
   "outputs": [],
   "source": [
    "classifier=svm.SVC(kernel='sigmoid',gamma='auto',C=2)\n",
    "classifier.fit(X_train,y_train)\n",
    "y_predict=classifier.predict(X_test)"
   ]
  },
  {
   "cell_type": "code",
   "execution_count": 91,
   "metadata": {},
   "outputs": [
    {
     "name": "stdout",
     "output_type": "stream",
     "text": [
      "              precision    recall  f1-score   support\n",
      "\n",
      "           0       0.53      0.56      0.54      2094\n",
      "           1       0.52      0.50      0.51      2041\n",
      "\n",
      "    accuracy                           0.53      4135\n",
      "   macro avg       0.53      0.53      0.53      4135\n",
      "weighted avg       0.53      0.53      0.53      4135\n",
      "\n"
     ]
    }
   ],
   "source": [
    "print(classification_report(y_test,y_predict))"
   ]
  },
  {
   "cell_type": "markdown",
   "metadata": {},
   "source": [
    "Hence we can see the best scores were for the rbf kernel but still the accuracy was lower compared to previous model."
   ]
  }
 ],
 "metadata": {
  "kernelspec": {
   "display_name": "Python 3",
   "language": "python",
   "name": "python3"
  },
  "language_info": {
   "codemirror_mode": {
    "name": "ipython",
    "version": 3
   },
   "file_extension": ".py",
   "mimetype": "text/x-python",
   "name": "python",
   "nbconvert_exporter": "python",
   "pygments_lexer": "ipython3",
   "version": "3.8.5"
  }
 },
 "nbformat": 4,
 "nbformat_minor": 4
}
